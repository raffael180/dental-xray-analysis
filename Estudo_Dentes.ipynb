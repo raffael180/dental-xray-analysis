{
 "cells": [
  {
   "cell_type": "code",
   "execution_count": 1,
   "metadata": {
    "colab": {
     "base_uri": "https://localhost:8080/"
    },
    "id": "inGSX7q6Nwpx",
    "outputId": "0405ac1b-ff28-49d8-bc39-25a82f9f06c2"
   },
   "outputs": [
    {
     "name": "stdout",
     "output_type": "stream",
     "text": [
      "Collecting ultralytics\n",
      "  Downloading ultralytics-8.3.155-py3-none-any.whl.metadata (37 kB)\n",
      "Requirement already satisfied: numpy>=1.23.0 in /usr/local/lib/python3.11/dist-packages (from ultralytics) (2.0.2)\n",
      "Requirement already satisfied: matplotlib>=3.3.0 in /usr/local/lib/python3.11/dist-packages (from ultralytics) (3.10.0)\n",
      "Requirement already satisfied: opencv-python>=4.6.0 in /usr/local/lib/python3.11/dist-packages (from ultralytics) (4.11.0.86)\n",
      "Requirement already satisfied: pillow>=7.1.2 in /usr/local/lib/python3.11/dist-packages (from ultralytics) (11.2.1)\n",
      "Requirement already satisfied: pyyaml>=5.3.1 in /usr/local/lib/python3.11/dist-packages (from ultralytics) (6.0.2)\n",
      "Requirement already satisfied: requests>=2.23.0 in /usr/local/lib/python3.11/dist-packages (from ultralytics) (2.32.3)\n",
      "Requirement already satisfied: scipy>=1.4.1 in /usr/local/lib/python3.11/dist-packages (from ultralytics) (1.15.3)\n",
      "Requirement already satisfied: torch>=1.8.0 in /usr/local/lib/python3.11/dist-packages (from ultralytics) (2.6.0+cu124)\n",
      "Requirement already satisfied: torchvision>=0.9.0 in /usr/local/lib/python3.11/dist-packages (from ultralytics) (0.21.0+cu124)\n",
      "Requirement already satisfied: tqdm>=4.64.0 in /usr/local/lib/python3.11/dist-packages (from ultralytics) (4.67.1)\n",
      "Requirement already satisfied: psutil in /usr/local/lib/python3.11/dist-packages (from ultralytics) (5.9.5)\n",
      "Requirement already satisfied: py-cpuinfo in /usr/local/lib/python3.11/dist-packages (from ultralytics) (9.0.0)\n",
      "Requirement already satisfied: pandas>=1.1.4 in /usr/local/lib/python3.11/dist-packages (from ultralytics) (2.2.2)\n",
      "Collecting ultralytics-thop>=2.0.0 (from ultralytics)\n",
      "  Downloading ultralytics_thop-2.0.14-py3-none-any.whl.metadata (9.4 kB)\n",
      "Requirement already satisfied: contourpy>=1.0.1 in /usr/local/lib/python3.11/dist-packages (from matplotlib>=3.3.0->ultralytics) (1.3.2)\n",
      "Requirement already satisfied: cycler>=0.10 in /usr/local/lib/python3.11/dist-packages (from matplotlib>=3.3.0->ultralytics) (0.12.1)\n",
      "Requirement already satisfied: fonttools>=4.22.0 in /usr/local/lib/python3.11/dist-packages (from matplotlib>=3.3.0->ultralytics) (4.58.2)\n",
      "Requirement already satisfied: kiwisolver>=1.3.1 in /usr/local/lib/python3.11/dist-packages (from matplotlib>=3.3.0->ultralytics) (1.4.8)\n",
      "Requirement already satisfied: packaging>=20.0 in /usr/local/lib/python3.11/dist-packages (from matplotlib>=3.3.0->ultralytics) (24.2)\n",
      "Requirement already satisfied: pyparsing>=2.3.1 in /usr/local/lib/python3.11/dist-packages (from matplotlib>=3.3.0->ultralytics) (3.2.3)\n",
      "Requirement already satisfied: python-dateutil>=2.7 in /usr/local/lib/python3.11/dist-packages (from matplotlib>=3.3.0->ultralytics) (2.9.0.post0)\n",
      "Requirement already satisfied: pytz>=2020.1 in /usr/local/lib/python3.11/dist-packages (from pandas>=1.1.4->ultralytics) (2025.2)\n",
      "Requirement already satisfied: tzdata>=2022.7 in /usr/local/lib/python3.11/dist-packages (from pandas>=1.1.4->ultralytics) (2025.2)\n",
      "Requirement already satisfied: charset-normalizer<4,>=2 in /usr/local/lib/python3.11/dist-packages (from requests>=2.23.0->ultralytics) (3.4.2)\n",
      "Requirement already satisfied: idna<4,>=2.5 in /usr/local/lib/python3.11/dist-packages (from requests>=2.23.0->ultralytics) (3.10)\n",
      "Requirement already satisfied: urllib3<3,>=1.21.1 in /usr/local/lib/python3.11/dist-packages (from requests>=2.23.0->ultralytics) (2.4.0)\n",
      "Requirement already satisfied: certifi>=2017.4.17 in /usr/local/lib/python3.11/dist-packages (from requests>=2.23.0->ultralytics) (2025.4.26)\n",
      "Requirement already satisfied: filelock in /usr/local/lib/python3.11/dist-packages (from torch>=1.8.0->ultralytics) (3.18.0)\n",
      "Requirement already satisfied: typing-extensions>=4.10.0 in /usr/local/lib/python3.11/dist-packages (from torch>=1.8.0->ultralytics) (4.14.0)\n",
      "Requirement already satisfied: networkx in /usr/local/lib/python3.11/dist-packages (from torch>=1.8.0->ultralytics) (3.5)\n",
      "Requirement already satisfied: jinja2 in /usr/local/lib/python3.11/dist-packages (from torch>=1.8.0->ultralytics) (3.1.6)\n",
      "Requirement already satisfied: fsspec in /usr/local/lib/python3.11/dist-packages (from torch>=1.8.0->ultralytics) (2025.3.2)\n",
      "Collecting nvidia-cuda-nvrtc-cu12==12.4.127 (from torch>=1.8.0->ultralytics)\n",
      "  Downloading nvidia_cuda_nvrtc_cu12-12.4.127-py3-none-manylinux2014_x86_64.whl.metadata (1.5 kB)\n",
      "Collecting nvidia-cuda-runtime-cu12==12.4.127 (from torch>=1.8.0->ultralytics)\n",
      "  Downloading nvidia_cuda_runtime_cu12-12.4.127-py3-none-manylinux2014_x86_64.whl.metadata (1.5 kB)\n",
      "Collecting nvidia-cuda-cupti-cu12==12.4.127 (from torch>=1.8.0->ultralytics)\n",
      "  Downloading nvidia_cuda_cupti_cu12-12.4.127-py3-none-manylinux2014_x86_64.whl.metadata (1.6 kB)\n",
      "Collecting nvidia-cudnn-cu12==9.1.0.70 (from torch>=1.8.0->ultralytics)\n",
      "  Downloading nvidia_cudnn_cu12-9.1.0.70-py3-none-manylinux2014_x86_64.whl.metadata (1.6 kB)\n",
      "Collecting nvidia-cublas-cu12==12.4.5.8 (from torch>=1.8.0->ultralytics)\n",
      "  Downloading nvidia_cublas_cu12-12.4.5.8-py3-none-manylinux2014_x86_64.whl.metadata (1.5 kB)\n",
      "Collecting nvidia-cufft-cu12==11.2.1.3 (from torch>=1.8.0->ultralytics)\n",
      "  Downloading nvidia_cufft_cu12-11.2.1.3-py3-none-manylinux2014_x86_64.whl.metadata (1.5 kB)\n",
      "Collecting nvidia-curand-cu12==10.3.5.147 (from torch>=1.8.0->ultralytics)\n",
      "  Downloading nvidia_curand_cu12-10.3.5.147-py3-none-manylinux2014_x86_64.whl.metadata (1.5 kB)\n",
      "Collecting nvidia-cusolver-cu12==11.6.1.9 (from torch>=1.8.0->ultralytics)\n",
      "  Downloading nvidia_cusolver_cu12-11.6.1.9-py3-none-manylinux2014_x86_64.whl.metadata (1.6 kB)\n",
      "Collecting nvidia-cusparse-cu12==12.3.1.170 (from torch>=1.8.0->ultralytics)\n",
      "  Downloading nvidia_cusparse_cu12-12.3.1.170-py3-none-manylinux2014_x86_64.whl.metadata (1.6 kB)\n",
      "Requirement already satisfied: nvidia-cusparselt-cu12==0.6.2 in /usr/local/lib/python3.11/dist-packages (from torch>=1.8.0->ultralytics) (0.6.2)\n",
      "Requirement already satisfied: nvidia-nccl-cu12==2.21.5 in /usr/local/lib/python3.11/dist-packages (from torch>=1.8.0->ultralytics) (2.21.5)\n",
      "Requirement already satisfied: nvidia-nvtx-cu12==12.4.127 in /usr/local/lib/python3.11/dist-packages (from torch>=1.8.0->ultralytics) (12.4.127)\n",
      "Collecting nvidia-nvjitlink-cu12==12.4.127 (from torch>=1.8.0->ultralytics)\n",
      "  Downloading nvidia_nvjitlink_cu12-12.4.127-py3-none-manylinux2014_x86_64.whl.metadata (1.5 kB)\n",
      "Requirement already satisfied: triton==3.2.0 in /usr/local/lib/python3.11/dist-packages (from torch>=1.8.0->ultralytics) (3.2.0)\n",
      "Requirement already satisfied: sympy==1.13.1 in /usr/local/lib/python3.11/dist-packages (from torch>=1.8.0->ultralytics) (1.13.1)\n",
      "Requirement already satisfied: mpmath<1.4,>=1.1.0 in /usr/local/lib/python3.11/dist-packages (from sympy==1.13.1->torch>=1.8.0->ultralytics) (1.3.0)\n",
      "Requirement already satisfied: six>=1.5 in /usr/local/lib/python3.11/dist-packages (from python-dateutil>=2.7->matplotlib>=3.3.0->ultralytics) (1.17.0)\n",
      "Requirement already satisfied: MarkupSafe>=2.0 in /usr/local/lib/python3.11/dist-packages (from jinja2->torch>=1.8.0->ultralytics) (3.0.2)\n",
      "Downloading ultralytics-8.3.155-py3-none-any.whl (1.0 MB)\n",
      "\u001b[2K   \u001b[90m━━━━━━━━━━━━━━━━━━━━━━━━━━━━━━━━━━━━━━━━\u001b[0m \u001b[32m1.0/1.0 MB\u001b[0m \u001b[31m17.8 MB/s\u001b[0m eta \u001b[36m0:00:00\u001b[0m\n",
      "\u001b[?25hDownloading nvidia_cublas_cu12-12.4.5.8-py3-none-manylinux2014_x86_64.whl (363.4 MB)\n",
      "\u001b[2K   \u001b[90m━━━━━━━━━━━━━━━━━━━━━━━━━━━━━━━━━━━━━━━━\u001b[0m \u001b[32m363.4/363.4 MB\u001b[0m \u001b[31m4.2 MB/s\u001b[0m eta \u001b[36m0:00:00\u001b[0m\n",
      "\u001b[?25hDownloading nvidia_cuda_cupti_cu12-12.4.127-py3-none-manylinux2014_x86_64.whl (13.8 MB)\n",
      "\u001b[2K   \u001b[90m━━━━━━━━━━━━━━━━━━━━━━━━━━━━━━━━━━━━━━━━\u001b[0m \u001b[32m13.8/13.8 MB\u001b[0m \u001b[31m127.1 MB/s\u001b[0m eta \u001b[36m0:00:00\u001b[0m\n",
      "\u001b[?25hDownloading nvidia_cuda_nvrtc_cu12-12.4.127-py3-none-manylinux2014_x86_64.whl (24.6 MB)\n",
      "\u001b[2K   \u001b[90m━━━━━━━━━━━━━━━━━━━━━━━━━━━━━━━━━━━━━━━━\u001b[0m \u001b[32m24.6/24.6 MB\u001b[0m \u001b[31m97.4 MB/s\u001b[0m eta \u001b[36m0:00:00\u001b[0m\n",
      "\u001b[?25hDownloading nvidia_cuda_runtime_cu12-12.4.127-py3-none-manylinux2014_x86_64.whl (883 kB)\n",
      "\u001b[2K   \u001b[90m━━━━━━━━━━━━━━━━━━━━━━━━━━━━━━━━━━━━━━━━\u001b[0m \u001b[32m883.7/883.7 kB\u001b[0m \u001b[31m60.2 MB/s\u001b[0m eta \u001b[36m0:00:00\u001b[0m\n",
      "\u001b[?25hDownloading nvidia_cudnn_cu12-9.1.0.70-py3-none-manylinux2014_x86_64.whl (664.8 MB)\n",
      "\u001b[2K   \u001b[90m━━━━━━━━━━━━━━━━━━━━━━━━━━━━━━━━━━━━━━━━\u001b[0m \u001b[32m664.8/664.8 MB\u001b[0m \u001b[31m2.9 MB/s\u001b[0m eta \u001b[36m0:00:00\u001b[0m\n",
      "\u001b[?25hDownloading nvidia_cufft_cu12-11.2.1.3-py3-none-manylinux2014_x86_64.whl (211.5 MB)\n",
      "\u001b[2K   \u001b[90m━━━━━━━━━━━━━━━━━━━━━━━━━━━━━━━━━━━━━━━━\u001b[0m \u001b[32m211.5/211.5 MB\u001b[0m \u001b[31m5.5 MB/s\u001b[0m eta \u001b[36m0:00:00\u001b[0m\n",
      "\u001b[?25hDownloading nvidia_curand_cu12-10.3.5.147-py3-none-manylinux2014_x86_64.whl (56.3 MB)\n",
      "\u001b[2K   \u001b[90m━━━━━━━━━━━━━━━━━━━━━━━━━━━━━━━━━━━━━━━━\u001b[0m \u001b[32m56.3/56.3 MB\u001b[0m \u001b[31m12.8 MB/s\u001b[0m eta \u001b[36m0:00:00\u001b[0m\n",
      "\u001b[?25hDownloading nvidia_cusolver_cu12-11.6.1.9-py3-none-manylinux2014_x86_64.whl (127.9 MB)\n",
      "\u001b[2K   \u001b[90m━━━━━━━━━━━━━━━━━━━━━━━━━━━━━━━━━━━━━━━━\u001b[0m \u001b[32m127.9/127.9 MB\u001b[0m \u001b[31m7.5 MB/s\u001b[0m eta \u001b[36m0:00:00\u001b[0m\n",
      "\u001b[?25hDownloading nvidia_cusparse_cu12-12.3.1.170-py3-none-manylinux2014_x86_64.whl (207.5 MB)\n",
      "\u001b[2K   \u001b[90m━━━━━━━━━━━━━━━━━━━━━━━━━━━━━━━━━━━━━━━━\u001b[0m \u001b[32m207.5/207.5 MB\u001b[0m \u001b[31m5.6 MB/s\u001b[0m eta \u001b[36m0:00:00\u001b[0m\n",
      "\u001b[?25h\u001b[33mWARNING: Retrying (Retry(total=4, connect=None, read=None, redirect=None, status=None)) after connection broken by 'ProtocolError('Connection aborted.', RemoteDisconnected('Remote end closed connection without response'))': /packages/ff/ff/847841bacfbefc97a00036e0fce5a0f086b640756dc38caea5e1bb002655/nvidia_nvjitlink_cu12-12.4.127-py3-none-manylinux2014_x86_64.whl\u001b[0m\u001b[33m\n",
      "\u001b[0mDownloading nvidia_nvjitlink_cu12-12.4.127-py3-none-manylinux2014_x86_64.whl (21.1 MB)\n",
      "\u001b[2K   \u001b[90m━━━━━━━━━━━━━━━━━━━━━━━━━━━━━━━━━━━━━━━━\u001b[0m \u001b[32m21.1/21.1 MB\u001b[0m \u001b[31m86.9 MB/s\u001b[0m eta \u001b[36m0:00:00\u001b[0m\n",
      "\u001b[?25hDownloading ultralytics_thop-2.0.14-py3-none-any.whl (26 kB)\n",
      "Installing collected packages: nvidia-nvjitlink-cu12, nvidia-curand-cu12, nvidia-cufft-cu12, nvidia-cuda-runtime-cu12, nvidia-cuda-nvrtc-cu12, nvidia-cuda-cupti-cu12, nvidia-cublas-cu12, nvidia-cusparse-cu12, nvidia-cudnn-cu12, nvidia-cusolver-cu12, ultralytics-thop, ultralytics\n",
      "  Attempting uninstall: nvidia-nvjitlink-cu12\n",
      "    Found existing installation: nvidia-nvjitlink-cu12 12.5.82\n",
      "    Uninstalling nvidia-nvjitlink-cu12-12.5.82:\n",
      "      Successfully uninstalled nvidia-nvjitlink-cu12-12.5.82\n",
      "  Attempting uninstall: nvidia-curand-cu12\n",
      "    Found existing installation: nvidia-curand-cu12 10.3.6.82\n",
      "    Uninstalling nvidia-curand-cu12-10.3.6.82:\n",
      "      Successfully uninstalled nvidia-curand-cu12-10.3.6.82\n",
      "  Attempting uninstall: nvidia-cufft-cu12\n",
      "    Found existing installation: nvidia-cufft-cu12 11.2.3.61\n",
      "    Uninstalling nvidia-cufft-cu12-11.2.3.61:\n",
      "      Successfully uninstalled nvidia-cufft-cu12-11.2.3.61\n",
      "  Attempting uninstall: nvidia-cuda-runtime-cu12\n",
      "    Found existing installation: nvidia-cuda-runtime-cu12 12.5.82\n",
      "    Uninstalling nvidia-cuda-runtime-cu12-12.5.82:\n",
      "      Successfully uninstalled nvidia-cuda-runtime-cu12-12.5.82\n",
      "  Attempting uninstall: nvidia-cuda-nvrtc-cu12\n",
      "    Found existing installation: nvidia-cuda-nvrtc-cu12 12.5.82\n",
      "    Uninstalling nvidia-cuda-nvrtc-cu12-12.5.82:\n",
      "      Successfully uninstalled nvidia-cuda-nvrtc-cu12-12.5.82\n",
      "  Attempting uninstall: nvidia-cuda-cupti-cu12\n",
      "    Found existing installation: nvidia-cuda-cupti-cu12 12.5.82\n",
      "    Uninstalling nvidia-cuda-cupti-cu12-12.5.82:\n",
      "      Successfully uninstalled nvidia-cuda-cupti-cu12-12.5.82\n",
      "  Attempting uninstall: nvidia-cublas-cu12\n",
      "    Found existing installation: nvidia-cublas-cu12 12.5.3.2\n",
      "    Uninstalling nvidia-cublas-cu12-12.5.3.2:\n",
      "      Successfully uninstalled nvidia-cublas-cu12-12.5.3.2\n",
      "  Attempting uninstall: nvidia-cusparse-cu12\n",
      "    Found existing installation: nvidia-cusparse-cu12 12.5.1.3\n",
      "    Uninstalling nvidia-cusparse-cu12-12.5.1.3:\n",
      "      Successfully uninstalled nvidia-cusparse-cu12-12.5.1.3\n",
      "  Attempting uninstall: nvidia-cudnn-cu12\n",
      "    Found existing installation: nvidia-cudnn-cu12 9.3.0.75\n",
      "    Uninstalling nvidia-cudnn-cu12-9.3.0.75:\n",
      "      Successfully uninstalled nvidia-cudnn-cu12-9.3.0.75\n",
      "  Attempting uninstall: nvidia-cusolver-cu12\n",
      "    Found existing installation: nvidia-cusolver-cu12 11.6.3.83\n",
      "    Uninstalling nvidia-cusolver-cu12-11.6.3.83:\n",
      "      Successfully uninstalled nvidia-cusolver-cu12-11.6.3.83\n",
      "Successfully installed nvidia-cublas-cu12-12.4.5.8 nvidia-cuda-cupti-cu12-12.4.127 nvidia-cuda-nvrtc-cu12-12.4.127 nvidia-cuda-runtime-cu12-12.4.127 nvidia-cudnn-cu12-9.1.0.70 nvidia-cufft-cu12-11.2.1.3 nvidia-curand-cu12-10.3.5.147 nvidia-cusolver-cu12-11.6.1.9 nvidia-cusparse-cu12-12.3.1.170 nvidia-nvjitlink-cu12-12.4.127 ultralytics-8.3.155 ultralytics-thop-2.0.14\n"
     ]
    }
   ],
   "source": [
    "!pip install ultralytics"
   ]
  },
  {
   "cell_type": "code",
   "execution_count": 2,
   "metadata": {
    "colab": {
     "base_uri": "https://localhost:8080/"
    },
    "id": "OZDD7X7UN5R2",
    "outputId": "5d926627-212b-422e-97ce-b51f05369dc0"
   },
   "outputs": [
    {
     "name": "stdout",
     "output_type": "stream",
     "text": [
      "Creating new Ultralytics Settings v0.0.6 file ✅ \n",
      "View Ultralytics Settings with 'yolo settings' or at '/root/.config/Ultralytics/settings.json'\n",
      "Update Settings with 'yolo settings key=value', i.e. 'yolo settings runs_dir=path/to/dir'. For help see https://docs.ultralytics.com/quickstart/#ultralytics-settings.\n"
     ]
    }
   ],
   "source": [
    "from ultralytics import YOLO"
   ]
  },
  {
   "cell_type": "code",
   "execution_count": 3,
   "metadata": {
    "colab": {
     "base_uri": "https://localhost:8080/"
    },
    "id": "A_y2omBTN8Hl",
    "outputId": "6635f682-6cfa-4304-870a-0e2b961877ff"
   },
   "outputs": [
    {
     "name": "stdout",
     "output_type": "stream",
     "text": [
      "Downloading https://github.com/ultralytics/assets/releases/download/v8.3.0/yolo12n.pt to 'yolo12n.pt'...\n"
     ]
    },
    {
     "name": "stderr",
     "output_type": "stream",
     "text": [
      "100%|██████████| 5.34M/5.34M [00:00<00:00, 66.3MB/s]\n"
     ]
    }
   ],
   "source": [
    "model = YOLO(\"yolo12n.pt\") # Versão do modelo YOLO"
   ]
  },
  {
   "cell_type": "code",
   "execution_count": 4,
   "metadata": {
    "colab": {
     "base_uri": "https://localhost:8080/"
    },
    "id": "Z3OAt0pjN97-",
    "outputId": "06ac02e0-5c4f-4b22-c485-1c3a06bd39f0"
   },
   "outputs": [
    {
     "name": "stdout",
     "output_type": "stream",
     "text": [
      "Archive:  dentex_yolo12n.zip\n",
      "   creating: dentex_yolo12n/\n",
      "  inflating: dentex_yolo12n/data.yaml  \n",
      "   creating: dentex_yolo12n/images/\n",
      "   creating: dentex_yolo12n/images/train/\n",
      "  inflating: dentex_yolo12n/images/train/train_0.png  \n",
      "  inflating: dentex_yolo12n/images/train/train_1.png  \n",
      "  inflating: dentex_yolo12n/images/train/train_10.png  \n",
      "  inflating: dentex_yolo12n/images/train/train_100.png  \n",
      "  inflating: dentex_yolo12n/images/train/train_101.png  \n",
      "  inflating: dentex_yolo12n/images/train/train_102.png  \n",
      "  inflating: dentex_yolo12n/images/train/train_103.png  \n",
      "  inflating: dentex_yolo12n/images/train/train_104.png  \n",
      "  inflating: dentex_yolo12n/images/train/train_105.png  \n",
      "  inflating: dentex_yolo12n/images/train/train_106.png  \n",
      "  inflating: dentex_yolo12n/images/train/train_107.png  \n",
      "  inflating: dentex_yolo12n/images/train/train_108.png  \n",
      "  inflating: dentex_yolo12n/images/train/train_109.png  \n",
      "  inflating: dentex_yolo12n/images/train/train_11.png  \n",
      "  inflating: dentex_yolo12n/images/train/train_110.png  \n",
      "  inflating: dentex_yolo12n/images/train/train_111.png  \n",
      "  inflating: dentex_yolo12n/images/train/train_112.png  \n",
      "  inflating: dentex_yolo12n/images/train/train_113.png  \n",
      "  inflating: dentex_yolo12n/images/train/train_114.png  \n",
      "  inflating: dentex_yolo12n/images/train/train_115.png  \n",
      "  inflating: dentex_yolo12n/images/train/train_116.png  \n",
      "  inflating: dentex_yolo12n/images/train/train_117.png  \n",
      "  inflating: dentex_yolo12n/images/train/train_118.png  \n",
      "  inflating: dentex_yolo12n/images/train/train_119.png  \n",
      "  inflating: dentex_yolo12n/images/train/train_12.png  \n",
      "  inflating: dentex_yolo12n/images/train/train_120.png  \n",
      "  inflating: dentex_yolo12n/images/train/train_121.png  \n",
      "  inflating: dentex_yolo12n/images/train/train_122.png  \n",
      "  inflating: dentex_yolo12n/images/train/train_124.png  \n",
      "  inflating: dentex_yolo12n/images/train/train_125.png  \n",
      "  inflating: dentex_yolo12n/images/train/train_126.png  \n",
      "  inflating: dentex_yolo12n/images/train/train_127.png  \n",
      "  inflating: dentex_yolo12n/images/train/train_128.png  \n",
      "  inflating: dentex_yolo12n/images/train/train_13.png  \n",
      "  inflating: dentex_yolo12n/images/train/train_130.png  \n",
      "  inflating: dentex_yolo12n/images/train/train_131.png  \n",
      "  inflating: dentex_yolo12n/images/train/train_132.png  \n",
      "  inflating: dentex_yolo12n/images/train/train_133.png  \n",
      "  inflating: dentex_yolo12n/images/train/train_134.png  \n",
      "  inflating: dentex_yolo12n/images/train/train_135.png  \n",
      "  inflating: dentex_yolo12n/images/train/train_136.png  \n",
      "  inflating: dentex_yolo12n/images/train/train_137.png  \n",
      "  inflating: dentex_yolo12n/images/train/train_138.png  \n",
      "  inflating: dentex_yolo12n/images/train/train_139.png  \n",
      "  inflating: dentex_yolo12n/images/train/train_14.png  \n",
      "  inflating: dentex_yolo12n/images/train/train_140.png  \n",
      "  inflating: dentex_yolo12n/images/train/train_141.png  \n",
      "  inflating: dentex_yolo12n/images/train/train_142.png  \n",
      "  inflating: dentex_yolo12n/images/train/train_143.png  \n",
      "  inflating: dentex_yolo12n/images/train/train_144.png  \n",
      "  inflating: dentex_yolo12n/images/train/train_145.png  \n",
      "  inflating: dentex_yolo12n/images/train/train_146.png  \n",
      "  inflating: dentex_yolo12n/images/train/train_147.png  \n",
      "  inflating: dentex_yolo12n/images/train/train_148.png  \n",
      "  inflating: dentex_yolo12n/images/train/train_149.png  \n",
      "  inflating: dentex_yolo12n/images/train/train_15.png  \n",
      "  inflating: dentex_yolo12n/images/train/train_150.png  \n",
      "  inflating: dentex_yolo12n/images/train/train_151.png  \n",
      "  inflating: dentex_yolo12n/images/train/train_152.png  \n",
      "  inflating: dentex_yolo12n/images/train/train_153.png  \n",
      "  inflating: dentex_yolo12n/images/train/train_154.png  \n",
      "  inflating: dentex_yolo12n/images/train/train_155.png  \n",
      "  inflating: dentex_yolo12n/images/train/train_156.png  \n",
      "  inflating: dentex_yolo12n/images/train/train_157.png  \n",
      "  inflating: dentex_yolo12n/images/train/train_158.png  \n",
      "  inflating: dentex_yolo12n/images/train/train_159.png  \n",
      "  inflating: dentex_yolo12n/images/train/train_16.png  \n",
      "  inflating: dentex_yolo12n/images/train/train_160.png  \n",
      "  inflating: dentex_yolo12n/images/train/train_161.png  \n",
      "  inflating: dentex_yolo12n/images/train/train_162.png  \n",
      "  inflating: dentex_yolo12n/images/train/train_163.png  \n",
      "  inflating: dentex_yolo12n/images/train/train_164.png  \n",
      "  inflating: dentex_yolo12n/images/train/train_165.png  \n",
      "  inflating: dentex_yolo12n/images/train/train_166.png  \n",
      "  inflating: dentex_yolo12n/images/train/train_167.png  \n",
      "  inflating: dentex_yolo12n/images/train/train_168.png  \n",
      "  inflating: dentex_yolo12n/images/train/train_169.png  \n",
      "  inflating: dentex_yolo12n/images/train/train_17.png  \n",
      "  inflating: dentex_yolo12n/images/train/train_170.png  \n",
      "  inflating: dentex_yolo12n/images/train/train_171.png  \n",
      "  inflating: dentex_yolo12n/images/train/train_172.png  \n",
      "  inflating: dentex_yolo12n/images/train/train_173.png  \n",
      "  inflating: dentex_yolo12n/images/train/train_174.png  \n",
      "  inflating: dentex_yolo12n/images/train/train_176.png  \n",
      "  inflating: dentex_yolo12n/images/train/train_177.png  \n",
      "  inflating: dentex_yolo12n/images/train/train_178.png  \n",
      "  inflating: dentex_yolo12n/images/train/train_179.png  \n",
      "  inflating: dentex_yolo12n/images/train/train_18.png  \n",
      "  inflating: dentex_yolo12n/images/train/train_180.png  \n",
      "  inflating: dentex_yolo12n/images/train/train_181.png  \n",
      "  inflating: dentex_yolo12n/images/train/train_182.png  \n",
      "  inflating: dentex_yolo12n/images/train/train_183.png  \n",
      "  inflating: dentex_yolo12n/images/train/train_184.png  \n",
      "  inflating: dentex_yolo12n/images/train/train_185.png  \n",
      "  inflating: dentex_yolo12n/images/train/train_186.png  \n",
      "  inflating: dentex_yolo12n/images/train/train_187.png  \n",
      "  inflating: dentex_yolo12n/images/train/train_188.png  \n",
      "  inflating: dentex_yolo12n/images/train/train_189.png  \n",
      "  inflating: dentex_yolo12n/images/train/train_19.png  \n",
      "  inflating: dentex_yolo12n/images/train/train_190.png  \n",
      "  inflating: dentex_yolo12n/images/train/train_191.png  \n",
      "  inflating: dentex_yolo12n/images/train/train_192.png  \n",
      "  inflating: dentex_yolo12n/images/train/train_193.png  \n",
      "  inflating: dentex_yolo12n/images/train/train_194.png  \n",
      "  inflating: dentex_yolo12n/images/train/train_195.png  \n",
      "  inflating: dentex_yolo12n/images/train/train_196.png  \n",
      "  inflating: dentex_yolo12n/images/train/train_197.png  \n",
      "  inflating: dentex_yolo12n/images/train/train_198.png  \n",
      "  inflating: dentex_yolo12n/images/train/train_199.png  \n",
      "  inflating: dentex_yolo12n/images/train/train_2.png  \n",
      "  inflating: dentex_yolo12n/images/train/train_20.png  \n",
      "  inflating: dentex_yolo12n/images/train/train_200.png  \n",
      "  inflating: dentex_yolo12n/images/train/train_201.png  \n",
      "  inflating: dentex_yolo12n/images/train/train_202.png  \n",
      "  inflating: dentex_yolo12n/images/train/train_203.png  \n",
      "  inflating: dentex_yolo12n/images/train/train_204.png  \n",
      "  inflating: dentex_yolo12n/images/train/train_206.png  \n",
      "  inflating: dentex_yolo12n/images/train/train_207.png  \n",
      "  inflating: dentex_yolo12n/images/train/train_208.png  \n",
      "  inflating: dentex_yolo12n/images/train/train_209.png  \n",
      "  inflating: dentex_yolo12n/images/train/train_21.png  \n",
      "  inflating: dentex_yolo12n/images/train/train_210.png  \n",
      "  inflating: dentex_yolo12n/images/train/train_211.png  \n",
      "  inflating: dentex_yolo12n/images/train/train_212.png  \n",
      "  inflating: dentex_yolo12n/images/train/train_213.png  \n",
      "  inflating: dentex_yolo12n/images/train/train_214.png  \n",
      "  inflating: dentex_yolo12n/images/train/train_215.png  \n",
      "  inflating: dentex_yolo12n/images/train/train_216.png  \n",
      "  inflating: dentex_yolo12n/images/train/train_217.png  \n",
      "  inflating: dentex_yolo12n/images/train/train_218.png  \n",
      "  inflating: dentex_yolo12n/images/train/train_219.png  \n",
      "  inflating: dentex_yolo12n/images/train/train_22.png  \n",
      "  inflating: dentex_yolo12n/images/train/train_220.png  \n",
      "  inflating: dentex_yolo12n/images/train/train_222.png  \n",
      "  inflating: dentex_yolo12n/images/train/train_223.png  \n",
      "  inflating: dentex_yolo12n/images/train/train_224.png  \n",
      "  inflating: dentex_yolo12n/images/train/train_225.png  \n",
      "  inflating: dentex_yolo12n/images/train/train_226.png  \n",
      "  inflating: dentex_yolo12n/images/train/train_227.png  \n",
      "  inflating: dentex_yolo12n/images/train/train_228.png  \n",
      "  inflating: dentex_yolo12n/images/train/train_229.png  \n",
      "  inflating: dentex_yolo12n/images/train/train_23.png  \n",
      "  inflating: dentex_yolo12n/images/train/train_230.png  \n",
      "  inflating: dentex_yolo12n/images/train/train_231.png  \n",
      "  inflating: dentex_yolo12n/images/train/train_232.png  \n",
      "  inflating: dentex_yolo12n/images/train/train_233.png  \n",
      "  inflating: dentex_yolo12n/images/train/train_234.png  \n",
      "  inflating: dentex_yolo12n/images/train/train_235.png  \n",
      "  inflating: dentex_yolo12n/images/train/train_236.png  \n",
      "  inflating: dentex_yolo12n/images/train/train_237.png  \n",
      "  inflating: dentex_yolo12n/images/train/train_238.png  \n",
      "  inflating: dentex_yolo12n/images/train/train_239.png  \n",
      "  inflating: dentex_yolo12n/images/train/train_24.png  \n",
      "  inflating: dentex_yolo12n/images/train/train_240.png  \n",
      "  inflating: dentex_yolo12n/images/train/train_241.png  \n",
      "  inflating: dentex_yolo12n/images/train/train_242.png  \n",
      "  inflating: dentex_yolo12n/images/train/train_243.png  \n",
      "  inflating: dentex_yolo12n/images/train/train_244.png  \n",
      "  inflating: dentex_yolo12n/images/train/train_246.png  \n",
      "  inflating: dentex_yolo12n/images/train/train_248.png  \n",
      "  inflating: dentex_yolo12n/images/train/train_249.png  \n",
      "  inflating: dentex_yolo12n/images/train/train_25.png  \n",
      "  inflating: dentex_yolo12n/images/train/train_250.png  \n",
      "  inflating: dentex_yolo12n/images/train/train_251.png  \n",
      "  inflating: dentex_yolo12n/images/train/train_252.png  \n",
      "  inflating: dentex_yolo12n/images/train/train_253.png  \n",
      "  inflating: dentex_yolo12n/images/train/train_254.png  \n",
      "  inflating: dentex_yolo12n/images/train/train_255.png  \n",
      "  inflating: dentex_yolo12n/images/train/train_256.png  \n",
      "  inflating: dentex_yolo12n/images/train/train_257.png  \n",
      "  inflating: dentex_yolo12n/images/train/train_258.png  \n",
      "  inflating: dentex_yolo12n/images/train/train_259.png  \n",
      "  inflating: dentex_yolo12n/images/train/train_26.png  \n",
      "  inflating: dentex_yolo12n/images/train/train_260.png  \n",
      "  inflating: dentex_yolo12n/images/train/train_261.png  \n",
      "  inflating: dentex_yolo12n/images/train/train_262.png  \n",
      "  inflating: dentex_yolo12n/images/train/train_263.png  \n",
      "  inflating: dentex_yolo12n/images/train/train_264.png  \n",
      "  inflating: dentex_yolo12n/images/train/train_265.png  \n",
      "  inflating: dentex_yolo12n/images/train/train_266.png  \n",
      "  inflating: dentex_yolo12n/images/train/train_267.png  \n",
      "  inflating: dentex_yolo12n/images/train/train_268.png  \n",
      "  inflating: dentex_yolo12n/images/train/train_269.png  \n",
      "  inflating: dentex_yolo12n/images/train/train_27.png  \n",
      "  inflating: dentex_yolo12n/images/train/train_270.png  \n",
      "  inflating: dentex_yolo12n/images/train/train_271.png  \n",
      "  inflating: dentex_yolo12n/images/train/train_272.png  \n",
      "  inflating: dentex_yolo12n/images/train/train_273.png  \n",
      "  inflating: dentex_yolo12n/images/train/train_274.png  \n",
      "  inflating: dentex_yolo12n/images/train/train_275.png  \n",
      "  inflating: dentex_yolo12n/images/train/train_276.png  \n",
      "  inflating: dentex_yolo12n/images/train/train_277.png  \n",
      "  inflating: dentex_yolo12n/images/train/train_278.png  \n",
      "  inflating: dentex_yolo12n/images/train/train_279.png  \n",
      "  inflating: dentex_yolo12n/images/train/train_28.png  \n",
      "  inflating: dentex_yolo12n/images/train/train_280.png  \n",
      "  inflating: dentex_yolo12n/images/train/train_281.png  \n",
      "  inflating: dentex_yolo12n/images/train/train_282.png  \n",
      "  inflating: dentex_yolo12n/images/train/train_283.png  \n",
      "  inflating: dentex_yolo12n/images/train/train_284.png  \n",
      "  inflating: dentex_yolo12n/images/train/train_285.png  \n",
      "  inflating: dentex_yolo12n/images/train/train_286.png  \n",
      "  inflating: dentex_yolo12n/images/train/train_287.png  \n",
      "  inflating: dentex_yolo12n/images/train/train_288.png  \n",
      "  inflating: dentex_yolo12n/images/train/train_289.png  \n",
      "  inflating: dentex_yolo12n/images/train/train_29.png  \n",
      "  inflating: dentex_yolo12n/images/train/train_290.png  \n",
      "  inflating: dentex_yolo12n/images/train/train_291.png  \n",
      "  inflating: dentex_yolo12n/images/train/train_292.png  \n",
      "  inflating: dentex_yolo12n/images/train/train_293.png  \n",
      "  inflating: dentex_yolo12n/images/train/train_294.png  \n",
      "  inflating: dentex_yolo12n/images/train/train_295.png  \n",
      "  inflating: dentex_yolo12n/images/train/train_296.png  \n",
      "  inflating: dentex_yolo12n/images/train/train_297.png  \n",
      "  inflating: dentex_yolo12n/images/train/train_298.png  \n",
      "  inflating: dentex_yolo12n/images/train/train_299.png  \n",
      "  inflating: dentex_yolo12n/images/train/train_3.png  \n",
      "  inflating: dentex_yolo12n/images/train/train_30.png  \n",
      "  inflating: dentex_yolo12n/images/train/train_300.png  \n",
      "  inflating: dentex_yolo12n/images/train/train_301.png  \n",
      "  inflating: dentex_yolo12n/images/train/train_302.png  \n",
      "  inflating: dentex_yolo12n/images/train/train_303.png  \n",
      "  inflating: dentex_yolo12n/images/train/train_304.png  \n",
      "  inflating: dentex_yolo12n/images/train/train_305.png  \n",
      "  inflating: dentex_yolo12n/images/train/train_306.png  \n",
      "  inflating: dentex_yolo12n/images/train/train_307.png  \n",
      "  inflating: dentex_yolo12n/images/train/train_308.png  \n",
      "  inflating: dentex_yolo12n/images/train/train_309.png  \n",
      "  inflating: dentex_yolo12n/images/train/train_31.png  \n",
      "  inflating: dentex_yolo12n/images/train/train_310.png  \n",
      "  inflating: dentex_yolo12n/images/train/train_311.png  \n",
      "  inflating: dentex_yolo12n/images/train/train_312.png  \n",
      "  inflating: dentex_yolo12n/images/train/train_313.png  \n",
      "  inflating: dentex_yolo12n/images/train/train_314.png  \n",
      "  inflating: dentex_yolo12n/images/train/train_315.png  \n",
      "  inflating: dentex_yolo12n/images/train/train_316.png  \n",
      "  inflating: dentex_yolo12n/images/train/train_317.png  \n",
      "  inflating: dentex_yolo12n/images/train/train_318.png  \n",
      "  inflating: dentex_yolo12n/images/train/train_319.png  \n",
      "  inflating: dentex_yolo12n/images/train/train_32.png  \n",
      "  inflating: dentex_yolo12n/images/train/train_320.png  \n",
      "  inflating: dentex_yolo12n/images/train/train_321.png  \n",
      "  inflating: dentex_yolo12n/images/train/train_322.png  \n",
      "  inflating: dentex_yolo12n/images/train/train_323.png  \n",
      "  inflating: dentex_yolo12n/images/train/train_324.png  \n",
      "  inflating: dentex_yolo12n/images/train/train_325.png  \n",
      "  inflating: dentex_yolo12n/images/train/train_326.png  \n",
      "  inflating: dentex_yolo12n/images/train/train_327.png  \n",
      "  inflating: dentex_yolo12n/images/train/train_328.png  \n",
      "  inflating: dentex_yolo12n/images/train/train_329.png  \n",
      "  inflating: dentex_yolo12n/images/train/train_33.png  \n",
      "  inflating: dentex_yolo12n/images/train/train_330.png  \n",
      "  inflating: dentex_yolo12n/images/train/train_331.png  \n",
      "  inflating: dentex_yolo12n/images/train/train_332.png  \n",
      "  inflating: dentex_yolo12n/images/train/train_333.png  \n",
      "  inflating: dentex_yolo12n/images/train/train_334.png  \n",
      "  inflating: dentex_yolo12n/images/train/train_335.png  \n",
      "  inflating: dentex_yolo12n/images/train/train_336.png  \n",
      "  inflating: dentex_yolo12n/images/train/train_337.png  \n",
      "  inflating: dentex_yolo12n/images/train/train_338.png  \n",
      "  inflating: dentex_yolo12n/images/train/train_339.png  \n",
      "  inflating: dentex_yolo12n/images/train/train_34.png  \n",
      "  inflating: dentex_yolo12n/images/train/train_340.png  \n",
      "  inflating: dentex_yolo12n/images/train/train_341.png  \n",
      "  inflating: dentex_yolo12n/images/train/train_342.png  \n",
      "  inflating: dentex_yolo12n/images/train/train_343.png  \n",
      "  inflating: dentex_yolo12n/images/train/train_344.png  \n",
      "  inflating: dentex_yolo12n/images/train/train_345.png  \n",
      "  inflating: dentex_yolo12n/images/train/train_347.png  \n",
      "  inflating: dentex_yolo12n/images/train/train_348.png  \n",
      "  inflating: dentex_yolo12n/images/train/train_349.png  \n",
      "  inflating: dentex_yolo12n/images/train/train_35.png  \n",
      "  inflating: dentex_yolo12n/images/train/train_350.png  \n",
      "  inflating: dentex_yolo12n/images/train/train_351.png  \n",
      "  inflating: dentex_yolo12n/images/train/train_352.png  \n",
      "  inflating: dentex_yolo12n/images/train/train_353.png  \n",
      "  inflating: dentex_yolo12n/images/train/train_354.png  \n",
      "  inflating: dentex_yolo12n/images/train/train_355.png  \n",
      "  inflating: dentex_yolo12n/images/train/train_356.png  \n",
      "  inflating: dentex_yolo12n/images/train/train_358.png  \n",
      "  inflating: dentex_yolo12n/images/train/train_359.png  \n",
      "  inflating: dentex_yolo12n/images/train/train_36.png  \n",
      "  inflating: dentex_yolo12n/images/train/train_360.png  \n",
      "  inflating: dentex_yolo12n/images/train/train_361.png  \n",
      "  inflating: dentex_yolo12n/images/train/train_362.png  \n",
      "  inflating: dentex_yolo12n/images/train/train_363.png  \n",
      "  inflating: dentex_yolo12n/images/train/train_364.png  \n",
      "  inflating: dentex_yolo12n/images/train/train_365.png  \n",
      "  inflating: dentex_yolo12n/images/train/train_366.png  \n",
      "  inflating: dentex_yolo12n/images/train/train_367.png  \n",
      "  inflating: dentex_yolo12n/images/train/train_368.png  \n",
      "  inflating: dentex_yolo12n/images/train/train_369.png  \n",
      "  inflating: dentex_yolo12n/images/train/train_37.png  \n",
      "  inflating: dentex_yolo12n/images/train/train_370.png  \n",
      "  inflating: dentex_yolo12n/images/train/train_371.png  \n",
      "  inflating: dentex_yolo12n/images/train/train_372.png  \n",
      "  inflating: dentex_yolo12n/images/train/train_373.png  \n",
      "  inflating: dentex_yolo12n/images/train/train_374.png  \n",
      "  inflating: dentex_yolo12n/images/train/train_375.png  \n",
      "  inflating: dentex_yolo12n/images/train/train_376.png  \n",
      "  inflating: dentex_yolo12n/images/train/train_377.png  \n",
      "  inflating: dentex_yolo12n/images/train/train_378.png  \n",
      "  inflating: dentex_yolo12n/images/train/train_379.png  \n",
      "  inflating: dentex_yolo12n/images/train/train_380.png  \n",
      "  inflating: dentex_yolo12n/images/train/train_381.png  \n",
      "  inflating: dentex_yolo12n/images/train/train_382.png  \n",
      "  inflating: dentex_yolo12n/images/train/train_383.png  \n",
      "  inflating: dentex_yolo12n/images/train/train_384.png  \n",
      "  inflating: dentex_yolo12n/images/train/train_385.png  \n",
      "  inflating: dentex_yolo12n/images/train/train_386.png  \n",
      "  inflating: dentex_yolo12n/images/train/train_387.png  \n",
      "  inflating: dentex_yolo12n/images/train/train_388.png  \n",
      "  inflating: dentex_yolo12n/images/train/train_389.png  \n",
      "  inflating: dentex_yolo12n/images/train/train_39.png  \n",
      "  inflating: dentex_yolo12n/images/train/train_390.png  \n",
      "  inflating: dentex_yolo12n/images/train/train_391.png  \n",
      "  inflating: dentex_yolo12n/images/train/train_392.png  \n",
      "  inflating: dentex_yolo12n/images/train/train_393.png  \n",
      "  inflating: dentex_yolo12n/images/train/train_394.png  \n",
      "  inflating: dentex_yolo12n/images/train/train_395.png  \n",
      "  inflating: dentex_yolo12n/images/train/train_396.png  \n",
      "  inflating: dentex_yolo12n/images/train/train_397.png  \n",
      "  inflating: dentex_yolo12n/images/train/train_398.png  \n",
      "  inflating: dentex_yolo12n/images/train/train_399.png  \n",
      "  inflating: dentex_yolo12n/images/train/train_4.png  \n",
      "  inflating: dentex_yolo12n/images/train/train_40.png  \n",
      "  inflating: dentex_yolo12n/images/train/train_400.png  \n",
      "  inflating: dentex_yolo12n/images/train/train_401.png  \n",
      "  inflating: dentex_yolo12n/images/train/train_402.png  \n",
      "  inflating: dentex_yolo12n/images/train/train_403.png  \n",
      "  inflating: dentex_yolo12n/images/train/train_404.png  \n",
      "  inflating: dentex_yolo12n/images/train/train_405.png  \n",
      "  inflating: dentex_yolo12n/images/train/train_406.png  \n",
      "  inflating: dentex_yolo12n/images/train/train_407.png  \n",
      "  inflating: dentex_yolo12n/images/train/train_408.png  \n",
      "  inflating: dentex_yolo12n/images/train/train_409.png  \n",
      "  inflating: dentex_yolo12n/images/train/train_41.png  \n",
      "  inflating: dentex_yolo12n/images/train/train_411.png  \n",
      "  inflating: dentex_yolo12n/images/train/train_412.png  \n",
      "  inflating: dentex_yolo12n/images/train/train_413.png  \n",
      "  inflating: dentex_yolo12n/images/train/train_414.png  \n",
      "  inflating: dentex_yolo12n/images/train/train_415.png  \n",
      "  inflating: dentex_yolo12n/images/train/train_417.png  \n",
      "  inflating: dentex_yolo12n/images/train/train_418.png  \n",
      "  inflating: dentex_yolo12n/images/train/train_419.png  \n",
      "  inflating: dentex_yolo12n/images/train/train_42.png  \n",
      "  inflating: dentex_yolo12n/images/train/train_420.png  \n",
      "  inflating: dentex_yolo12n/images/train/train_421.png  \n",
      "  inflating: dentex_yolo12n/images/train/train_422.png  \n",
      "  inflating: dentex_yolo12n/images/train/train_423.png  \n",
      "  inflating: dentex_yolo12n/images/train/train_424.png  \n",
      "  inflating: dentex_yolo12n/images/train/train_425.png  \n",
      "  inflating: dentex_yolo12n/images/train/train_426.png  \n",
      "  inflating: dentex_yolo12n/images/train/train_427.png  \n",
      "  inflating: dentex_yolo12n/images/train/train_428.png  \n",
      "  inflating: dentex_yolo12n/images/train/train_429.png  \n",
      "  inflating: dentex_yolo12n/images/train/train_43.png  \n",
      "  inflating: dentex_yolo12n/images/train/train_431.png  \n",
      "  inflating: dentex_yolo12n/images/train/train_432.png  \n",
      "  inflating: dentex_yolo12n/images/train/train_433.png  \n",
      "  inflating: dentex_yolo12n/images/train/train_434.png  \n",
      "  inflating: dentex_yolo12n/images/train/train_436.png  \n",
      "  inflating: dentex_yolo12n/images/train/train_437.png  \n",
      "  inflating: dentex_yolo12n/images/train/train_438.png  \n",
      "  inflating: dentex_yolo12n/images/train/train_439.png  \n",
      "  inflating: dentex_yolo12n/images/train/train_44.png  \n",
      "  inflating: dentex_yolo12n/images/train/train_440.png  \n",
      "  inflating: dentex_yolo12n/images/train/train_441.png  \n",
      "  inflating: dentex_yolo12n/images/train/train_442.png  \n",
      "  inflating: dentex_yolo12n/images/train/train_443.png  \n",
      "  inflating: dentex_yolo12n/images/train/train_444.png  \n",
      "  inflating: dentex_yolo12n/images/train/train_445.png  \n",
      "  inflating: dentex_yolo12n/images/train/train_446.png  \n",
      "  inflating: dentex_yolo12n/images/train/train_447.png  \n",
      "  inflating: dentex_yolo12n/images/train/train_448.png  \n",
      "  inflating: dentex_yolo12n/images/train/train_449.png  \n",
      "  inflating: dentex_yolo12n/images/train/train_45.png  \n",
      "  inflating: dentex_yolo12n/images/train/train_450.png  \n",
      "  inflating: dentex_yolo12n/images/train/train_451.png  \n",
      "  inflating: dentex_yolo12n/images/train/train_452.png  \n",
      "  inflating: dentex_yolo12n/images/train/train_453.png  \n",
      "  inflating: dentex_yolo12n/images/train/train_454.png  \n",
      "  inflating: dentex_yolo12n/images/train/train_455.png  \n",
      "  inflating: dentex_yolo12n/images/train/train_456.png  \n",
      "  inflating: dentex_yolo12n/images/train/train_457.png  \n",
      "  inflating: dentex_yolo12n/images/train/train_458.png  \n",
      "  inflating: dentex_yolo12n/images/train/train_459.png  \n",
      "  inflating: dentex_yolo12n/images/train/train_46.png  \n",
      "  inflating: dentex_yolo12n/images/train/train_460.png  \n",
      "  inflating: dentex_yolo12n/images/train/train_461.png  \n",
      "  inflating: dentex_yolo12n/images/train/train_462.png  \n",
      "  inflating: dentex_yolo12n/images/train/train_463.png  \n",
      "  inflating: dentex_yolo12n/images/train/train_464.png  \n",
      "  inflating: dentex_yolo12n/images/train/train_465.png  \n",
      "  inflating: dentex_yolo12n/images/train/train_466.png  \n",
      "  inflating: dentex_yolo12n/images/train/train_467.png  \n",
      "  inflating: dentex_yolo12n/images/train/train_468.png  \n",
      "  inflating: dentex_yolo12n/images/train/train_469.png  \n",
      "  inflating: dentex_yolo12n/images/train/train_47.png  \n",
      "  inflating: dentex_yolo12n/images/train/train_471.png  \n",
      "  inflating: dentex_yolo12n/images/train/train_472.png  \n",
      "  inflating: dentex_yolo12n/images/train/train_473.png  \n",
      "  inflating: dentex_yolo12n/images/train/train_474.png  \n",
      "  inflating: dentex_yolo12n/images/train/train_475.png  \n",
      "  inflating: dentex_yolo12n/images/train/train_476.png  \n",
      "  inflating: dentex_yolo12n/images/train/train_477.png  \n",
      "  inflating: dentex_yolo12n/images/train/train_478.png  \n",
      "  inflating: dentex_yolo12n/images/train/train_479.png  \n",
      "  inflating: dentex_yolo12n/images/train/train_48.png  \n",
      "  inflating: dentex_yolo12n/images/train/train_480.png  \n",
      "  inflating: dentex_yolo12n/images/train/train_481.png  \n",
      "  inflating: dentex_yolo12n/images/train/train_482.png  \n",
      "  inflating: dentex_yolo12n/images/train/train_483.png  \n",
      "  inflating: dentex_yolo12n/images/train/train_484.png  \n",
      "  inflating: dentex_yolo12n/images/train/train_485.png  \n",
      "  inflating: dentex_yolo12n/images/train/train_486.png  \n",
      "  inflating: dentex_yolo12n/images/train/train_487.png  \n",
      "  inflating: dentex_yolo12n/images/train/train_488.png  \n",
      "  inflating: dentex_yolo12n/images/train/train_489.png  \n",
      "  inflating: dentex_yolo12n/images/train/train_49.png  \n",
      "  inflating: dentex_yolo12n/images/train/train_490.png  \n",
      "  inflating: dentex_yolo12n/images/train/train_491.png  \n",
      "  inflating: dentex_yolo12n/images/train/train_492.png  \n",
      "  inflating: dentex_yolo12n/images/train/train_493.png  \n",
      "  inflating: dentex_yolo12n/images/train/train_494.png  \n",
      "  inflating: dentex_yolo12n/images/train/train_495.png  \n",
      "  inflating: dentex_yolo12n/images/train/train_496.png  \n",
      "  inflating: dentex_yolo12n/images/train/train_497.png  \n",
      "  inflating: dentex_yolo12n/images/train/train_498.png  \n",
      "  inflating: dentex_yolo12n/images/train/train_499.png  \n",
      "  inflating: dentex_yolo12n/images/train/train_5.png  \n",
      "  inflating: dentex_yolo12n/images/train/train_50.png  \n",
      "  inflating: dentex_yolo12n/images/train/train_500.png  \n",
      "  inflating: dentex_yolo12n/images/train/train_501.png  \n",
      "  inflating: dentex_yolo12n/images/train/train_502.png  \n",
      "  inflating: dentex_yolo12n/images/train/train_503.png  \n",
      "  inflating: dentex_yolo12n/images/train/train_504.png  \n",
      "  inflating: dentex_yolo12n/images/train/train_505.png  \n",
      "  inflating: dentex_yolo12n/images/train/train_506.png  \n",
      "  inflating: dentex_yolo12n/images/train/train_507.png  \n",
      "  inflating: dentex_yolo12n/images/train/train_508.png  \n",
      "  inflating: dentex_yolo12n/images/train/train_509.png  \n",
      "  inflating: dentex_yolo12n/images/train/train_51.png  \n",
      "  inflating: dentex_yolo12n/images/train/train_510.png  \n",
      "  inflating: dentex_yolo12n/images/train/train_511.png  \n",
      "  inflating: dentex_yolo12n/images/train/train_512.png  \n",
      "  inflating: dentex_yolo12n/images/train/train_513.png  \n",
      "  inflating: dentex_yolo12n/images/train/train_514.png  \n",
      "  inflating: dentex_yolo12n/images/train/train_515.png  \n",
      "  inflating: dentex_yolo12n/images/train/train_516.png  \n",
      "  inflating: dentex_yolo12n/images/train/train_517.png  \n",
      "  inflating: dentex_yolo12n/images/train/train_518.png  \n",
      "  inflating: dentex_yolo12n/images/train/train_519.png  \n",
      "  inflating: dentex_yolo12n/images/train/train_52.png  \n",
      "  inflating: dentex_yolo12n/images/train/train_520.png  \n",
      "  inflating: dentex_yolo12n/images/train/train_521.png  \n",
      "  inflating: dentex_yolo12n/images/train/train_522.png  \n",
      "  inflating: dentex_yolo12n/images/train/train_523.png  \n",
      "  inflating: dentex_yolo12n/images/train/train_524.png  \n",
      "  inflating: dentex_yolo12n/images/train/train_525.png  \n",
      "  inflating: dentex_yolo12n/images/train/train_526.png  \n",
      "  inflating: dentex_yolo12n/images/train/train_528.png  \n",
      "  inflating: dentex_yolo12n/images/train/train_529.png  \n",
      "  inflating: dentex_yolo12n/images/train/train_53.png  \n",
      "  inflating: dentex_yolo12n/images/train/train_530.png  \n",
      "  inflating: dentex_yolo12n/images/train/train_531.png  \n",
      "  inflating: dentex_yolo12n/images/train/train_532.png  \n",
      "  inflating: dentex_yolo12n/images/train/train_533.png  \n",
      "  inflating: dentex_yolo12n/images/train/train_534.png  \n",
      "  inflating: dentex_yolo12n/images/train/train_535.png  \n",
      "  inflating: dentex_yolo12n/images/train/train_536.png  \n",
      "  inflating: dentex_yolo12n/images/train/train_537.png  \n",
      "  inflating: dentex_yolo12n/images/train/train_539.png  \n",
      "  inflating: dentex_yolo12n/images/train/train_54.png  \n",
      "  inflating: dentex_yolo12n/images/train/train_540.png  \n",
      "  inflating: dentex_yolo12n/images/train/train_541.png  \n",
      "  inflating: dentex_yolo12n/images/train/train_542.png  \n",
      "  inflating: dentex_yolo12n/images/train/train_543.png  \n",
      "  inflating: dentex_yolo12n/images/train/train_544.png  \n",
      "  inflating: dentex_yolo12n/images/train/train_545.png  \n",
      "  inflating: dentex_yolo12n/images/train/train_546.png  \n",
      "  inflating: dentex_yolo12n/images/train/train_547.png  \n",
      "  inflating: dentex_yolo12n/images/train/train_548.png  \n",
      "  inflating: dentex_yolo12n/images/train/train_549.png  \n",
      "  inflating: dentex_yolo12n/images/train/train_55.png  \n",
      "  inflating: dentex_yolo12n/images/train/train_550.png  \n",
      "  inflating: dentex_yolo12n/images/train/train_551.png  \n",
      "  inflating: dentex_yolo12n/images/train/train_552.png  \n",
      "  inflating: dentex_yolo12n/images/train/train_553.png  \n",
      "  inflating: dentex_yolo12n/images/train/train_554.png  \n",
      "  inflating: dentex_yolo12n/images/train/train_555.png  \n",
      "  inflating: dentex_yolo12n/images/train/train_556.png  \n",
      "  inflating: dentex_yolo12n/images/train/train_557.png  \n",
      "  inflating: dentex_yolo12n/images/train/train_558.png  \n",
      "  inflating: dentex_yolo12n/images/train/train_56.png  \n",
      "  inflating: dentex_yolo12n/images/train/train_560.png  \n",
      "  inflating: dentex_yolo12n/images/train/train_561.png  \n",
      "  inflating: dentex_yolo12n/images/train/train_57.png  \n",
      "  inflating: dentex_yolo12n/images/train/train_58.png  \n",
      "  inflating: dentex_yolo12n/images/train/train_59.png  \n",
      "  inflating: dentex_yolo12n/images/train/train_6.png  \n",
      "  inflating: dentex_yolo12n/images/train/train_61.png  \n",
      "  inflating: dentex_yolo12n/images/train/train_62.png  \n",
      "  inflating: dentex_yolo12n/images/train/train_63.png  \n",
      "  inflating: dentex_yolo12n/images/train/train_64.png  \n",
      "  inflating: dentex_yolo12n/images/train/train_65.png  \n",
      "  inflating: dentex_yolo12n/images/train/train_66.png  \n",
      "  inflating: dentex_yolo12n/images/train/train_67.png  \n",
      "  inflating: dentex_yolo12n/images/train/train_68.png  \n",
      "  inflating: dentex_yolo12n/images/train/train_69.png  \n",
      "  inflating: dentex_yolo12n/images/train/train_7.png  \n",
      "  inflating: dentex_yolo12n/images/train/train_70.png  \n",
      "  inflating: dentex_yolo12n/images/train/train_72.png  \n",
      "  inflating: dentex_yolo12n/images/train/train_73.png  \n",
      "  inflating: dentex_yolo12n/images/train/train_74.png  \n",
      "  inflating: dentex_yolo12n/images/train/train_75.png  \n",
      "  inflating: dentex_yolo12n/images/train/train_76.png  \n",
      "  inflating: dentex_yolo12n/images/train/train_77.png  \n",
      "  inflating: dentex_yolo12n/images/train/train_78.png  \n",
      "  inflating: dentex_yolo12n/images/train/train_79.png  \n",
      "  inflating: dentex_yolo12n/images/train/train_8.png  \n",
      "  inflating: dentex_yolo12n/images/train/train_80.png  \n",
      "  inflating: dentex_yolo12n/images/train/train_81.png  \n",
      "  inflating: dentex_yolo12n/images/train/train_82.png  \n",
      "  inflating: dentex_yolo12n/images/train/train_83.png  \n",
      "  inflating: dentex_yolo12n/images/train/train_84.png  \n",
      "  inflating: dentex_yolo12n/images/train/train_85.png  \n",
      "  inflating: dentex_yolo12n/images/train/train_86.png  \n",
      "  inflating: dentex_yolo12n/images/train/train_87.png  \n",
      "  inflating: dentex_yolo12n/images/train/train_88.png  \n",
      "  inflating: dentex_yolo12n/images/train/train_89.png  \n",
      "  inflating: dentex_yolo12n/images/train/train_9.png  \n",
      "  inflating: dentex_yolo12n/images/train/train_90.png  \n",
      "  inflating: dentex_yolo12n/images/train/train_91.png  \n",
      "  inflating: dentex_yolo12n/images/train/train_92.png  \n",
      "  inflating: dentex_yolo12n/images/train/train_93.png  \n",
      "  inflating: dentex_yolo12n/images/train/train_94.png  \n",
      "  inflating: dentex_yolo12n/images/train/train_95.png  \n",
      "  inflating: dentex_yolo12n/images/train/train_96.png  \n",
      "  inflating: dentex_yolo12n/images/train/train_97.png  \n",
      "  inflating: dentex_yolo12n/images/train/train_98.png  \n",
      "  inflating: dentex_yolo12n/images/train/train_99.png  \n",
      "   creating: dentex_yolo12n/images/val/\n",
      "  inflating: dentex_yolo12n/images/val/train_562.png  \n",
      "  inflating: dentex_yolo12n/images/val/train_563.png  \n",
      "  inflating: dentex_yolo12n/images/val/train_564.png  \n",
      "  inflating: dentex_yolo12n/images/val/train_565.png  \n",
      "  inflating: dentex_yolo12n/images/val/train_566.png  \n",
      "  inflating: dentex_yolo12n/images/val/train_567.png  \n",
      "  inflating: dentex_yolo12n/images/val/train_568.png  \n",
      "  inflating: dentex_yolo12n/images/val/train_569.png  \n",
      "  inflating: dentex_yolo12n/images/val/train_570.png  \n",
      "  inflating: dentex_yolo12n/images/val/train_572.png  \n",
      "  inflating: dentex_yolo12n/images/val/train_573.png  \n",
      "  inflating: dentex_yolo12n/images/val/train_574.png  \n",
      "  inflating: dentex_yolo12n/images/val/train_575.png  \n",
      "  inflating: dentex_yolo12n/images/val/train_576.png  \n",
      "  inflating: dentex_yolo12n/images/val/train_577.png  \n",
      "  inflating: dentex_yolo12n/images/val/train_578.png  \n",
      "  inflating: dentex_yolo12n/images/val/train_579.png  \n",
      "  inflating: dentex_yolo12n/images/val/train_580.png  \n",
      "  inflating: dentex_yolo12n/images/val/train_581.png  \n",
      "  inflating: dentex_yolo12n/images/val/train_582.png  \n",
      "  inflating: dentex_yolo12n/images/val/train_583.png  \n",
      "  inflating: dentex_yolo12n/images/val/train_584.png  \n",
      "  inflating: dentex_yolo12n/images/val/train_585.png  \n",
      "  inflating: dentex_yolo12n/images/val/train_586.png  \n",
      "  inflating: dentex_yolo12n/images/val/train_587.png  \n",
      "  inflating: dentex_yolo12n/images/val/train_588.png  \n",
      "  inflating: dentex_yolo12n/images/val/train_589.png  \n",
      "  inflating: dentex_yolo12n/images/val/train_590.png  \n",
      "  inflating: dentex_yolo12n/images/val/train_591.png  \n",
      "  inflating: dentex_yolo12n/images/val/train_592.png  \n",
      "  inflating: dentex_yolo12n/images/val/train_594.png  \n",
      "  inflating: dentex_yolo12n/images/val/train_595.png  \n",
      "  inflating: dentex_yolo12n/images/val/train_596.png  \n",
      "  inflating: dentex_yolo12n/images/val/train_597.png  \n",
      "  inflating: dentex_yolo12n/images/val/train_598.png  \n",
      "  inflating: dentex_yolo12n/images/val/train_599.png  \n",
      "  inflating: dentex_yolo12n/images/val/train_600.png  \n",
      "  inflating: dentex_yolo12n/images/val/train_601.png  \n",
      "  inflating: dentex_yolo12n/images/val/train_602.png  \n",
      "  inflating: dentex_yolo12n/images/val/train_603.png  \n",
      "  inflating: dentex_yolo12n/images/val/train_604.png  \n",
      "  inflating: dentex_yolo12n/images/val/train_605.png  \n",
      "  inflating: dentex_yolo12n/images/val/train_606.png  \n",
      "  inflating: dentex_yolo12n/images/val/train_607.png  \n",
      "  inflating: dentex_yolo12n/images/val/train_608.png  \n",
      "  inflating: dentex_yolo12n/images/val/train_609.png  \n",
      "  inflating: dentex_yolo12n/images/val/train_612.png  \n",
      "  inflating: dentex_yolo12n/images/val/train_613.png  \n",
      "  inflating: dentex_yolo12n/images/val/train_614.png  \n",
      "  inflating: dentex_yolo12n/images/val/train_615.png  \n",
      "  inflating: dentex_yolo12n/images/val/train_616.png  \n",
      "  inflating: dentex_yolo12n/images/val/train_617.png  \n",
      "  inflating: dentex_yolo12n/images/val/train_618.png  \n",
      "  inflating: dentex_yolo12n/images/val/train_619.png  \n",
      "  inflating: dentex_yolo12n/images/val/train_620.png  \n",
      "  inflating: dentex_yolo12n/images/val/train_621.png  \n",
      "  inflating: dentex_yolo12n/images/val/train_622.png  \n",
      "  inflating: dentex_yolo12n/images/val/train_623.png  \n",
      "  inflating: dentex_yolo12n/images/val/train_624.png  \n",
      "  inflating: dentex_yolo12n/images/val/train_625.png  \n",
      "  inflating: dentex_yolo12n/images/val/train_626.png  \n",
      "  inflating: dentex_yolo12n/images/val/train_627.png  \n",
      "  inflating: dentex_yolo12n/images/val/train_628.png  \n",
      "  inflating: dentex_yolo12n/images/val/train_629.png  \n",
      "  inflating: dentex_yolo12n/images/val/train_630.png  \n",
      "  inflating: dentex_yolo12n/images/val/train_631.png  \n",
      "  inflating: dentex_yolo12n/images/val/train_632.png  \n",
      "  inflating: dentex_yolo12n/images/val/train_633.png  \n",
      "  inflating: dentex_yolo12n/images/val/train_634.png  \n",
      "  inflating: dentex_yolo12n/images/val/train_635.png  \n",
      "  inflating: dentex_yolo12n/images/val/train_636.png  \n",
      "  inflating: dentex_yolo12n/images/val/train_637.png  \n",
      "  inflating: dentex_yolo12n/images/val/train_638.png  \n",
      "  inflating: dentex_yolo12n/images/val/train_639.png  \n",
      "  inflating: dentex_yolo12n/images/val/train_640.png  \n",
      "  inflating: dentex_yolo12n/images/val/train_641.png  \n",
      "  inflating: dentex_yolo12n/images/val/train_642.png  \n",
      "  inflating: dentex_yolo12n/images/val/train_643.png  \n",
      "  inflating: dentex_yolo12n/images/val/train_644.png  \n",
      "  inflating: dentex_yolo12n/images/val/train_645.png  \n",
      "  inflating: dentex_yolo12n/images/val/train_646.png  \n",
      "  inflating: dentex_yolo12n/images/val/train_647.png  \n",
      "  inflating: dentex_yolo12n/images/val/train_648.png  \n",
      "  inflating: dentex_yolo12n/images/val/train_649.png  \n",
      "  inflating: dentex_yolo12n/images/val/train_650.png  \n",
      "  inflating: dentex_yolo12n/images/val/train_651.png  \n",
      "  inflating: dentex_yolo12n/images/val/train_652.png  \n",
      "  inflating: dentex_yolo12n/images/val/train_653.png  \n",
      "  inflating: dentex_yolo12n/images/val/train_654.png  \n",
      "  inflating: dentex_yolo12n/images/val/train_655.png  \n",
      "  inflating: dentex_yolo12n/images/val/train_656.png  \n",
      "  inflating: dentex_yolo12n/images/val/train_657.png  \n",
      "  inflating: dentex_yolo12n/images/val/train_658.png  \n",
      "  inflating: dentex_yolo12n/images/val/train_659.png  \n",
      "  inflating: dentex_yolo12n/images/val/train_660.png  \n",
      "  inflating: dentex_yolo12n/images/val/train_661.png  \n",
      "  inflating: dentex_yolo12n/images/val/train_662.png  \n",
      "  inflating: dentex_yolo12n/images/val/train_663.png  \n",
      "  inflating: dentex_yolo12n/images/val/train_664.png  \n",
      "  inflating: dentex_yolo12n/images/val/train_665.png  \n",
      "  inflating: dentex_yolo12n/images/val/train_667.png  \n",
      "  inflating: dentex_yolo12n/images/val/train_668.png  \n",
      "  inflating: dentex_yolo12n/images/val/train_669.png  \n",
      "  inflating: dentex_yolo12n/images/val/train_670.png  \n",
      "  inflating: dentex_yolo12n/images/val/train_671.png  \n",
      "  inflating: dentex_yolo12n/images/val/train_672.png  \n",
      "  inflating: dentex_yolo12n/images/val/train_673.png  \n",
      "  inflating: dentex_yolo12n/images/val/train_674.png  \n",
      "  inflating: dentex_yolo12n/images/val/train_675.png  \n",
      "  inflating: dentex_yolo12n/images/val/train_676.png  \n",
      "  inflating: dentex_yolo12n/images/val/train_678.png  \n",
      "  inflating: dentex_yolo12n/images/val/train_679.png  \n",
      "  inflating: dentex_yolo12n/images/val/train_680.png  \n",
      "  inflating: dentex_yolo12n/images/val/train_681.png  \n",
      "  inflating: dentex_yolo12n/images/val/train_682.png  \n",
      "  inflating: dentex_yolo12n/images/val/train_683.png  \n",
      "  inflating: dentex_yolo12n/images/val/train_684.png  \n",
      "  inflating: dentex_yolo12n/images/val/train_685.png  \n",
      "  inflating: dentex_yolo12n/images/val/train_686.png  \n",
      "  inflating: dentex_yolo12n/images/val/train_687.png  \n",
      "  inflating: dentex_yolo12n/images/val/train_688.png  \n",
      "  inflating: dentex_yolo12n/images/val/train_689.png  \n",
      "  inflating: dentex_yolo12n/images/val/train_690.png  \n",
      "  inflating: dentex_yolo12n/images/val/train_691.png  \n",
      "  inflating: dentex_yolo12n/images/val/train_692.png  \n",
      "  inflating: dentex_yolo12n/images/val/train_693.png  \n",
      "  inflating: dentex_yolo12n/images/val/train_694.png  \n",
      "  inflating: dentex_yolo12n/images/val/train_696.png  \n",
      "  inflating: dentex_yolo12n/images/val/train_697.png  \n",
      "  inflating: dentex_yolo12n/images/val/train_698.png  \n",
      "  inflating: dentex_yolo12n/images/val/train_699.png  \n",
      "  inflating: dentex_yolo12n/images/val/train_700.png  \n",
      "  inflating: dentex_yolo12n/images/val/train_701.png  \n",
      "  inflating: dentex_yolo12n/images/val/train_702.png  \n",
      "  inflating: dentex_yolo12n/images/val/train_703.png  \n",
      "  inflating: dentex_yolo12n/images/val/train_704.png  \n",
      "   creating: dentex_yolo12n/labels/\n",
      "   creating: dentex_yolo12n/labels/train/\n",
      "  inflating: dentex_yolo12n/labels/train/train_0.txt  \n",
      "  inflating: dentex_yolo12n/labels/train/train_1.txt  \n",
      "  inflating: dentex_yolo12n/labels/train/train_10.txt  \n",
      "  inflating: dentex_yolo12n/labels/train/train_100.txt  \n",
      "  inflating: dentex_yolo12n/labels/train/train_101.txt  \n",
      "  inflating: dentex_yolo12n/labels/train/train_102.txt  \n",
      "  inflating: dentex_yolo12n/labels/train/train_103.txt  \n",
      "  inflating: dentex_yolo12n/labels/train/train_104.txt  \n",
      "  inflating: dentex_yolo12n/labels/train/train_105.txt  \n",
      "  inflating: dentex_yolo12n/labels/train/train_106.txt  \n",
      "  inflating: dentex_yolo12n/labels/train/train_107.txt  \n",
      "  inflating: dentex_yolo12n/labels/train/train_108.txt  \n",
      "  inflating: dentex_yolo12n/labels/train/train_109.txt  \n",
      "  inflating: dentex_yolo12n/labels/train/train_11.txt  \n",
      "  inflating: dentex_yolo12n/labels/train/train_110.txt  \n",
      "  inflating: dentex_yolo12n/labels/train/train_111.txt  \n",
      "  inflating: dentex_yolo12n/labels/train/train_112.txt  \n",
      "  inflating: dentex_yolo12n/labels/train/train_113.txt  \n",
      "  inflating: dentex_yolo12n/labels/train/train_114.txt  \n",
      "  inflating: dentex_yolo12n/labels/train/train_115.txt  \n",
      "  inflating: dentex_yolo12n/labels/train/train_116.txt  \n",
      "  inflating: dentex_yolo12n/labels/train/train_117.txt  \n",
      "  inflating: dentex_yolo12n/labels/train/train_118.txt  \n",
      "  inflating: dentex_yolo12n/labels/train/train_119.txt  \n",
      "  inflating: dentex_yolo12n/labels/train/train_12.txt  \n",
      "  inflating: dentex_yolo12n/labels/train/train_120.txt  \n",
      "  inflating: dentex_yolo12n/labels/train/train_121.txt  \n",
      "  inflating: dentex_yolo12n/labels/train/train_122.txt  \n",
      "  inflating: dentex_yolo12n/labels/train/train_124.txt  \n",
      "  inflating: dentex_yolo12n/labels/train/train_125.txt  \n",
      "  inflating: dentex_yolo12n/labels/train/train_126.txt  \n",
      "  inflating: dentex_yolo12n/labels/train/train_127.txt  \n",
      "  inflating: dentex_yolo12n/labels/train/train_128.txt  \n",
      "  inflating: dentex_yolo12n/labels/train/train_13.txt  \n",
      "  inflating: dentex_yolo12n/labels/train/train_130.txt  \n",
      "  inflating: dentex_yolo12n/labels/train/train_131.txt  \n",
      "  inflating: dentex_yolo12n/labels/train/train_132.txt  \n",
      "  inflating: dentex_yolo12n/labels/train/train_133.txt  \n",
      "  inflating: dentex_yolo12n/labels/train/train_134.txt  \n",
      "  inflating: dentex_yolo12n/labels/train/train_135.txt  \n",
      "  inflating: dentex_yolo12n/labels/train/train_136.txt  \n",
      "  inflating: dentex_yolo12n/labels/train/train_137.txt  \n",
      "  inflating: dentex_yolo12n/labels/train/train_138.txt  \n",
      "  inflating: dentex_yolo12n/labels/train/train_139.txt  \n",
      "  inflating: dentex_yolo12n/labels/train/train_14.txt  \n",
      "  inflating: dentex_yolo12n/labels/train/train_140.txt  \n",
      "  inflating: dentex_yolo12n/labels/train/train_141.txt  \n",
      "  inflating: dentex_yolo12n/labels/train/train_142.txt  \n",
      "  inflating: dentex_yolo12n/labels/train/train_143.txt  \n",
      "  inflating: dentex_yolo12n/labels/train/train_144.txt  \n",
      "  inflating: dentex_yolo12n/labels/train/train_145.txt  \n",
      "  inflating: dentex_yolo12n/labels/train/train_146.txt  \n",
      "  inflating: dentex_yolo12n/labels/train/train_147.txt  \n",
      "  inflating: dentex_yolo12n/labels/train/train_148.txt  \n",
      "  inflating: dentex_yolo12n/labels/train/train_149.txt  \n",
      "  inflating: dentex_yolo12n/labels/train/train_15.txt  \n",
      "  inflating: dentex_yolo12n/labels/train/train_150.txt  \n",
      "  inflating: dentex_yolo12n/labels/train/train_151.txt  \n",
      "  inflating: dentex_yolo12n/labels/train/train_152.txt  \n",
      "  inflating: dentex_yolo12n/labels/train/train_153.txt  \n",
      "  inflating: dentex_yolo12n/labels/train/train_154.txt  \n",
      "  inflating: dentex_yolo12n/labels/train/train_155.txt  \n",
      "  inflating: dentex_yolo12n/labels/train/train_156.txt  \n",
      "  inflating: dentex_yolo12n/labels/train/train_157.txt  \n",
      "  inflating: dentex_yolo12n/labels/train/train_158.txt  \n",
      "  inflating: dentex_yolo12n/labels/train/train_159.txt  \n",
      "  inflating: dentex_yolo12n/labels/train/train_16.txt  \n",
      "  inflating: dentex_yolo12n/labels/train/train_160.txt  \n",
      "  inflating: dentex_yolo12n/labels/train/train_161.txt  \n",
      "  inflating: dentex_yolo12n/labels/train/train_162.txt  \n",
      "  inflating: dentex_yolo12n/labels/train/train_163.txt  \n",
      "  inflating: dentex_yolo12n/labels/train/train_164.txt  \n",
      "  inflating: dentex_yolo12n/labels/train/train_165.txt  \n",
      "  inflating: dentex_yolo12n/labels/train/train_166.txt  \n",
      "  inflating: dentex_yolo12n/labels/train/train_167.txt  \n",
      "  inflating: dentex_yolo12n/labels/train/train_168.txt  \n",
      "  inflating: dentex_yolo12n/labels/train/train_169.txt  \n",
      "  inflating: dentex_yolo12n/labels/train/train_17.txt  \n",
      "  inflating: dentex_yolo12n/labels/train/train_170.txt  \n",
      "  inflating: dentex_yolo12n/labels/train/train_171.txt  \n",
      "  inflating: dentex_yolo12n/labels/train/train_172.txt  \n",
      "  inflating: dentex_yolo12n/labels/train/train_173.txt  \n",
      "  inflating: dentex_yolo12n/labels/train/train_174.txt  \n",
      "  inflating: dentex_yolo12n/labels/train/train_176.txt  \n",
      "  inflating: dentex_yolo12n/labels/train/train_177.txt  \n",
      "  inflating: dentex_yolo12n/labels/train/train_178.txt  \n",
      "  inflating: dentex_yolo12n/labels/train/train_179.txt  \n",
      "  inflating: dentex_yolo12n/labels/train/train_18.txt  \n",
      "  inflating: dentex_yolo12n/labels/train/train_180.txt  \n",
      "  inflating: dentex_yolo12n/labels/train/train_181.txt  \n",
      "  inflating: dentex_yolo12n/labels/train/train_182.txt  \n",
      "  inflating: dentex_yolo12n/labels/train/train_183.txt  \n",
      "  inflating: dentex_yolo12n/labels/train/train_184.txt  \n",
      "  inflating: dentex_yolo12n/labels/train/train_185.txt  \n",
      "  inflating: dentex_yolo12n/labels/train/train_186.txt  \n",
      "  inflating: dentex_yolo12n/labels/train/train_187.txt  \n",
      "  inflating: dentex_yolo12n/labels/train/train_188.txt  \n",
      "  inflating: dentex_yolo12n/labels/train/train_189.txt  \n",
      "  inflating: dentex_yolo12n/labels/train/train_19.txt  \n",
      "  inflating: dentex_yolo12n/labels/train/train_190.txt  \n",
      "  inflating: dentex_yolo12n/labels/train/train_191.txt  \n",
      "  inflating: dentex_yolo12n/labels/train/train_192.txt  \n",
      "  inflating: dentex_yolo12n/labels/train/train_193.txt  \n",
      "  inflating: dentex_yolo12n/labels/train/train_194.txt  \n",
      "  inflating: dentex_yolo12n/labels/train/train_195.txt  \n",
      "  inflating: dentex_yolo12n/labels/train/train_196.txt  \n",
      "  inflating: dentex_yolo12n/labels/train/train_197.txt  \n",
      "  inflating: dentex_yolo12n/labels/train/train_198.txt  \n",
      "  inflating: dentex_yolo12n/labels/train/train_199.txt  \n",
      "  inflating: dentex_yolo12n/labels/train/train_2.txt  \n",
      "  inflating: dentex_yolo12n/labels/train/train_20.txt  \n",
      "  inflating: dentex_yolo12n/labels/train/train_200.txt  \n",
      "  inflating: dentex_yolo12n/labels/train/train_201.txt  \n",
      "  inflating: dentex_yolo12n/labels/train/train_202.txt  \n",
      "  inflating: dentex_yolo12n/labels/train/train_203.txt  \n",
      "  inflating: dentex_yolo12n/labels/train/train_204.txt  \n",
      "  inflating: dentex_yolo12n/labels/train/train_206.txt  \n",
      "  inflating: dentex_yolo12n/labels/train/train_207.txt  \n",
      "  inflating: dentex_yolo12n/labels/train/train_208.txt  \n",
      "  inflating: dentex_yolo12n/labels/train/train_209.txt  \n",
      "  inflating: dentex_yolo12n/labels/train/train_21.txt  \n",
      "  inflating: dentex_yolo12n/labels/train/train_210.txt  \n",
      "  inflating: dentex_yolo12n/labels/train/train_211.txt  \n",
      "  inflating: dentex_yolo12n/labels/train/train_212.txt  \n",
      "  inflating: dentex_yolo12n/labels/train/train_213.txt  \n",
      "  inflating: dentex_yolo12n/labels/train/train_214.txt  \n",
      "  inflating: dentex_yolo12n/labels/train/train_215.txt  \n",
      "  inflating: dentex_yolo12n/labels/train/train_216.txt  \n",
      "  inflating: dentex_yolo12n/labels/train/train_217.txt  \n",
      "  inflating: dentex_yolo12n/labels/train/train_218.txt  \n",
      "  inflating: dentex_yolo12n/labels/train/train_219.txt  \n",
      "  inflating: dentex_yolo12n/labels/train/train_22.txt  \n",
      "  inflating: dentex_yolo12n/labels/train/train_220.txt  \n",
      "  inflating: dentex_yolo12n/labels/train/train_222.txt  \n",
      "  inflating: dentex_yolo12n/labels/train/train_223.txt  \n",
      "  inflating: dentex_yolo12n/labels/train/train_224.txt  \n",
      "  inflating: dentex_yolo12n/labels/train/train_225.txt  \n",
      "  inflating: dentex_yolo12n/labels/train/train_226.txt  \n",
      "  inflating: dentex_yolo12n/labels/train/train_227.txt  \n",
      "  inflating: dentex_yolo12n/labels/train/train_228.txt  \n",
      "  inflating: dentex_yolo12n/labels/train/train_229.txt  \n",
      "  inflating: dentex_yolo12n/labels/train/train_23.txt  \n",
      "  inflating: dentex_yolo12n/labels/train/train_230.txt  \n",
      "  inflating: dentex_yolo12n/labels/train/train_231.txt  \n",
      "  inflating: dentex_yolo12n/labels/train/train_232.txt  \n",
      "  inflating: dentex_yolo12n/labels/train/train_233.txt  \n",
      "  inflating: dentex_yolo12n/labels/train/train_234.txt  \n",
      "  inflating: dentex_yolo12n/labels/train/train_235.txt  \n",
      "  inflating: dentex_yolo12n/labels/train/train_236.txt  \n",
      "  inflating: dentex_yolo12n/labels/train/train_237.txt  \n",
      "  inflating: dentex_yolo12n/labels/train/train_238.txt  \n",
      "  inflating: dentex_yolo12n/labels/train/train_239.txt  \n",
      "  inflating: dentex_yolo12n/labels/train/train_24.txt  \n",
      "  inflating: dentex_yolo12n/labels/train/train_240.txt  \n",
      "  inflating: dentex_yolo12n/labels/train/train_241.txt  \n",
      "  inflating: dentex_yolo12n/labels/train/train_242.txt  \n",
      "  inflating: dentex_yolo12n/labels/train/train_243.txt  \n",
      "  inflating: dentex_yolo12n/labels/train/train_244.txt  \n",
      "  inflating: dentex_yolo12n/labels/train/train_246.txt  \n",
      "  inflating: dentex_yolo12n/labels/train/train_248.txt  \n",
      "  inflating: dentex_yolo12n/labels/train/train_249.txt  \n",
      "  inflating: dentex_yolo12n/labels/train/train_25.txt  \n",
      "  inflating: dentex_yolo12n/labels/train/train_250.txt  \n",
      "  inflating: dentex_yolo12n/labels/train/train_251.txt  \n",
      "  inflating: dentex_yolo12n/labels/train/train_252.txt  \n",
      "  inflating: dentex_yolo12n/labels/train/train_253.txt  \n",
      "  inflating: dentex_yolo12n/labels/train/train_254.txt  \n",
      "  inflating: dentex_yolo12n/labels/train/train_255.txt  \n",
      "  inflating: dentex_yolo12n/labels/train/train_256.txt  \n",
      "  inflating: dentex_yolo12n/labels/train/train_257.txt  \n",
      "  inflating: dentex_yolo12n/labels/train/train_258.txt  \n",
      "  inflating: dentex_yolo12n/labels/train/train_259.txt  \n",
      "  inflating: dentex_yolo12n/labels/train/train_26.txt  \n",
      "  inflating: dentex_yolo12n/labels/train/train_260.txt  \n",
      "  inflating: dentex_yolo12n/labels/train/train_261.txt  \n",
      "  inflating: dentex_yolo12n/labels/train/train_262.txt  \n",
      "  inflating: dentex_yolo12n/labels/train/train_263.txt  \n",
      "  inflating: dentex_yolo12n/labels/train/train_264.txt  \n",
      "  inflating: dentex_yolo12n/labels/train/train_265.txt  \n",
      "  inflating: dentex_yolo12n/labels/train/train_266.txt  \n",
      "  inflating: dentex_yolo12n/labels/train/train_267.txt  \n",
      "  inflating: dentex_yolo12n/labels/train/train_268.txt  \n",
      "  inflating: dentex_yolo12n/labels/train/train_269.txt  \n",
      "  inflating: dentex_yolo12n/labels/train/train_27.txt  \n",
      "  inflating: dentex_yolo12n/labels/train/train_270.txt  \n",
      "  inflating: dentex_yolo12n/labels/train/train_271.txt  \n",
      "  inflating: dentex_yolo12n/labels/train/train_272.txt  \n",
      "  inflating: dentex_yolo12n/labels/train/train_273.txt  \n",
      "  inflating: dentex_yolo12n/labels/train/train_274.txt  \n",
      "  inflating: dentex_yolo12n/labels/train/train_275.txt  \n",
      "  inflating: dentex_yolo12n/labels/train/train_276.txt  \n",
      "  inflating: dentex_yolo12n/labels/train/train_277.txt  \n",
      "  inflating: dentex_yolo12n/labels/train/train_278.txt  \n",
      "  inflating: dentex_yolo12n/labels/train/train_279.txt  \n",
      "  inflating: dentex_yolo12n/labels/train/train_28.txt  \n",
      "  inflating: dentex_yolo12n/labels/train/train_280.txt  \n",
      "  inflating: dentex_yolo12n/labels/train/train_281.txt  \n",
      "  inflating: dentex_yolo12n/labels/train/train_282.txt  \n",
      "  inflating: dentex_yolo12n/labels/train/train_283.txt  \n",
      "  inflating: dentex_yolo12n/labels/train/train_284.txt  \n",
      "  inflating: dentex_yolo12n/labels/train/train_285.txt  \n",
      "  inflating: dentex_yolo12n/labels/train/train_286.txt  \n",
      "  inflating: dentex_yolo12n/labels/train/train_287.txt  \n",
      "  inflating: dentex_yolo12n/labels/train/train_288.txt  \n",
      "  inflating: dentex_yolo12n/labels/train/train_289.txt  \n",
      "  inflating: dentex_yolo12n/labels/train/train_29.txt  \n",
      "  inflating: dentex_yolo12n/labels/train/train_290.txt  \n",
      "  inflating: dentex_yolo12n/labels/train/train_291.txt  \n",
      "  inflating: dentex_yolo12n/labels/train/train_292.txt  \n",
      "  inflating: dentex_yolo12n/labels/train/train_293.txt  \n",
      "  inflating: dentex_yolo12n/labels/train/train_294.txt  \n",
      "  inflating: dentex_yolo12n/labels/train/train_295.txt  \n",
      "  inflating: dentex_yolo12n/labels/train/train_296.txt  \n",
      "  inflating: dentex_yolo12n/labels/train/train_297.txt  \n",
      "  inflating: dentex_yolo12n/labels/train/train_298.txt  \n",
      "  inflating: dentex_yolo12n/labels/train/train_299.txt  \n",
      "  inflating: dentex_yolo12n/labels/train/train_3.txt  \n",
      "  inflating: dentex_yolo12n/labels/train/train_30.txt  \n",
      "  inflating: dentex_yolo12n/labels/train/train_300.txt  \n",
      "  inflating: dentex_yolo12n/labels/train/train_301.txt  \n",
      "  inflating: dentex_yolo12n/labels/train/train_302.txt  \n",
      "  inflating: dentex_yolo12n/labels/train/train_303.txt  \n",
      "  inflating: dentex_yolo12n/labels/train/train_304.txt  \n",
      "  inflating: dentex_yolo12n/labels/train/train_305.txt  \n",
      "  inflating: dentex_yolo12n/labels/train/train_306.txt  \n",
      "  inflating: dentex_yolo12n/labels/train/train_307.txt  \n",
      "  inflating: dentex_yolo12n/labels/train/train_308.txt  \n",
      "  inflating: dentex_yolo12n/labels/train/train_309.txt  \n",
      "  inflating: dentex_yolo12n/labels/train/train_31.txt  \n",
      "  inflating: dentex_yolo12n/labels/train/train_310.txt  \n",
      "  inflating: dentex_yolo12n/labels/train/train_311.txt  \n",
      "  inflating: dentex_yolo12n/labels/train/train_312.txt  \n",
      "  inflating: dentex_yolo12n/labels/train/train_313.txt  \n",
      "  inflating: dentex_yolo12n/labels/train/train_314.txt  \n",
      "  inflating: dentex_yolo12n/labels/train/train_315.txt  \n",
      "  inflating: dentex_yolo12n/labels/train/train_316.txt  \n",
      "  inflating: dentex_yolo12n/labels/train/train_317.txt  \n",
      "  inflating: dentex_yolo12n/labels/train/train_318.txt  \n",
      "  inflating: dentex_yolo12n/labels/train/train_319.txt  \n",
      "  inflating: dentex_yolo12n/labels/train/train_32.txt  \n",
      "  inflating: dentex_yolo12n/labels/train/train_320.txt  \n",
      "  inflating: dentex_yolo12n/labels/train/train_321.txt  \n",
      "  inflating: dentex_yolo12n/labels/train/train_322.txt  \n",
      "  inflating: dentex_yolo12n/labels/train/train_323.txt  \n",
      "  inflating: dentex_yolo12n/labels/train/train_324.txt  \n",
      "  inflating: dentex_yolo12n/labels/train/train_325.txt  \n",
      "  inflating: dentex_yolo12n/labels/train/train_326.txt  \n",
      "  inflating: dentex_yolo12n/labels/train/train_327.txt  \n",
      "  inflating: dentex_yolo12n/labels/train/train_328.txt  \n",
      "  inflating: dentex_yolo12n/labels/train/train_329.txt  \n",
      "  inflating: dentex_yolo12n/labels/train/train_33.txt  \n",
      "  inflating: dentex_yolo12n/labels/train/train_330.txt  \n",
      "  inflating: dentex_yolo12n/labels/train/train_331.txt  \n",
      "  inflating: dentex_yolo12n/labels/train/train_332.txt  \n",
      "  inflating: dentex_yolo12n/labels/train/train_333.txt  \n",
      "  inflating: dentex_yolo12n/labels/train/train_334.txt  \n",
      "  inflating: dentex_yolo12n/labels/train/train_335.txt  \n",
      "  inflating: dentex_yolo12n/labels/train/train_336.txt  \n",
      "  inflating: dentex_yolo12n/labels/train/train_337.txt  \n",
      "  inflating: dentex_yolo12n/labels/train/train_338.txt  \n",
      "  inflating: dentex_yolo12n/labels/train/train_339.txt  \n",
      "  inflating: dentex_yolo12n/labels/train/train_34.txt  \n",
      "  inflating: dentex_yolo12n/labels/train/train_340.txt  \n",
      "  inflating: dentex_yolo12n/labels/train/train_341.txt  \n",
      "  inflating: dentex_yolo12n/labels/train/train_342.txt  \n",
      "  inflating: dentex_yolo12n/labels/train/train_343.txt  \n",
      "  inflating: dentex_yolo12n/labels/train/train_344.txt  \n",
      "  inflating: dentex_yolo12n/labels/train/train_345.txt  \n",
      "  inflating: dentex_yolo12n/labels/train/train_347.txt  \n",
      "  inflating: dentex_yolo12n/labels/train/train_348.txt  \n",
      "  inflating: dentex_yolo12n/labels/train/train_349.txt  \n",
      "  inflating: dentex_yolo12n/labels/train/train_35.txt  \n",
      "  inflating: dentex_yolo12n/labels/train/train_350.txt  \n",
      "  inflating: dentex_yolo12n/labels/train/train_351.txt  \n",
      "  inflating: dentex_yolo12n/labels/train/train_352.txt  \n",
      "  inflating: dentex_yolo12n/labels/train/train_353.txt  \n",
      "  inflating: dentex_yolo12n/labels/train/train_354.txt  \n",
      "  inflating: dentex_yolo12n/labels/train/train_355.txt  \n",
      "  inflating: dentex_yolo12n/labels/train/train_356.txt  \n",
      "  inflating: dentex_yolo12n/labels/train/train_358.txt  \n",
      "  inflating: dentex_yolo12n/labels/train/train_359.txt  \n",
      "  inflating: dentex_yolo12n/labels/train/train_36.txt  \n",
      "  inflating: dentex_yolo12n/labels/train/train_360.txt  \n",
      "  inflating: dentex_yolo12n/labels/train/train_361.txt  \n",
      "  inflating: dentex_yolo12n/labels/train/train_362.txt  \n",
      "  inflating: dentex_yolo12n/labels/train/train_363.txt  \n",
      "  inflating: dentex_yolo12n/labels/train/train_364.txt  \n",
      "  inflating: dentex_yolo12n/labels/train/train_365.txt  \n",
      "  inflating: dentex_yolo12n/labels/train/train_366.txt  \n",
      "  inflating: dentex_yolo12n/labels/train/train_367.txt  \n",
      "  inflating: dentex_yolo12n/labels/train/train_368.txt  \n",
      "  inflating: dentex_yolo12n/labels/train/train_369.txt  \n",
      "  inflating: dentex_yolo12n/labels/train/train_37.txt  \n",
      "  inflating: dentex_yolo12n/labels/train/train_370.txt  \n",
      "  inflating: dentex_yolo12n/labels/train/train_371.txt  \n",
      "  inflating: dentex_yolo12n/labels/train/train_372.txt  \n",
      "  inflating: dentex_yolo12n/labels/train/train_373.txt  \n",
      "  inflating: dentex_yolo12n/labels/train/train_374.txt  \n",
      "  inflating: dentex_yolo12n/labels/train/train_375.txt  \n",
      "  inflating: dentex_yolo12n/labels/train/train_376.txt  \n",
      "  inflating: dentex_yolo12n/labels/train/train_377.txt  \n",
      "  inflating: dentex_yolo12n/labels/train/train_378.txt  \n",
      "  inflating: dentex_yolo12n/labels/train/train_379.txt  \n",
      "  inflating: dentex_yolo12n/labels/train/train_380.txt  \n",
      "  inflating: dentex_yolo12n/labels/train/train_381.txt  \n",
      "  inflating: dentex_yolo12n/labels/train/train_382.txt  \n",
      "  inflating: dentex_yolo12n/labels/train/train_383.txt  \n",
      "  inflating: dentex_yolo12n/labels/train/train_384.txt  \n",
      "  inflating: dentex_yolo12n/labels/train/train_385.txt  \n",
      "  inflating: dentex_yolo12n/labels/train/train_386.txt  \n",
      "  inflating: dentex_yolo12n/labels/train/train_387.txt  \n",
      "  inflating: dentex_yolo12n/labels/train/train_388.txt  \n",
      "  inflating: dentex_yolo12n/labels/train/train_389.txt  \n",
      "  inflating: dentex_yolo12n/labels/train/train_39.txt  \n",
      "  inflating: dentex_yolo12n/labels/train/train_390.txt  \n",
      "  inflating: dentex_yolo12n/labels/train/train_391.txt  \n",
      "  inflating: dentex_yolo12n/labels/train/train_392.txt  \n",
      "  inflating: dentex_yolo12n/labels/train/train_393.txt  \n",
      "  inflating: dentex_yolo12n/labels/train/train_394.txt  \n",
      "  inflating: dentex_yolo12n/labels/train/train_395.txt  \n",
      "  inflating: dentex_yolo12n/labels/train/train_396.txt  \n",
      "  inflating: dentex_yolo12n/labels/train/train_397.txt  \n",
      "  inflating: dentex_yolo12n/labels/train/train_398.txt  \n",
      "  inflating: dentex_yolo12n/labels/train/train_399.txt  \n",
      "  inflating: dentex_yolo12n/labels/train/train_4.txt  \n",
      "  inflating: dentex_yolo12n/labels/train/train_40.txt  \n",
      "  inflating: dentex_yolo12n/labels/train/train_400.txt  \n",
      "  inflating: dentex_yolo12n/labels/train/train_401.txt  \n",
      "  inflating: dentex_yolo12n/labels/train/train_402.txt  \n",
      "  inflating: dentex_yolo12n/labels/train/train_403.txt  \n",
      "  inflating: dentex_yolo12n/labels/train/train_404.txt  \n",
      "  inflating: dentex_yolo12n/labels/train/train_405.txt  \n",
      "  inflating: dentex_yolo12n/labels/train/train_406.txt  \n",
      "  inflating: dentex_yolo12n/labels/train/train_407.txt  \n",
      "  inflating: dentex_yolo12n/labels/train/train_408.txt  \n",
      "  inflating: dentex_yolo12n/labels/train/train_409.txt  \n",
      "  inflating: dentex_yolo12n/labels/train/train_41.txt  \n",
      "  inflating: dentex_yolo12n/labels/train/train_411.txt  \n",
      "  inflating: dentex_yolo12n/labels/train/train_412.txt  \n",
      "  inflating: dentex_yolo12n/labels/train/train_413.txt  \n",
      "  inflating: dentex_yolo12n/labels/train/train_414.txt  \n",
      "  inflating: dentex_yolo12n/labels/train/train_415.txt  \n",
      "  inflating: dentex_yolo12n/labels/train/train_417.txt  \n",
      "  inflating: dentex_yolo12n/labels/train/train_418.txt  \n",
      "  inflating: dentex_yolo12n/labels/train/train_419.txt  \n",
      "  inflating: dentex_yolo12n/labels/train/train_42.txt  \n",
      "  inflating: dentex_yolo12n/labels/train/train_420.txt  \n",
      "  inflating: dentex_yolo12n/labels/train/train_421.txt  \n",
      "  inflating: dentex_yolo12n/labels/train/train_422.txt  \n",
      "  inflating: dentex_yolo12n/labels/train/train_423.txt  \n",
      "  inflating: dentex_yolo12n/labels/train/train_424.txt  \n",
      "  inflating: dentex_yolo12n/labels/train/train_425.txt  \n",
      "  inflating: dentex_yolo12n/labels/train/train_426.txt  \n",
      "  inflating: dentex_yolo12n/labels/train/train_427.txt  \n",
      "  inflating: dentex_yolo12n/labels/train/train_428.txt  \n",
      "  inflating: dentex_yolo12n/labels/train/train_429.txt  \n",
      "  inflating: dentex_yolo12n/labels/train/train_43.txt  \n",
      "  inflating: dentex_yolo12n/labels/train/train_431.txt  \n",
      "  inflating: dentex_yolo12n/labels/train/train_432.txt  \n",
      "  inflating: dentex_yolo12n/labels/train/train_433.txt  \n",
      "  inflating: dentex_yolo12n/labels/train/train_434.txt  \n",
      "  inflating: dentex_yolo12n/labels/train/train_436.txt  \n",
      "  inflating: dentex_yolo12n/labels/train/train_437.txt  \n",
      "  inflating: dentex_yolo12n/labels/train/train_438.txt  \n",
      "  inflating: dentex_yolo12n/labels/train/train_439.txt  \n",
      "  inflating: dentex_yolo12n/labels/train/train_44.txt  \n",
      "  inflating: dentex_yolo12n/labels/train/train_440.txt  \n",
      "  inflating: dentex_yolo12n/labels/train/train_441.txt  \n",
      "  inflating: dentex_yolo12n/labels/train/train_442.txt  \n",
      "  inflating: dentex_yolo12n/labels/train/train_443.txt  \n",
      "  inflating: dentex_yolo12n/labels/train/train_444.txt  \n",
      "  inflating: dentex_yolo12n/labels/train/train_445.txt  \n",
      "  inflating: dentex_yolo12n/labels/train/train_446.txt  \n",
      "  inflating: dentex_yolo12n/labels/train/train_447.txt  \n",
      "  inflating: dentex_yolo12n/labels/train/train_448.txt  \n",
      "  inflating: dentex_yolo12n/labels/train/train_449.txt  \n",
      "  inflating: dentex_yolo12n/labels/train/train_45.txt  \n",
      "  inflating: dentex_yolo12n/labels/train/train_450.txt  \n",
      "  inflating: dentex_yolo12n/labels/train/train_451.txt  \n",
      "  inflating: dentex_yolo12n/labels/train/train_452.txt  \n",
      "  inflating: dentex_yolo12n/labels/train/train_453.txt  \n",
      "  inflating: dentex_yolo12n/labels/train/train_454.txt  \n",
      "  inflating: dentex_yolo12n/labels/train/train_455.txt  \n",
      "  inflating: dentex_yolo12n/labels/train/train_456.txt  \n",
      "  inflating: dentex_yolo12n/labels/train/train_457.txt  \n",
      "  inflating: dentex_yolo12n/labels/train/train_458.txt  \n",
      "  inflating: dentex_yolo12n/labels/train/train_459.txt  \n",
      "  inflating: dentex_yolo12n/labels/train/train_46.txt  \n",
      "  inflating: dentex_yolo12n/labels/train/train_460.txt  \n",
      "  inflating: dentex_yolo12n/labels/train/train_461.txt  \n",
      "  inflating: dentex_yolo12n/labels/train/train_462.txt  \n",
      "  inflating: dentex_yolo12n/labels/train/train_463.txt  \n",
      "  inflating: dentex_yolo12n/labels/train/train_464.txt  \n",
      "  inflating: dentex_yolo12n/labels/train/train_465.txt  \n",
      "  inflating: dentex_yolo12n/labels/train/train_466.txt  \n",
      "  inflating: dentex_yolo12n/labels/train/train_467.txt  \n",
      "  inflating: dentex_yolo12n/labels/train/train_468.txt  \n",
      "  inflating: dentex_yolo12n/labels/train/train_469.txt  \n",
      "  inflating: dentex_yolo12n/labels/train/train_47.txt  \n",
      "  inflating: dentex_yolo12n/labels/train/train_471.txt  \n",
      "  inflating: dentex_yolo12n/labels/train/train_472.txt  \n",
      "  inflating: dentex_yolo12n/labels/train/train_473.txt  \n",
      "  inflating: dentex_yolo12n/labels/train/train_474.txt  \n",
      "  inflating: dentex_yolo12n/labels/train/train_475.txt  \n",
      "  inflating: dentex_yolo12n/labels/train/train_476.txt  \n",
      "  inflating: dentex_yolo12n/labels/train/train_477.txt  \n",
      "  inflating: dentex_yolo12n/labels/train/train_478.txt  \n",
      "  inflating: dentex_yolo12n/labels/train/train_479.txt  \n",
      "  inflating: dentex_yolo12n/labels/train/train_48.txt  \n",
      "  inflating: dentex_yolo12n/labels/train/train_480.txt  \n",
      "  inflating: dentex_yolo12n/labels/train/train_481.txt  \n",
      "  inflating: dentex_yolo12n/labels/train/train_482.txt  \n",
      "  inflating: dentex_yolo12n/labels/train/train_483.txt  \n",
      "  inflating: dentex_yolo12n/labels/train/train_484.txt  \n",
      "  inflating: dentex_yolo12n/labels/train/train_485.txt  \n",
      "  inflating: dentex_yolo12n/labels/train/train_486.txt  \n",
      "  inflating: dentex_yolo12n/labels/train/train_487.txt  \n",
      "  inflating: dentex_yolo12n/labels/train/train_488.txt  \n",
      "  inflating: dentex_yolo12n/labels/train/train_489.txt  \n",
      "  inflating: dentex_yolo12n/labels/train/train_49.txt  \n",
      "  inflating: dentex_yolo12n/labels/train/train_490.txt  \n",
      "  inflating: dentex_yolo12n/labels/train/train_491.txt  \n",
      "  inflating: dentex_yolo12n/labels/train/train_492.txt  \n",
      "  inflating: dentex_yolo12n/labels/train/train_493.txt  \n",
      "  inflating: dentex_yolo12n/labels/train/train_494.txt  \n",
      "  inflating: dentex_yolo12n/labels/train/train_495.txt  \n",
      "  inflating: dentex_yolo12n/labels/train/train_496.txt  \n",
      "  inflating: dentex_yolo12n/labels/train/train_497.txt  \n",
      "  inflating: dentex_yolo12n/labels/train/train_498.txt  \n",
      "  inflating: dentex_yolo12n/labels/train/train_499.txt  \n",
      "  inflating: dentex_yolo12n/labels/train/train_5.txt  \n",
      "  inflating: dentex_yolo12n/labels/train/train_50.txt  \n",
      "  inflating: dentex_yolo12n/labels/train/train_500.txt  \n",
      "  inflating: dentex_yolo12n/labels/train/train_501.txt  \n",
      "  inflating: dentex_yolo12n/labels/train/train_502.txt  \n",
      "  inflating: dentex_yolo12n/labels/train/train_503.txt  \n",
      "  inflating: dentex_yolo12n/labels/train/train_504.txt  \n",
      "  inflating: dentex_yolo12n/labels/train/train_505.txt  \n",
      "  inflating: dentex_yolo12n/labels/train/train_506.txt  \n",
      "  inflating: dentex_yolo12n/labels/train/train_507.txt  \n",
      "  inflating: dentex_yolo12n/labels/train/train_508.txt  \n",
      "  inflating: dentex_yolo12n/labels/train/train_509.txt  \n",
      "  inflating: dentex_yolo12n/labels/train/train_51.txt  \n",
      "  inflating: dentex_yolo12n/labels/train/train_510.txt  \n",
      "  inflating: dentex_yolo12n/labels/train/train_511.txt  \n",
      "  inflating: dentex_yolo12n/labels/train/train_512.txt  \n",
      "  inflating: dentex_yolo12n/labels/train/train_513.txt  \n",
      "  inflating: dentex_yolo12n/labels/train/train_514.txt  \n",
      "  inflating: dentex_yolo12n/labels/train/train_515.txt  \n",
      "  inflating: dentex_yolo12n/labels/train/train_516.txt  \n",
      "  inflating: dentex_yolo12n/labels/train/train_517.txt  \n",
      "  inflating: dentex_yolo12n/labels/train/train_518.txt  \n",
      "  inflating: dentex_yolo12n/labels/train/train_519.txt  \n",
      "  inflating: dentex_yolo12n/labels/train/train_52.txt  \n",
      "  inflating: dentex_yolo12n/labels/train/train_520.txt  \n",
      "  inflating: dentex_yolo12n/labels/train/train_521.txt  \n",
      "  inflating: dentex_yolo12n/labels/train/train_522.txt  \n",
      "  inflating: dentex_yolo12n/labels/train/train_523.txt  \n",
      "  inflating: dentex_yolo12n/labels/train/train_524.txt  \n",
      "  inflating: dentex_yolo12n/labels/train/train_525.txt  \n",
      "  inflating: dentex_yolo12n/labels/train/train_526.txt  \n",
      "  inflating: dentex_yolo12n/labels/train/train_528.txt  \n",
      "  inflating: dentex_yolo12n/labels/train/train_529.txt  \n",
      "  inflating: dentex_yolo12n/labels/train/train_53.txt  \n",
      "  inflating: dentex_yolo12n/labels/train/train_530.txt  \n",
      "  inflating: dentex_yolo12n/labels/train/train_531.txt  \n",
      "  inflating: dentex_yolo12n/labels/train/train_532.txt  \n",
      "  inflating: dentex_yolo12n/labels/train/train_533.txt  \n",
      "  inflating: dentex_yolo12n/labels/train/train_534.txt  \n",
      "  inflating: dentex_yolo12n/labels/train/train_535.txt  \n",
      "  inflating: dentex_yolo12n/labels/train/train_536.txt  \n",
      "  inflating: dentex_yolo12n/labels/train/train_537.txt  \n",
      "  inflating: dentex_yolo12n/labels/train/train_539.txt  \n",
      "  inflating: dentex_yolo12n/labels/train/train_54.txt  \n",
      "  inflating: dentex_yolo12n/labels/train/train_540.txt  \n",
      "  inflating: dentex_yolo12n/labels/train/train_541.txt  \n",
      "  inflating: dentex_yolo12n/labels/train/train_542.txt  \n",
      "  inflating: dentex_yolo12n/labels/train/train_543.txt  \n",
      "  inflating: dentex_yolo12n/labels/train/train_544.txt  \n",
      "  inflating: dentex_yolo12n/labels/train/train_545.txt  \n",
      "  inflating: dentex_yolo12n/labels/train/train_546.txt  \n",
      "  inflating: dentex_yolo12n/labels/train/train_547.txt  \n",
      "  inflating: dentex_yolo12n/labels/train/train_548.txt  \n",
      "  inflating: dentex_yolo12n/labels/train/train_549.txt  \n",
      "  inflating: dentex_yolo12n/labels/train/train_55.txt  \n",
      "  inflating: dentex_yolo12n/labels/train/train_550.txt  \n",
      "  inflating: dentex_yolo12n/labels/train/train_551.txt  \n",
      "  inflating: dentex_yolo12n/labels/train/train_552.txt  \n",
      "  inflating: dentex_yolo12n/labels/train/train_553.txt  \n",
      "  inflating: dentex_yolo12n/labels/train/train_554.txt  \n",
      "  inflating: dentex_yolo12n/labels/train/train_555.txt  \n",
      "  inflating: dentex_yolo12n/labels/train/train_556.txt  \n",
      "  inflating: dentex_yolo12n/labels/train/train_557.txt  \n",
      "  inflating: dentex_yolo12n/labels/train/train_558.txt  \n",
      "  inflating: dentex_yolo12n/labels/train/train_56.txt  \n",
      "  inflating: dentex_yolo12n/labels/train/train_560.txt  \n",
      "  inflating: dentex_yolo12n/labels/train/train_561.txt  \n",
      "  inflating: dentex_yolo12n/labels/train/train_57.txt  \n",
      "  inflating: dentex_yolo12n/labels/train/train_58.txt  \n",
      "  inflating: dentex_yolo12n/labels/train/train_59.txt  \n",
      "  inflating: dentex_yolo12n/labels/train/train_6.txt  \n",
      "  inflating: dentex_yolo12n/labels/train/train_61.txt  \n",
      "  inflating: dentex_yolo12n/labels/train/train_62.txt  \n",
      "  inflating: dentex_yolo12n/labels/train/train_63.txt  \n",
      "  inflating: dentex_yolo12n/labels/train/train_64.txt  \n",
      "  inflating: dentex_yolo12n/labels/train/train_65.txt  \n",
      "  inflating: dentex_yolo12n/labels/train/train_66.txt  \n",
      "  inflating: dentex_yolo12n/labels/train/train_67.txt  \n",
      "  inflating: dentex_yolo12n/labels/train/train_68.txt  \n",
      "  inflating: dentex_yolo12n/labels/train/train_69.txt  \n",
      "  inflating: dentex_yolo12n/labels/train/train_7.txt  \n",
      "  inflating: dentex_yolo12n/labels/train/train_70.txt  \n",
      "  inflating: dentex_yolo12n/labels/train/train_72.txt  \n",
      "  inflating: dentex_yolo12n/labels/train/train_73.txt  \n",
      "  inflating: dentex_yolo12n/labels/train/train_74.txt  \n",
      "  inflating: dentex_yolo12n/labels/train/train_75.txt  \n",
      "  inflating: dentex_yolo12n/labels/train/train_76.txt  \n",
      "  inflating: dentex_yolo12n/labels/train/train_77.txt  \n",
      "  inflating: dentex_yolo12n/labels/train/train_78.txt  \n",
      "  inflating: dentex_yolo12n/labels/train/train_79.txt  \n",
      "  inflating: dentex_yolo12n/labels/train/train_8.txt  \n",
      "  inflating: dentex_yolo12n/labels/train/train_80.txt  \n",
      "  inflating: dentex_yolo12n/labels/train/train_81.txt  \n",
      "  inflating: dentex_yolo12n/labels/train/train_82.txt  \n",
      "  inflating: dentex_yolo12n/labels/train/train_83.txt  \n",
      "  inflating: dentex_yolo12n/labels/train/train_84.txt  \n",
      "  inflating: dentex_yolo12n/labels/train/train_85.txt  \n",
      "  inflating: dentex_yolo12n/labels/train/train_86.txt  \n",
      "  inflating: dentex_yolo12n/labels/train/train_87.txt  \n",
      "  inflating: dentex_yolo12n/labels/train/train_88.txt  \n",
      "  inflating: dentex_yolo12n/labels/train/train_89.txt  \n",
      "  inflating: dentex_yolo12n/labels/train/train_9.txt  \n",
      "  inflating: dentex_yolo12n/labels/train/train_90.txt  \n",
      "  inflating: dentex_yolo12n/labels/train/train_91.txt  \n",
      "  inflating: dentex_yolo12n/labels/train/train_92.txt  \n",
      "  inflating: dentex_yolo12n/labels/train/train_93.txt  \n",
      "  inflating: dentex_yolo12n/labels/train/train_94.txt  \n",
      "  inflating: dentex_yolo12n/labels/train/train_95.txt  \n",
      "  inflating: dentex_yolo12n/labels/train/train_96.txt  \n",
      "  inflating: dentex_yolo12n/labels/train/train_97.txt  \n",
      "  inflating: dentex_yolo12n/labels/train/train_98.txt  \n",
      "  inflating: dentex_yolo12n/labels/train/train_99.txt  \n",
      "   creating: dentex_yolo12n/labels/val/\n",
      "  inflating: dentex_yolo12n/labels/val/train_562.txt  \n",
      "  inflating: dentex_yolo12n/labels/val/train_563.txt  \n",
      "  inflating: dentex_yolo12n/labels/val/train_564.txt  \n",
      "  inflating: dentex_yolo12n/labels/val/train_565.txt  \n",
      "  inflating: dentex_yolo12n/labels/val/train_566.txt  \n",
      "  inflating: dentex_yolo12n/labels/val/train_567.txt  \n",
      "  inflating: dentex_yolo12n/labels/val/train_568.txt  \n",
      "  inflating: dentex_yolo12n/labels/val/train_569.txt  \n",
      "  inflating: dentex_yolo12n/labels/val/train_570.txt  \n",
      "  inflating: dentex_yolo12n/labels/val/train_572.txt  \n",
      "  inflating: dentex_yolo12n/labels/val/train_573.txt  \n",
      "  inflating: dentex_yolo12n/labels/val/train_574.txt  \n",
      "  inflating: dentex_yolo12n/labels/val/train_575.txt  \n",
      "  inflating: dentex_yolo12n/labels/val/train_576.txt  \n",
      "  inflating: dentex_yolo12n/labels/val/train_577.txt  \n",
      "  inflating: dentex_yolo12n/labels/val/train_578.txt  \n",
      "  inflating: dentex_yolo12n/labels/val/train_579.txt  \n",
      "  inflating: dentex_yolo12n/labels/val/train_580.txt  \n",
      "  inflating: dentex_yolo12n/labels/val/train_581.txt  \n",
      "  inflating: dentex_yolo12n/labels/val/train_582.txt  \n",
      "  inflating: dentex_yolo12n/labels/val/train_583.txt  \n",
      "  inflating: dentex_yolo12n/labels/val/train_584.txt  \n",
      "  inflating: dentex_yolo12n/labels/val/train_585.txt  \n",
      "  inflating: dentex_yolo12n/labels/val/train_586.txt  \n",
      "  inflating: dentex_yolo12n/labels/val/train_587.txt  \n",
      "  inflating: dentex_yolo12n/labels/val/train_588.txt  \n",
      "  inflating: dentex_yolo12n/labels/val/train_589.txt  \n",
      "  inflating: dentex_yolo12n/labels/val/train_590.txt  \n",
      "  inflating: dentex_yolo12n/labels/val/train_591.txt  \n",
      "  inflating: dentex_yolo12n/labels/val/train_592.txt  \n",
      "  inflating: dentex_yolo12n/labels/val/train_594.txt  \n",
      "  inflating: dentex_yolo12n/labels/val/train_595.txt  \n",
      "  inflating: dentex_yolo12n/labels/val/train_596.txt  \n",
      "  inflating: dentex_yolo12n/labels/val/train_597.txt  \n",
      "  inflating: dentex_yolo12n/labels/val/train_598.txt  \n",
      "  inflating: dentex_yolo12n/labels/val/train_599.txt  \n",
      "  inflating: dentex_yolo12n/labels/val/train_600.txt  \n",
      "  inflating: dentex_yolo12n/labels/val/train_601.txt  \n",
      "  inflating: dentex_yolo12n/labels/val/train_602.txt  \n",
      "  inflating: dentex_yolo12n/labels/val/train_603.txt  \n",
      "  inflating: dentex_yolo12n/labels/val/train_604.txt  \n",
      "  inflating: dentex_yolo12n/labels/val/train_605.txt  \n",
      "  inflating: dentex_yolo12n/labels/val/train_606.txt  \n",
      "  inflating: dentex_yolo12n/labels/val/train_607.txt  \n",
      "  inflating: dentex_yolo12n/labels/val/train_608.txt  \n",
      "  inflating: dentex_yolo12n/labels/val/train_609.txt  \n",
      "  inflating: dentex_yolo12n/labels/val/train_612.txt  \n",
      "  inflating: dentex_yolo12n/labels/val/train_613.txt  \n",
      "  inflating: dentex_yolo12n/labels/val/train_614.txt  \n",
      "  inflating: dentex_yolo12n/labels/val/train_615.txt  \n",
      "  inflating: dentex_yolo12n/labels/val/train_616.txt  \n",
      "  inflating: dentex_yolo12n/labels/val/train_617.txt  \n",
      "  inflating: dentex_yolo12n/labels/val/train_618.txt  \n",
      "  inflating: dentex_yolo12n/labels/val/train_619.txt  \n",
      "  inflating: dentex_yolo12n/labels/val/train_620.txt  \n",
      "  inflating: dentex_yolo12n/labels/val/train_621.txt  \n",
      "  inflating: dentex_yolo12n/labels/val/train_622.txt  \n",
      "  inflating: dentex_yolo12n/labels/val/train_623.txt  \n",
      "  inflating: dentex_yolo12n/labels/val/train_624.txt  \n",
      "  inflating: dentex_yolo12n/labels/val/train_625.txt  \n",
      "  inflating: dentex_yolo12n/labels/val/train_626.txt  \n",
      "  inflating: dentex_yolo12n/labels/val/train_627.txt  \n",
      "  inflating: dentex_yolo12n/labels/val/train_628.txt  \n",
      "  inflating: dentex_yolo12n/labels/val/train_629.txt  \n",
      "  inflating: dentex_yolo12n/labels/val/train_630.txt  \n",
      "  inflating: dentex_yolo12n/labels/val/train_631.txt  \n",
      "  inflating: dentex_yolo12n/labels/val/train_632.txt  \n",
      "  inflating: dentex_yolo12n/labels/val/train_633.txt  \n",
      "  inflating: dentex_yolo12n/labels/val/train_634.txt  \n",
      "  inflating: dentex_yolo12n/labels/val/train_635.txt  \n",
      "  inflating: dentex_yolo12n/labels/val/train_636.txt  \n",
      "  inflating: dentex_yolo12n/labels/val/train_637.txt  \n",
      "  inflating: dentex_yolo12n/labels/val/train_638.txt  \n",
      "  inflating: dentex_yolo12n/labels/val/train_639.txt  \n",
      "  inflating: dentex_yolo12n/labels/val/train_640.txt  \n",
      "  inflating: dentex_yolo12n/labels/val/train_641.txt  \n",
      "  inflating: dentex_yolo12n/labels/val/train_642.txt  \n",
      "  inflating: dentex_yolo12n/labels/val/train_643.txt  \n",
      "  inflating: dentex_yolo12n/labels/val/train_644.txt  \n",
      "  inflating: dentex_yolo12n/labels/val/train_645.txt  \n",
      "  inflating: dentex_yolo12n/labels/val/train_646.txt  \n",
      "  inflating: dentex_yolo12n/labels/val/train_647.txt  \n",
      "  inflating: dentex_yolo12n/labels/val/train_648.txt  \n",
      "  inflating: dentex_yolo12n/labels/val/train_649.txt  \n",
      "  inflating: dentex_yolo12n/labels/val/train_650.txt  \n",
      "  inflating: dentex_yolo12n/labels/val/train_651.txt  \n",
      "  inflating: dentex_yolo12n/labels/val/train_652.txt  \n",
      "  inflating: dentex_yolo12n/labels/val/train_653.txt  \n",
      "  inflating: dentex_yolo12n/labels/val/train_654.txt  \n",
      "  inflating: dentex_yolo12n/labels/val/train_655.txt  \n",
      "  inflating: dentex_yolo12n/labels/val/train_656.txt  \n",
      "  inflating: dentex_yolo12n/labels/val/train_657.txt  \n",
      "  inflating: dentex_yolo12n/labels/val/train_658.txt  \n",
      "  inflating: dentex_yolo12n/labels/val/train_659.txt  \n",
      "  inflating: dentex_yolo12n/labels/val/train_660.txt  \n",
      "  inflating: dentex_yolo12n/labels/val/train_661.txt  \n",
      "  inflating: dentex_yolo12n/labels/val/train_662.txt  \n",
      "  inflating: dentex_yolo12n/labels/val/train_663.txt  \n",
      "  inflating: dentex_yolo12n/labels/val/train_664.txt  \n",
      "  inflating: dentex_yolo12n/labels/val/train_665.txt  \n",
      "  inflating: dentex_yolo12n/labels/val/train_667.txt  \n",
      "  inflating: dentex_yolo12n/labels/val/train_668.txt  \n",
      "  inflating: dentex_yolo12n/labels/val/train_669.txt  \n",
      "  inflating: dentex_yolo12n/labels/val/train_670.txt  \n",
      "  inflating: dentex_yolo12n/labels/val/train_671.txt  \n",
      "  inflating: dentex_yolo12n/labels/val/train_672.txt  \n",
      "  inflating: dentex_yolo12n/labels/val/train_673.txt  \n",
      "  inflating: dentex_yolo12n/labels/val/train_674.txt  \n",
      "  inflating: dentex_yolo12n/labels/val/train_675.txt  \n",
      "  inflating: dentex_yolo12n/labels/val/train_676.txt  \n",
      "  inflating: dentex_yolo12n/labels/val/train_678.txt  \n",
      "  inflating: dentex_yolo12n/labels/val/train_679.txt  \n",
      "  inflating: dentex_yolo12n/labels/val/train_680.txt  \n",
      "  inflating: dentex_yolo12n/labels/val/train_681.txt  \n",
      "  inflating: dentex_yolo12n/labels/val/train_682.txt  \n",
      "  inflating: dentex_yolo12n/labels/val/train_683.txt  \n",
      "  inflating: dentex_yolo12n/labels/val/train_684.txt  \n",
      "  inflating: dentex_yolo12n/labels/val/train_685.txt  \n",
      "  inflating: dentex_yolo12n/labels/val/train_686.txt  \n",
      "  inflating: dentex_yolo12n/labels/val/train_687.txt  \n",
      "  inflating: dentex_yolo12n/labels/val/train_688.txt  \n",
      "  inflating: dentex_yolo12n/labels/val/train_689.txt  \n",
      "  inflating: dentex_yolo12n/labels/val/train_690.txt  \n",
      "  inflating: dentex_yolo12n/labels/val/train_691.txt  \n",
      "  inflating: dentex_yolo12n/labels/val/train_692.txt  \n",
      "  inflating: dentex_yolo12n/labels/val/train_693.txt  \n",
      "  inflating: dentex_yolo12n/labels/val/train_694.txt  \n",
      "  inflating: dentex_yolo12n/labels/val/train_696.txt  \n",
      "  inflating: dentex_yolo12n/labels/val/train_697.txt  \n",
      "  inflating: dentex_yolo12n/labels/val/train_698.txt  \n",
      "  inflating: dentex_yolo12n/labels/val/train_699.txt  \n",
      "  inflating: dentex_yolo12n/labels/val/train_700.txt  \n",
      "  inflating: dentex_yolo12n/labels/val/train_701.txt  \n",
      "  inflating: dentex_yolo12n/labels/val/train_702.txt  \n",
      "  inflating: dentex_yolo12n/labels/val/train_703.txt  \n",
      "  inflating: dentex_yolo12n/labels/val/train_704.txt  \n"
     ]
    }
   ],
   "source": [
    "!unzip dentex_yolo12n.zip"
   ]
  },
  {
   "cell_type": "code",
   "execution_count": 5,
   "metadata": {
    "colab": {
     "base_uri": "https://localhost:8080/"
    },
    "id": "CN0LVbp8N-7F",
    "outputId": "e3beb01e-54eb-479c-9089-29df74771df8"
   },
   "outputs": [
    {
     "name": "stdout",
     "output_type": "stream",
     "text": [
      "Ultralytics 8.3.155 🚀 Python-3.11.13 torch-2.6.0+cu124 CUDA:0 (Tesla T4, 15095MiB)\n",
      "\u001b[34m\u001b[1mengine/trainer: \u001b[0magnostic_nms=False, amp=True, augment=False, auto_augment=randaugment, batch=16, bgr=0.0, box=7.5, cache=False, cfg=None, classes=None, close_mosaic=10, cls=0.5, conf=None, copy_paste=0.0, copy_paste_mode=flip, cos_lr=False, cutmix=0.0, data=/content/dentex_yolo12n/data.yaml, degrees=0.0, deterministic=True, device=None, dfl=1.5, dnn=False, dropout=0.0, dynamic=False, embed=None, epochs=80, erasing=0.4, exist_ok=False, fliplr=0.5, flipud=0.0, format=torchscript, fraction=1.0, freeze=None, half=False, hsv_h=0.015, hsv_s=0.7, hsv_v=0.4, imgsz=640, int8=False, iou=0.7, keras=False, kobj=1.0, line_width=None, lr0=0.01, lrf=0.01, mask_ratio=4, max_det=300, mixup=0.0, mode=train, model=yolo12n.pt, momentum=0.937, mosaic=1.0, multi_scale=False, name=dentex_train, nbs=64, nms=False, opset=None, optimize=False, optimizer=auto, overlap_mask=True, patience=100, perspective=0.0, plots=True, pose=12.0, pretrained=True, profile=False, project=None, rect=False, resume=False, retina_masks=False, save=True, save_conf=False, save_crop=False, save_dir=runs/detect/dentex_train, save_frames=False, save_json=False, save_period=-1, save_txt=False, scale=0.5, seed=0, shear=0.0, show=False, show_boxes=True, show_conf=True, show_labels=True, simplify=True, single_cls=False, source=None, split=val, stream_buffer=False, task=detect, time=None, tracker=botsort.yaml, translate=0.1, val=True, verbose=True, vid_stride=1, visualize=False, warmup_bias_lr=0.1, warmup_epochs=3.0, warmup_momentum=0.8, weight_decay=0.0005, workers=8, workspace=None\n",
      "Downloading https://ultralytics.com/assets/Arial.ttf to '/root/.config/Ultralytics/Arial.ttf'...\n"
     ]
    },
    {
     "name": "stderr",
     "output_type": "stream",
     "text": [
      "100%|██████████| 755k/755k [00:00<00:00, 12.9MB/s]"
     ]
    },
    {
     "name": "stdout",
     "output_type": "stream",
     "text": [
      "Overriding model.yaml nc=80 with nc=97\n",
      "\n",
      "                   from  n    params  module                                       arguments                     \n",
      "  0                  -1  1       464  ultralytics.nn.modules.conv.Conv             [3, 16, 3, 2]                 \n",
      "  1                  -1  1      4672  ultralytics.nn.modules.conv.Conv             [16, 32, 3, 2]                \n"
     ]
    },
    {
     "name": "stderr",
     "output_type": "stream",
     "text": [
      "\n"
     ]
    },
    {
     "name": "stdout",
     "output_type": "stream",
     "text": [
      "  2                  -1  1      6640  ultralytics.nn.modules.block.C3k2            [32, 64, 1, False, 0.25]      \n",
      "  3                  -1  1     36992  ultralytics.nn.modules.conv.Conv             [64, 64, 3, 2]                \n",
      "  4                  -1  1     26080  ultralytics.nn.modules.block.C3k2            [64, 128, 1, False, 0.25]     \n",
      "  5                  -1  1    147712  ultralytics.nn.modules.conv.Conv             [128, 128, 3, 2]              \n",
      "  6                  -1  2    180864  ultralytics.nn.modules.block.A2C2f           [128, 128, 2, True, 4]        \n",
      "  7                  -1  1    295424  ultralytics.nn.modules.conv.Conv             [128, 256, 3, 2]              \n",
      "  8                  -1  2    689408  ultralytics.nn.modules.block.A2C2f           [256, 256, 2, True, 1]        \n",
      "  9                  -1  1         0  torch.nn.modules.upsampling.Upsample         [None, 2, 'nearest']          \n",
      " 10             [-1, 6]  1         0  ultralytics.nn.modules.conv.Concat           [1]                           \n",
      " 11                  -1  1     86912  ultralytics.nn.modules.block.A2C2f           [384, 128, 1, False, -1]      \n",
      " 12                  -1  1         0  torch.nn.modules.upsampling.Upsample         [None, 2, 'nearest']          \n",
      " 13             [-1, 4]  1         0  ultralytics.nn.modules.conv.Concat           [1]                           \n",
      " 14                  -1  1     24000  ultralytics.nn.modules.block.A2C2f           [256, 64, 1, False, -1]       \n",
      " 15                  -1  1     36992  ultralytics.nn.modules.conv.Conv             [64, 64, 3, 2]                \n",
      " 16            [-1, 11]  1         0  ultralytics.nn.modules.conv.Concat           [1]                           \n",
      " 17                  -1  1     74624  ultralytics.nn.modules.block.A2C2f           [192, 128, 1, False, -1]      \n",
      " 18                  -1  1    147712  ultralytics.nn.modules.conv.Conv             [128, 128, 3, 2]              \n",
      " 19             [-1, 8]  1         0  ultralytics.nn.modules.conv.Concat           [1]                           \n",
      " 20                  -1  1    378880  ultralytics.nn.modules.block.C3k2            [384, 256, 1, True]           \n",
      " 21        [14, 17, 20]  1    491398  ultralytics.nn.modules.head.Detect           [97, [64, 128, 256]]          \n",
      "YOLOv12n summary: 272 layers, 2,628,774 parameters, 2,628,758 gradients, 6.8 GFLOPs\n",
      "\n",
      "Transferred 640/691 items from pretrained weights\n",
      "Freezing layer 'model.21.dfl.conv.weight'\n",
      "\u001b[34m\u001b[1mAMP: \u001b[0mrunning Automatic Mixed Precision (AMP) checks...\n",
      "Downloading https://github.com/ultralytics/assets/releases/download/v8.3.0/yolo11n.pt to 'yolo11n.pt'...\n"
     ]
    },
    {
     "name": "stderr",
     "output_type": "stream",
     "text": [
      "100%|██████████| 5.35M/5.35M [00:00<00:00, 61.4MB/s]\n"
     ]
    },
    {
     "name": "stdout",
     "output_type": "stream",
     "text": [
      "\u001b[34m\u001b[1mAMP: \u001b[0mchecks passed ✅\n",
      "\u001b[34m\u001b[1mtrain: \u001b[0mFast image access ✅ (ping: 0.0±0.0 ms, read: 1636.9±981.8 MB/s, size: 3941.7 KB)\n"
     ]
    },
    {
     "name": "stderr",
     "output_type": "stream",
     "text": [
      "\u001b[34m\u001b[1mtrain: \u001b[0mScanning /content/dentex_yolo12n/labels/train... 542 images, 0 backgrounds, 0 corrupt: 100%|██████████| 542/542 [00:06<00:00, 82.38it/s] "
     ]
    },
    {
     "name": "stdout",
     "output_type": "stream",
     "text": [
      "\u001b[34m\u001b[1mtrain: \u001b[0m/content/dentex_yolo12n/images/train/train_377.png: 1 duplicate labels removed\n",
      "\u001b[34m\u001b[1mtrain: \u001b[0mNew cache created: /content/dentex_yolo12n/labels/train.cache\n"
     ]
    },
    {
     "name": "stderr",
     "output_type": "stream",
     "text": [
      "\n"
     ]
    },
    {
     "name": "stdout",
     "output_type": "stream",
     "text": [
      "\u001b[34m\u001b[1malbumentations: \u001b[0mBlur(p=0.01, blur_limit=(3, 7)), MedianBlur(p=0.01, blur_limit=(3, 7)), ToGray(p=0.01, method='weighted_average', num_output_channels=3), CLAHE(p=0.01, clip_limit=(1.0, 4.0), tile_grid_size=(8, 8))\n",
      "\u001b[34m\u001b[1mval: \u001b[0mFast image access ✅ (ping: 0.0±0.0 ms, read: 1767.9±1313.2 MB/s, size: 3425.3 KB)\n"
     ]
    },
    {
     "name": "stderr",
     "output_type": "stream",
     "text": [
      "\u001b[34m\u001b[1mval: \u001b[0mScanning /content/dentex_yolo12n/labels/val... 136 images, 0 backgrounds, 0 corrupt: 100%|██████████| 136/136 [00:02<00:00, 64.94it/s]"
     ]
    },
    {
     "name": "stdout",
     "output_type": "stream",
     "text": [
      "\u001b[34m\u001b[1mval: \u001b[0mNew cache created: /content/dentex_yolo12n/labels/val.cache\n"
     ]
    },
    {
     "name": "stderr",
     "output_type": "stream",
     "text": [
      "\n"
     ]
    },
    {
     "name": "stdout",
     "output_type": "stream",
     "text": [
      "Plotting labels to runs/detect/dentex_train/labels.jpg... \n",
      "\u001b[34m\u001b[1moptimizer:\u001b[0m 'optimizer=auto' found, ignoring 'lr0=0.01' and 'momentum=0.937' and determining best 'optimizer', 'lr0' and 'momentum' automatically... \n",
      "\u001b[34m\u001b[1moptimizer:\u001b[0m AdamW(lr=9.9e-05, momentum=0.9) with parameter groups 113 weight(decay=0.0), 120 weight(decay=0.0005), 119 bias(decay=0.0)\n",
      "Image sizes 640 train, 640 val\n",
      "Using 2 dataloader workers\n",
      "Logging results to \u001b[1mruns/detect/dentex_train\u001b[0m\n",
      "Starting training for 80 epochs...\n",
      "\n",
      "      Epoch    GPU_mem   box_loss   cls_loss   dfl_loss  Instances       Size\n"
     ]
    },
    {
     "name": "stderr",
     "output_type": "stream",
     "text": [
      "       1/80      3.56G      2.141      6.021      1.677        150        640: 100%|██████████| 34/34 [00:47<00:00,  1.39s/it]\n",
      "                 Class     Images  Instances      Box(P          R      mAP50  mAP50-95): 100%|██████████| 5/5 [00:03<00:00,  1.65it/s]"
     ]
    },
    {
     "name": "stdout",
     "output_type": "stream",
     "text": [
      "                   all        136        690          0          0          0          0\n"
     ]
    },
    {
     "name": "stderr",
     "output_type": "stream",
     "text": [
      "\n"
     ]
    },
    {
     "name": "stdout",
     "output_type": "stream",
     "text": [
      "\n",
      "      Epoch    GPU_mem   box_loss   cls_loss   dfl_loss  Instances       Size\n"
     ]
    },
    {
     "name": "stderr",
     "output_type": "stream",
     "text": [
      "       2/80      4.02G      1.523      5.614      1.207        153        640: 100%|██████████| 34/34 [00:45<00:00,  1.33s/it]\n",
      "                 Class     Images  Instances      Box(P          R      mAP50  mAP50-95): 100%|██████████| 5/5 [00:03<00:00,  1.38it/s]"
     ]
    },
    {
     "name": "stdout",
     "output_type": "stream",
     "text": [
      "                   all        136        690          0          0          0          0\n"
     ]
    },
    {
     "name": "stderr",
     "output_type": "stream",
     "text": [
      "\n"
     ]
    },
    {
     "name": "stdout",
     "output_type": "stream",
     "text": [
      "\n",
      "      Epoch    GPU_mem   box_loss   cls_loss   dfl_loss  Instances       Size\n"
     ]
    },
    {
     "name": "stderr",
     "output_type": "stream",
     "text": [
      "       3/80      4.03G      1.399      5.423      1.094        176        640: 100%|██████████| 34/34 [00:45<00:00,  1.34s/it]\n",
      "                 Class     Images  Instances      Box(P          R      mAP50  mAP50-95): 100%|██████████| 5/5 [00:05<00:00,  1.14s/it]"
     ]
    },
    {
     "name": "stdout",
     "output_type": "stream",
     "text": [
      "                   all        136        690    0.00115       0.03    0.00247    0.00115\n"
     ]
    },
    {
     "name": "stderr",
     "output_type": "stream",
     "text": [
      "\n"
     ]
    },
    {
     "name": "stdout",
     "output_type": "stream",
     "text": [
      "\n",
      "      Epoch    GPU_mem   box_loss   cls_loss   dfl_loss  Instances       Size\n"
     ]
    },
    {
     "name": "stderr",
     "output_type": "stream",
     "text": [
      "       4/80      4.04G      1.393       5.22      1.075        129        640: 100%|██████████| 34/34 [00:45<00:00,  1.33s/it]\n",
      "                 Class     Images  Instances      Box(P          R      mAP50  mAP50-95): 100%|██████████| 5/5 [00:03<00:00,  1.56it/s]\n"
     ]
    },
    {
     "name": "stdout",
     "output_type": "stream",
     "text": [
      "                   all        136        690    0.00447      0.118     0.0117    0.00675\n",
      "\n",
      "      Epoch    GPU_mem   box_loss   cls_loss   dfl_loss  Instances       Size\n"
     ]
    },
    {
     "name": "stderr",
     "output_type": "stream",
     "text": [
      "       5/80      4.06G      1.361      5.005      1.061        124        640: 100%|██████████| 34/34 [00:46<00:00,  1.36s/it]\n",
      "                 Class     Images  Instances      Box(P          R      mAP50  mAP50-95): 100%|██████████| 5/5 [00:02<00:00,  1.68it/s]\n"
     ]
    },
    {
     "name": "stdout",
     "output_type": "stream",
     "text": [
      "                   all        136        690    0.00678      0.211     0.0157    0.00933\n",
      "\n",
      "      Epoch    GPU_mem   box_loss   cls_loss   dfl_loss  Instances       Size\n"
     ]
    },
    {
     "name": "stderr",
     "output_type": "stream",
     "text": [
      "       6/80      4.08G      1.365      4.796      1.065        183        640: 100%|██████████| 34/34 [00:46<00:00,  1.37s/it]\n",
      "                 Class     Images  Instances      Box(P          R      mAP50  mAP50-95): 100%|██████████| 5/5 [00:03<00:00,  1.58it/s]\n"
     ]
    },
    {
     "name": "stdout",
     "output_type": "stream",
     "text": [
      "                   all        136        690      0.353      0.147     0.0238     0.0146\n",
      "\n",
      "      Epoch    GPU_mem   box_loss   cls_loss   dfl_loss  Instances       Size\n"
     ]
    },
    {
     "name": "stderr",
     "output_type": "stream",
     "text": [
      "       7/80      4.09G      1.338      4.534      1.054        119        640: 100%|██████████| 34/34 [00:46<00:00,  1.35s/it]\n",
      "                 Class     Images  Instances      Box(P          R      mAP50  mAP50-95): 100%|██████████| 5/5 [00:02<00:00,  1.86it/s]\n"
     ]
    },
    {
     "name": "stdout",
     "output_type": "stream",
     "text": [
      "                   all        136        690      0.702     0.0699     0.0337     0.0206\n",
      "\n",
      "      Epoch    GPU_mem   box_loss   cls_loss   dfl_loss  Instances       Size\n"
     ]
    },
    {
     "name": "stderr",
     "output_type": "stream",
     "text": [
      "       8/80      4.11G      1.338      4.312      1.058        114        640: 100%|██████████| 34/34 [00:45<00:00,  1.35s/it]\n",
      "                 Class     Images  Instances      Box(P          R      mAP50  mAP50-95): 100%|██████████| 5/5 [00:02<00:00,  1.94it/s]\n"
     ]
    },
    {
     "name": "stdout",
     "output_type": "stream",
     "text": [
      "                   all        136        690      0.756     0.0672      0.043     0.0263\n",
      "\n",
      "      Epoch    GPU_mem   box_loss   cls_loss   dfl_loss  Instances       Size\n"
     ]
    },
    {
     "name": "stderr",
     "output_type": "stream",
     "text": [
      "       9/80      4.12G      1.335      4.117       1.05        113        640: 100%|██████████| 34/34 [00:46<00:00,  1.37s/it]\n",
      "                 Class     Images  Instances      Box(P          R      mAP50  mAP50-95): 100%|██████████| 5/5 [00:02<00:00,  1.91it/s]\n"
     ]
    },
    {
     "name": "stdout",
     "output_type": "stream",
     "text": [
      "                   all        136        690      0.709     0.0868     0.0446     0.0285\n",
      "\n",
      "      Epoch    GPU_mem   box_loss   cls_loss   dfl_loss  Instances       Size\n"
     ]
    },
    {
     "name": "stderr",
     "output_type": "stream",
     "text": [
      "      10/80      4.14G      1.304      3.979      1.047        151        640: 100%|██████████| 34/34 [00:46<00:00,  1.37s/it]\n",
      "                 Class     Images  Instances      Box(P          R      mAP50  mAP50-95): 100%|██████████| 5/5 [00:02<00:00,  1.86it/s]\n"
     ]
    },
    {
     "name": "stdout",
     "output_type": "stream",
     "text": [
      "                   all        136        690       0.63     0.0918     0.0503     0.0318\n",
      "\n",
      "      Epoch    GPU_mem   box_loss   cls_loss   dfl_loss  Instances       Size\n"
     ]
    },
    {
     "name": "stderr",
     "output_type": "stream",
     "text": [
      "      11/80      4.15G      1.302      3.825      1.048        120        640: 100%|██████████| 34/34 [00:47<00:00,  1.39s/it]\n",
      "                 Class     Images  Instances      Box(P          R      mAP50  mAP50-95): 100%|██████████| 5/5 [00:02<00:00,  1.96it/s]\n"
     ]
    },
    {
     "name": "stdout",
     "output_type": "stream",
     "text": [
      "                   all        136        690      0.662      0.101     0.0535     0.0345\n",
      "\n",
      "      Epoch    GPU_mem   box_loss   cls_loss   dfl_loss  Instances       Size\n"
     ]
    },
    {
     "name": "stderr",
     "output_type": "stream",
     "text": [
      "      12/80      4.17G      1.264      3.744      1.043        121        640: 100%|██████████| 34/34 [00:46<00:00,  1.37s/it]\n",
      "                 Class     Images  Instances      Box(P          R      mAP50  mAP50-95): 100%|██████████| 5/5 [00:02<00:00,  2.12it/s]\n"
     ]
    },
    {
     "name": "stdout",
     "output_type": "stream",
     "text": [
      "                   all        136        690      0.578     0.0979     0.0552     0.0363\n",
      "\n",
      "      Epoch    GPU_mem   box_loss   cls_loss   dfl_loss  Instances       Size\n"
     ]
    },
    {
     "name": "stderr",
     "output_type": "stream",
     "text": [
      "      13/80      4.18G      1.287      3.583      1.036        140        640: 100%|██████████| 34/34 [00:47<00:00,  1.41s/it]\n",
      "                 Class     Images  Instances      Box(P          R      mAP50  mAP50-95): 100%|██████████| 5/5 [00:02<00:00,  1.94it/s]"
     ]
    },
    {
     "name": "stdout",
     "output_type": "stream",
     "text": [
      "                   all        136        690      0.576      0.104     0.0581     0.0378\n"
     ]
    },
    {
     "name": "stderr",
     "output_type": "stream",
     "text": [
      "\n"
     ]
    },
    {
     "name": "stdout",
     "output_type": "stream",
     "text": [
      "\n",
      "      Epoch    GPU_mem   box_loss   cls_loss   dfl_loss  Instances       Size\n"
     ]
    },
    {
     "name": "stderr",
     "output_type": "stream",
     "text": [
      "      14/80       4.2G      1.256      3.523      1.037        116        640: 100%|██████████| 34/34 [00:46<00:00,  1.37s/it]\n",
      "                 Class     Images  Instances      Box(P          R      mAP50  mAP50-95): 100%|██████████| 5/5 [00:02<00:00,  2.19it/s]"
     ]
    },
    {
     "name": "stdout",
     "output_type": "stream",
     "text": [
      "                   all        136        690      0.557      0.107     0.0582     0.0383\n"
     ]
    },
    {
     "name": "stderr",
     "output_type": "stream",
     "text": [
      "\n"
     ]
    },
    {
     "name": "stdout",
     "output_type": "stream",
     "text": [
      "\n",
      "      Epoch    GPU_mem   box_loss   cls_loss   dfl_loss  Instances       Size\n"
     ]
    },
    {
     "name": "stderr",
     "output_type": "stream",
     "text": [
      "      15/80      4.21G      1.255      3.403      1.056        112        640: 100%|██████████| 34/34 [00:44<00:00,  1.32s/it]\n",
      "                 Class     Images  Instances      Box(P          R      mAP50  mAP50-95): 100%|██████████| 5/5 [00:03<00:00,  1.32it/s]\n"
     ]
    },
    {
     "name": "stdout",
     "output_type": "stream",
     "text": [
      "                   all        136        690      0.523      0.122     0.0628     0.0408\n",
      "\n",
      "      Epoch    GPU_mem   box_loss   cls_loss   dfl_loss  Instances       Size\n"
     ]
    },
    {
     "name": "stderr",
     "output_type": "stream",
     "text": [
      "      16/80      4.23G      1.234      3.353      1.031        105        640: 100%|██████████| 34/34 [00:45<00:00,  1.33s/it]\n",
      "                 Class     Images  Instances      Box(P          R      mAP50  mAP50-95): 100%|██████████| 5/5 [00:03<00:00,  1.52it/s]\n"
     ]
    },
    {
     "name": "stdout",
     "output_type": "stream",
     "text": [
      "                   all        136        690      0.514      0.127      0.067     0.0436\n",
      "\n",
      "      Epoch    GPU_mem   box_loss   cls_loss   dfl_loss  Instances       Size\n"
     ]
    },
    {
     "name": "stderr",
     "output_type": "stream",
     "text": [
      "      17/80      4.24G      1.222      3.291      1.031        143        640: 100%|██████████| 34/34 [00:44<00:00,  1.32s/it]\n",
      "                 Class     Images  Instances      Box(P          R      mAP50  mAP50-95): 100%|██████████| 5/5 [00:02<00:00,  1.96it/s]\n"
     ]
    },
    {
     "name": "stdout",
     "output_type": "stream",
     "text": [
      "                   all        136        690      0.517      0.117     0.0662     0.0429\n",
      "\n",
      "      Epoch    GPU_mem   box_loss   cls_loss   dfl_loss  Instances       Size\n"
     ]
    },
    {
     "name": "stderr",
     "output_type": "stream",
     "text": [
      "      18/80      4.26G      1.216      3.227      1.034        133        640: 100%|██████████| 34/34 [00:47<00:00,  1.39s/it]\n",
      "                 Class     Images  Instances      Box(P          R      mAP50  mAP50-95): 100%|██████████| 5/5 [00:02<00:00,  1.99it/s]\n"
     ]
    },
    {
     "name": "stdout",
     "output_type": "stream",
     "text": [
      "                   all        136        690      0.495      0.119      0.068     0.0456\n",
      "\n",
      "      Epoch    GPU_mem   box_loss   cls_loss   dfl_loss  Instances       Size\n"
     ]
    },
    {
     "name": "stderr",
     "output_type": "stream",
     "text": [
      "      19/80      4.27G      1.212      3.149      1.038        131        640: 100%|██████████| 34/34 [00:46<00:00,  1.36s/it]\n",
      "                 Class     Images  Instances      Box(P          R      mAP50  mAP50-95): 100%|██████████| 5/5 [00:02<00:00,  1.83it/s]\n"
     ]
    },
    {
     "name": "stdout",
     "output_type": "stream",
     "text": [
      "                   all        136        690      0.466      0.142     0.0673     0.0437\n",
      "\n",
      "      Epoch    GPU_mem   box_loss   cls_loss   dfl_loss  Instances       Size\n"
     ]
    },
    {
     "name": "stderr",
     "output_type": "stream",
     "text": [
      "      20/80      4.29G      1.212      3.098      1.044        124        640: 100%|██████████| 34/34 [00:47<00:00,  1.39s/it]\n",
      "                 Class     Images  Instances      Box(P          R      mAP50  mAP50-95): 100%|██████████| 5/5 [00:02<00:00,  1.93it/s]\n"
     ]
    },
    {
     "name": "stdout",
     "output_type": "stream",
     "text": [
      "                   all        136        690      0.437      0.133       0.07     0.0454\n",
      "\n",
      "      Epoch    GPU_mem   box_loss   cls_loss   dfl_loss  Instances       Size\n"
     ]
    },
    {
     "name": "stderr",
     "output_type": "stream",
     "text": [
      "      21/80       4.3G      1.204      3.126      1.027        133        640: 100%|██████████| 34/34 [00:46<00:00,  1.36s/it]\n",
      "                 Class     Images  Instances      Box(P          R      mAP50  mAP50-95): 100%|██████████| 5/5 [00:02<00:00,  1.94it/s]\n"
     ]
    },
    {
     "name": "stdout",
     "output_type": "stream",
     "text": [
      "                   all        136        690      0.434      0.121     0.0716     0.0458\n",
      "\n",
      "      Epoch    GPU_mem   box_loss   cls_loss   dfl_loss  Instances       Size\n"
     ]
    },
    {
     "name": "stderr",
     "output_type": "stream",
     "text": [
      "      22/80      4.32G      1.198      3.017      1.039        103        640: 100%|██████████| 34/34 [00:47<00:00,  1.39s/it]\n",
      "                 Class     Images  Instances      Box(P          R      mAP50  mAP50-95): 100%|██████████| 5/5 [00:02<00:00,  1.96it/s]\n"
     ]
    },
    {
     "name": "stdout",
     "output_type": "stream",
     "text": [
      "                   all        136        690      0.448       0.15     0.0728     0.0477\n",
      "\n",
      "      Epoch    GPU_mem   box_loss   cls_loss   dfl_loss  Instances       Size\n"
     ]
    },
    {
     "name": "stderr",
     "output_type": "stream",
     "text": [
      "      23/80      4.33G      1.175      2.972      1.021        190        640: 100%|██████████| 34/34 [00:45<00:00,  1.34s/it]\n",
      "                 Class     Images  Instances      Box(P          R      mAP50  mAP50-95): 100%|██████████| 5/5 [00:02<00:00,  1.85it/s]\n"
     ]
    },
    {
     "name": "stdout",
     "output_type": "stream",
     "text": [
      "                   all        136        690       0.45      0.141     0.0737     0.0476\n",
      "\n",
      "      Epoch    GPU_mem   box_loss   cls_loss   dfl_loss  Instances       Size\n"
     ]
    },
    {
     "name": "stderr",
     "output_type": "stream",
     "text": [
      "      24/80      4.35G      1.177      2.923      1.037        120        640: 100%|██████████| 34/34 [00:46<00:00,  1.36s/it]\n",
      "                 Class     Images  Instances      Box(P          R      mAP50  mAP50-95): 100%|██████████| 5/5 [00:03<00:00,  1.40it/s]"
     ]
    },
    {
     "name": "stdout",
     "output_type": "stream",
     "text": [
      "                   all        136        690      0.426       0.15     0.0767     0.0493\n"
     ]
    },
    {
     "name": "stderr",
     "output_type": "stream",
     "text": [
      "\n"
     ]
    },
    {
     "name": "stdout",
     "output_type": "stream",
     "text": [
      "\n",
      "      Epoch    GPU_mem   box_loss   cls_loss   dfl_loss  Instances       Size\n"
     ]
    },
    {
     "name": "stderr",
     "output_type": "stream",
     "text": [
      "      25/80      4.36G      1.182      2.943      1.027        118        640: 100%|██████████| 34/34 [00:45<00:00,  1.33s/it]\n",
      "                 Class     Images  Instances      Box(P          R      mAP50  mAP50-95): 100%|██████████| 5/5 [00:03<00:00,  1.51it/s]\n"
     ]
    },
    {
     "name": "stdout",
     "output_type": "stream",
     "text": [
      "                   all        136        690      0.444      0.148     0.0728     0.0477\n",
      "\n",
      "      Epoch    GPU_mem   box_loss   cls_loss   dfl_loss  Instances       Size\n"
     ]
    },
    {
     "name": "stderr",
     "output_type": "stream",
     "text": [
      "      26/80      4.38G      1.153      2.838      1.029        111        640: 100%|██████████| 34/34 [00:46<00:00,  1.36s/it]\n",
      "                 Class     Images  Instances      Box(P          R      mAP50  mAP50-95): 100%|██████████| 5/5 [00:02<00:00,  1.86it/s]\n"
     ]
    },
    {
     "name": "stdout",
     "output_type": "stream",
     "text": [
      "                   all        136        690      0.405      0.152     0.0761     0.0509\n",
      "\n",
      "      Epoch    GPU_mem   box_loss   cls_loss   dfl_loss  Instances       Size\n"
     ]
    },
    {
     "name": "stderr",
     "output_type": "stream",
     "text": [
      "      27/80      4.39G      1.171      2.884      1.032        143        640: 100%|██████████| 34/34 [00:45<00:00,  1.34s/it]\n",
      "                 Class     Images  Instances      Box(P          R      mAP50  mAP50-95): 100%|██████████| 5/5 [00:02<00:00,  1.92it/s]\n"
     ]
    },
    {
     "name": "stdout",
     "output_type": "stream",
     "text": [
      "                   all        136        690      0.426      0.139     0.0736     0.0485\n",
      "\n",
      "      Epoch    GPU_mem   box_loss   cls_loss   dfl_loss  Instances       Size\n"
     ]
    },
    {
     "name": "stderr",
     "output_type": "stream",
     "text": [
      "      28/80      4.41G      1.155      2.766      1.021        118        640: 100%|██████████| 34/34 [00:45<00:00,  1.35s/it]\n",
      "                 Class     Images  Instances      Box(P          R      mAP50  mAP50-95): 100%|██████████| 5/5 [00:02<00:00,  1.85it/s]"
     ]
    },
    {
     "name": "stdout",
     "output_type": "stream",
     "text": [
      "                   all        136        690      0.429      0.148     0.0742     0.0487\n"
     ]
    },
    {
     "name": "stderr",
     "output_type": "stream",
     "text": [
      "\n"
     ]
    },
    {
     "name": "stdout",
     "output_type": "stream",
     "text": [
      "\n",
      "      Epoch    GPU_mem   box_loss   cls_loss   dfl_loss  Instances       Size\n"
     ]
    },
    {
     "name": "stderr",
     "output_type": "stream",
     "text": [
      "      29/80      4.42G      1.145      2.769      1.031        138        640: 100%|██████████| 34/34 [00:45<00:00,  1.33s/it]\n",
      "                 Class     Images  Instances      Box(P          R      mAP50  mAP50-95): 100%|██████████| 5/5 [00:02<00:00,  1.89it/s]\n"
     ]
    },
    {
     "name": "stdout",
     "output_type": "stream",
     "text": [
      "                   all        136        690      0.435       0.14     0.0761     0.0503\n",
      "\n",
      "      Epoch    GPU_mem   box_loss   cls_loss   dfl_loss  Instances       Size\n"
     ]
    },
    {
     "name": "stderr",
     "output_type": "stream",
     "text": [
      "      30/80      4.44G      1.153      2.791      1.019        182        640: 100%|██████████| 34/34 [00:47<00:00,  1.40s/it]\n",
      "                 Class     Images  Instances      Box(P          R      mAP50  mAP50-95): 100%|██████████| 5/5 [00:02<00:00,  1.96it/s]\n"
     ]
    },
    {
     "name": "stdout",
     "output_type": "stream",
     "text": [
      "                   all        136        690      0.406      0.153     0.0783     0.0511\n",
      "\n",
      "      Epoch    GPU_mem   box_loss   cls_loss   dfl_loss  Instances       Size\n"
     ]
    },
    {
     "name": "stderr",
     "output_type": "stream",
     "text": [
      "      31/80      4.46G      1.106      2.736      1.016        131        640: 100%|██████████| 34/34 [00:46<00:00,  1.36s/it]\n",
      "                 Class     Images  Instances      Box(P          R      mAP50  mAP50-95): 100%|██████████| 5/5 [00:02<00:00,  1.96it/s]\n"
     ]
    },
    {
     "name": "stdout",
     "output_type": "stream",
     "text": [
      "                   all        136        690      0.428      0.148     0.0816      0.054\n",
      "\n",
      "      Epoch    GPU_mem   box_loss   cls_loss   dfl_loss  Instances       Size\n"
     ]
    },
    {
     "name": "stderr",
     "output_type": "stream",
     "text": [
      "      32/80      4.47G      1.145      2.725       1.02        138        640: 100%|██████████| 34/34 [00:45<00:00,  1.34s/it]\n",
      "                 Class     Images  Instances      Box(P          R      mAP50  mAP50-95): 100%|██████████| 5/5 [00:03<00:00,  1.43it/s]\n"
     ]
    },
    {
     "name": "stdout",
     "output_type": "stream",
     "text": [
      "                   all        136        690      0.381      0.157     0.0836     0.0544\n",
      "\n",
      "      Epoch    GPU_mem   box_loss   cls_loss   dfl_loss  Instances       Size\n"
     ]
    },
    {
     "name": "stderr",
     "output_type": "stream",
     "text": [
      "      33/80      4.48G      1.115      2.726      1.015        159        640: 100%|██████████| 34/34 [00:44<00:00,  1.30s/it]\n",
      "                 Class     Images  Instances      Box(P          R      mAP50  mAP50-95): 100%|██████████| 5/5 [00:03<00:00,  1.53it/s]\n"
     ]
    },
    {
     "name": "stdout",
     "output_type": "stream",
     "text": [
      "                   all        136        690      0.416       0.16     0.0794     0.0529\n",
      "\n",
      "      Epoch    GPU_mem   box_loss   cls_loss   dfl_loss  Instances       Size\n"
     ]
    },
    {
     "name": "stderr",
     "output_type": "stream",
     "text": [
      "      34/80       4.5G      1.111       2.68       1.01         76        640: 100%|██████████| 34/34 [00:45<00:00,  1.33s/it]\n",
      "                 Class     Images  Instances      Box(P          R      mAP50  mAP50-95): 100%|██████████| 5/5 [00:02<00:00,  2.09it/s]\n"
     ]
    },
    {
     "name": "stdout",
     "output_type": "stream",
     "text": [
      "                   all        136        690      0.383      0.149     0.0788     0.0526\n",
      "\n",
      "      Epoch    GPU_mem   box_loss   cls_loss   dfl_loss  Instances       Size\n"
     ]
    },
    {
     "name": "stderr",
     "output_type": "stream",
     "text": [
      "      35/80      4.51G      1.133      2.664      1.029        141        640: 100%|██████████| 34/34 [00:46<00:00,  1.38s/it]\n",
      "                 Class     Images  Instances      Box(P          R      mAP50  mAP50-95): 100%|██████████| 5/5 [00:02<00:00,  2.02it/s]\n"
     ]
    },
    {
     "name": "stdout",
     "output_type": "stream",
     "text": [
      "                   all        136        690      0.391      0.163     0.0814      0.053\n",
      "\n",
      "      Epoch    GPU_mem   box_loss   cls_loss   dfl_loss  Instances       Size\n"
     ]
    },
    {
     "name": "stderr",
     "output_type": "stream",
     "text": [
      "      36/80      4.53G       1.12      2.635      1.005        129        640: 100%|██████████| 34/34 [00:45<00:00,  1.34s/it]\n",
      "                 Class     Images  Instances      Box(P          R      mAP50  mAP50-95): 100%|██████████| 5/5 [00:02<00:00,  1.92it/s]\n"
     ]
    },
    {
     "name": "stdout",
     "output_type": "stream",
     "text": [
      "                   all        136        690      0.385      0.147     0.0819     0.0542\n",
      "\n",
      "      Epoch    GPU_mem   box_loss   cls_loss   dfl_loss  Instances       Size\n"
     ]
    },
    {
     "name": "stderr",
     "output_type": "stream",
     "text": [
      "      37/80      4.54G      1.109      2.616      1.015        157        640: 100%|██████████| 34/34 [00:46<00:00,  1.38s/it]\n",
      "                 Class     Images  Instances      Box(P          R      mAP50  mAP50-95): 100%|██████████| 5/5 [00:02<00:00,  2.13it/s]\n"
     ]
    },
    {
     "name": "stdout",
     "output_type": "stream",
     "text": [
      "                   all        136        690      0.409      0.157     0.0852     0.0554\n",
      "\n",
      "      Epoch    GPU_mem   box_loss   cls_loss   dfl_loss  Instances       Size\n"
     ]
    },
    {
     "name": "stderr",
     "output_type": "stream",
     "text": [
      "      38/80      4.56G      1.089      2.614       1.01         89        640: 100%|██████████| 34/34 [00:47<00:00,  1.40s/it]\n",
      "                 Class     Images  Instances      Box(P          R      mAP50  mAP50-95): 100%|██████████| 5/5 [00:02<00:00,  1.87it/s]\n"
     ]
    },
    {
     "name": "stdout",
     "output_type": "stream",
     "text": [
      "                   all        136        690      0.415      0.161     0.0886     0.0577\n",
      "\n",
      "      Epoch    GPU_mem   box_loss   cls_loss   dfl_loss  Instances       Size\n"
     ]
    },
    {
     "name": "stderr",
     "output_type": "stream",
     "text": [
      "      39/80      4.57G      1.103      2.582       1.01        130        640: 100%|██████████| 34/34 [00:46<00:00,  1.38s/it]\n",
      "                 Class     Images  Instances      Box(P          R      mAP50  mAP50-95): 100%|██████████| 5/5 [00:02<00:00,  1.92it/s]\n"
     ]
    },
    {
     "name": "stdout",
     "output_type": "stream",
     "text": [
      "                   all        136        690      0.366      0.168     0.0862     0.0561\n",
      "\n",
      "      Epoch    GPU_mem   box_loss   cls_loss   dfl_loss  Instances       Size\n"
     ]
    },
    {
     "name": "stderr",
     "output_type": "stream",
     "text": [
      "      40/80      4.59G      1.092      2.579      1.008        152        640: 100%|██████████| 34/34 [00:47<00:00,  1.39s/it]\n",
      "                 Class     Images  Instances      Box(P          R      mAP50  mAP50-95): 100%|██████████| 5/5 [00:02<00:00,  1.94it/s]\n"
     ]
    },
    {
     "name": "stdout",
     "output_type": "stream",
     "text": [
      "                   all        136        690      0.377      0.152     0.0873     0.0574\n",
      "\n",
      "      Epoch    GPU_mem   box_loss   cls_loss   dfl_loss  Instances       Size\n"
     ]
    },
    {
     "name": "stderr",
     "output_type": "stream",
     "text": [
      "      41/80      4.61G      1.079      2.608      1.017        105        640: 100%|██████████| 34/34 [00:46<00:00,  1.38s/it]\n",
      "                 Class     Images  Instances      Box(P          R      mAP50  mAP50-95): 100%|██████████| 5/5 [00:02<00:00,  2.13it/s]"
     ]
    },
    {
     "name": "stdout",
     "output_type": "stream",
     "text": [
      "                   all        136        690      0.384      0.164     0.0899     0.0597\n"
     ]
    },
    {
     "name": "stderr",
     "output_type": "stream",
     "text": [
      "\n"
     ]
    },
    {
     "name": "stdout",
     "output_type": "stream",
     "text": [
      "\n",
      "      Epoch    GPU_mem   box_loss   cls_loss   dfl_loss  Instances       Size\n"
     ]
    },
    {
     "name": "stderr",
     "output_type": "stream",
     "text": [
      "      42/80      4.62G      1.099      2.551      1.007        109        640: 100%|██████████| 34/34 [00:46<00:00,  1.37s/it]\n",
      "                 Class     Images  Instances      Box(P          R      mAP50  mAP50-95): 100%|██████████| 5/5 [00:03<00:00,  1.56it/s]"
     ]
    },
    {
     "name": "stdout",
     "output_type": "stream",
     "text": [
      "                   all        136        690      0.354      0.151     0.0908     0.0588\n"
     ]
    },
    {
     "name": "stderr",
     "output_type": "stream",
     "text": [
      "\n"
     ]
    },
    {
     "name": "stdout",
     "output_type": "stream",
     "text": [
      "\n",
      "      Epoch    GPU_mem   box_loss   cls_loss   dfl_loss  Instances       Size\n"
     ]
    },
    {
     "name": "stderr",
     "output_type": "stream",
     "text": [
      "      43/80      4.63G       1.07      2.514      1.002        137        640: 100%|██████████| 34/34 [00:45<00:00,  1.34s/it]\n",
      "                 Class     Images  Instances      Box(P          R      mAP50  mAP50-95): 100%|██████████| 5/5 [00:03<00:00,  1.29it/s]\n"
     ]
    },
    {
     "name": "stdout",
     "output_type": "stream",
     "text": [
      "                   all        136        690      0.435      0.162     0.0954     0.0621\n",
      "\n",
      "      Epoch    GPU_mem   box_loss   cls_loss   dfl_loss  Instances       Size\n"
     ]
    },
    {
     "name": "stderr",
     "output_type": "stream",
     "text": [
      "      44/80      4.65G      1.073      2.515      0.993        147        640: 100%|██████████| 34/34 [00:45<00:00,  1.33s/it]\n",
      "                 Class     Images  Instances      Box(P          R      mAP50  mAP50-95): 100%|██████████| 5/5 [00:03<00:00,  1.47it/s]\n"
     ]
    },
    {
     "name": "stdout",
     "output_type": "stream",
     "text": [
      "                   all        136        690        0.4      0.149     0.0893     0.0583\n",
      "\n",
      "      Epoch    GPU_mem   box_loss   cls_loss   dfl_loss  Instances       Size\n"
     ]
    },
    {
     "name": "stderr",
     "output_type": "stream",
     "text": [
      "      45/80      4.67G      1.072      2.497     0.9959        190        640: 100%|██████████| 34/34 [00:45<00:00,  1.34s/it]\n",
      "                 Class     Images  Instances      Box(P          R      mAP50  mAP50-95): 100%|██████████| 5/5 [00:02<00:00,  2.11it/s]\n"
     ]
    },
    {
     "name": "stdout",
     "output_type": "stream",
     "text": [
      "                   all        136        690      0.431      0.153     0.0904     0.0593\n",
      "\n",
      "      Epoch    GPU_mem   box_loss   cls_loss   dfl_loss  Instances       Size\n"
     ]
    },
    {
     "name": "stderr",
     "output_type": "stream",
     "text": [
      "      46/80      4.68G      1.068      2.522      1.001        141        640: 100%|██████████| 34/34 [00:51<00:00,  1.52s/it]\n",
      "                 Class     Images  Instances      Box(P          R      mAP50  mAP50-95): 100%|██████████| 5/5 [00:04<00:00,  1.07it/s]\n"
     ]
    },
    {
     "name": "stdout",
     "output_type": "stream",
     "text": [
      "                   all        136        690      0.372      0.171     0.0905     0.0592\n",
      "\n",
      "      Epoch    GPU_mem   box_loss   cls_loss   dfl_loss  Instances       Size\n"
     ]
    },
    {
     "name": "stderr",
     "output_type": "stream",
     "text": [
      "      47/80       4.7G      1.065      2.477     0.9991         94        640: 100%|██████████| 34/34 [00:56<00:00,  1.66s/it]\n",
      "                 Class     Images  Instances      Box(P          R      mAP50  mAP50-95): 100%|██████████| 5/5 [00:03<00:00,  1.62it/s]\n"
     ]
    },
    {
     "name": "stdout",
     "output_type": "stream",
     "text": [
      "                   all        136        690      0.404      0.172     0.0944     0.0616\n",
      "\n",
      "      Epoch    GPU_mem   box_loss   cls_loss   dfl_loss  Instances       Size\n"
     ]
    },
    {
     "name": "stderr",
     "output_type": "stream",
     "text": [
      "      48/80      4.71G      1.067      2.501     0.9941        154        640: 100%|██████████| 34/34 [00:56<00:00,  1.65s/it]\n",
      "                 Class     Images  Instances      Box(P          R      mAP50  mAP50-95): 100%|██████████| 5/5 [00:03<00:00,  1.51it/s]\n"
     ]
    },
    {
     "name": "stdout",
     "output_type": "stream",
     "text": [
      "                   all        136        690      0.374      0.172     0.0974     0.0625\n",
      "\n",
      "      Epoch    GPU_mem   box_loss   cls_loss   dfl_loss  Instances       Size\n"
     ]
    },
    {
     "name": "stderr",
     "output_type": "stream",
     "text": [
      "      49/80      4.73G      1.055       2.47      1.002        134        640: 100%|██████████| 34/34 [00:47<00:00,  1.39s/it]\n",
      "                 Class     Images  Instances      Box(P          R      mAP50  mAP50-95): 100%|██████████| 5/5 [00:02<00:00,  1.99it/s]\n"
     ]
    },
    {
     "name": "stdout",
     "output_type": "stream",
     "text": [
      "                   all        136        690      0.411      0.165     0.0911     0.0593\n",
      "\n",
      "      Epoch    GPU_mem   box_loss   cls_loss   dfl_loss  Instances       Size\n"
     ]
    },
    {
     "name": "stderr",
     "output_type": "stream",
     "text": [
      "      50/80      4.74G      1.054      2.456     0.9898        147        640: 100%|██████████| 34/34 [00:46<00:00,  1.36s/it]\n",
      "                 Class     Images  Instances      Box(P          R      mAP50  mAP50-95): 100%|██████████| 5/5 [00:02<00:00,  2.02it/s]\n"
     ]
    },
    {
     "name": "stdout",
     "output_type": "stream",
     "text": [
      "                   all        136        690      0.438      0.148     0.0954     0.0627\n",
      "\n",
      "      Epoch    GPU_mem   box_loss   cls_loss   dfl_loss  Instances       Size\n"
     ]
    },
    {
     "name": "stderr",
     "output_type": "stream",
     "text": [
      "      51/80      4.76G       1.04      2.418     0.9908        117        640: 100%|██████████| 34/34 [00:47<00:00,  1.39s/it]\n",
      "                 Class     Images  Instances      Box(P          R      mAP50  mAP50-95): 100%|██████████| 5/5 [00:02<00:00,  1.88it/s]\n"
     ]
    },
    {
     "name": "stdout",
     "output_type": "stream",
     "text": [
      "                   all        136        690      0.382      0.166      0.094     0.0614\n",
      "\n",
      "      Epoch    GPU_mem   box_loss   cls_loss   dfl_loss  Instances       Size\n"
     ]
    },
    {
     "name": "stderr",
     "output_type": "stream",
     "text": [
      "      52/80      4.77G      1.073      2.401      1.002        160        640: 100%|██████████| 34/34 [00:46<00:00,  1.36s/it]\n",
      "                 Class     Images  Instances      Box(P          R      mAP50  mAP50-95): 100%|██████████| 5/5 [00:02<00:00,  1.90it/s]\n"
     ]
    },
    {
     "name": "stdout",
     "output_type": "stream",
     "text": [
      "                   all        136        690      0.429      0.151     0.0976     0.0635\n",
      "\n",
      "      Epoch    GPU_mem   box_loss   cls_loss   dfl_loss  Instances       Size\n"
     ]
    },
    {
     "name": "stderr",
     "output_type": "stream",
     "text": [
      "      53/80      4.79G      1.035      2.432     0.9847        205        640: 100%|██████████| 34/34 [00:46<00:00,  1.38s/it]\n",
      "                 Class     Images  Instances      Box(P          R      mAP50  mAP50-95): 100%|██████████| 5/5 [00:02<00:00,  1.83it/s]\n"
     ]
    },
    {
     "name": "stdout",
     "output_type": "stream",
     "text": [
      "                   all        136        690       0.46       0.17     0.0933     0.0607\n",
      "\n",
      "      Epoch    GPU_mem   box_loss   cls_loss   dfl_loss  Instances       Size\n"
     ]
    },
    {
     "name": "stderr",
     "output_type": "stream",
     "text": [
      "      54/80       4.8G      1.043      2.398     0.9901         99        640: 100%|██████████| 34/34 [00:45<00:00,  1.35s/it]\n",
      "                 Class     Images  Instances      Box(P          R      mAP50  mAP50-95): 100%|██████████| 5/5 [00:03<00:00,  1.61it/s]\n"
     ]
    },
    {
     "name": "stdout",
     "output_type": "stream",
     "text": [
      "                   all        136        690      0.397      0.152     0.0929     0.0597\n",
      "\n",
      "      Epoch    GPU_mem   box_loss   cls_loss   dfl_loss  Instances       Size\n"
     ]
    },
    {
     "name": "stderr",
     "output_type": "stream",
     "text": [
      "      55/80      4.82G      1.039      2.403     0.9958        177        640: 100%|██████████| 34/34 [00:44<00:00,  1.32s/it]\n",
      "                 Class     Images  Instances      Box(P          R      mAP50  mAP50-95): 100%|██████████| 5/5 [00:03<00:00,  1.26it/s]\n"
     ]
    },
    {
     "name": "stdout",
     "output_type": "stream",
     "text": [
      "                   all        136        690      0.394      0.168     0.0933     0.0606\n",
      "\n",
      "      Epoch    GPU_mem   box_loss   cls_loss   dfl_loss  Instances       Size\n"
     ]
    },
    {
     "name": "stderr",
     "output_type": "stream",
     "text": [
      "      56/80      4.83G      1.023      2.391     0.9907         89        640: 100%|██████████| 34/34 [00:46<00:00,  1.35s/it]\n",
      "                 Class     Images  Instances      Box(P          R      mAP50  mAP50-95): 100%|██████████| 5/5 [00:03<00:00,  1.61it/s]\n"
     ]
    },
    {
     "name": "stdout",
     "output_type": "stream",
     "text": [
      "                   all        136        690      0.421      0.172     0.0954      0.062\n",
      "\n",
      "      Epoch    GPU_mem   box_loss   cls_loss   dfl_loss  Instances       Size\n"
     ]
    },
    {
     "name": "stderr",
     "output_type": "stream",
     "text": [
      "      57/80      4.85G       1.04      2.365     0.9906        168        640: 100%|██████████| 34/34 [00:44<00:00,  1.31s/it]\n",
      "                 Class     Images  Instances      Box(P          R      mAP50  mAP50-95): 100%|██████████| 5/5 [00:02<00:00,  2.01it/s]\n"
     ]
    },
    {
     "name": "stdout",
     "output_type": "stream",
     "text": [
      "                   all        136        690      0.384      0.162     0.0912     0.0587\n",
      "\n",
      "      Epoch    GPU_mem   box_loss   cls_loss   dfl_loss  Instances       Size\n"
     ]
    },
    {
     "name": "stderr",
     "output_type": "stream",
     "text": [
      "      58/80      4.86G      1.044      2.363     0.9942        193        640: 100%|██████████| 34/34 [00:46<00:00,  1.36s/it]\n",
      "                 Class     Images  Instances      Box(P          R      mAP50  mAP50-95): 100%|██████████| 5/5 [00:02<00:00,  1.89it/s]\n"
     ]
    },
    {
     "name": "stdout",
     "output_type": "stream",
     "text": [
      "                   all        136        690      0.454      0.165     0.0934     0.0595\n",
      "\n",
      "      Epoch    GPU_mem   box_loss   cls_loss   dfl_loss  Instances       Size\n"
     ]
    },
    {
     "name": "stderr",
     "output_type": "stream",
     "text": [
      "      59/80      4.88G      1.008      2.346     0.9797        165        640: 100%|██████████| 34/34 [00:47<00:00,  1.40s/it]\n",
      "                 Class     Images  Instances      Box(P          R      mAP50  mAP50-95): 100%|██████████| 5/5 [00:02<00:00,  1.96it/s]\n"
     ]
    },
    {
     "name": "stdout",
     "output_type": "stream",
     "text": [
      "                   all        136        690      0.343      0.171     0.0921      0.059\n",
      "\n",
      "      Epoch    GPU_mem   box_loss   cls_loss   dfl_loss  Instances       Size\n"
     ]
    },
    {
     "name": "stderr",
     "output_type": "stream",
     "text": [
      "      60/80      4.89G      1.042      2.328     0.9937        175        640: 100%|██████████| 34/34 [00:46<00:00,  1.38s/it]\n",
      "                 Class     Images  Instances      Box(P          R      mAP50  mAP50-95): 100%|██████████| 5/5 [00:02<00:00,  1.95it/s]\n"
     ]
    },
    {
     "name": "stdout",
     "output_type": "stream",
     "text": [
      "                   all        136        690      0.443      0.149      0.094     0.0616\n",
      "\n",
      "      Epoch    GPU_mem   box_loss   cls_loss   dfl_loss  Instances       Size\n"
     ]
    },
    {
     "name": "stderr",
     "output_type": "stream",
     "text": [
      "      61/80      4.91G      1.017      2.328     0.9758        114        640: 100%|██████████| 34/34 [00:45<00:00,  1.35s/it]\n",
      "                 Class     Images  Instances      Box(P          R      mAP50  mAP50-95): 100%|██████████| 5/5 [00:02<00:00,  2.03it/s]\n"
     ]
    },
    {
     "name": "stdout",
     "output_type": "stream",
     "text": [
      "                   all        136        690      0.397       0.17     0.0947     0.0619\n",
      "\n",
      "      Epoch    GPU_mem   box_loss   cls_loss   dfl_loss  Instances       Size\n"
     ]
    },
    {
     "name": "stderr",
     "output_type": "stream",
     "text": [
      "      62/80      4.92G      1.036      2.363     0.9883        110        640: 100%|██████████| 34/34 [00:46<00:00,  1.38s/it]\n",
      "                 Class     Images  Instances      Box(P          R      mAP50  mAP50-95): 100%|██████████| 5/5 [00:02<00:00,  1.97it/s]\n"
     ]
    },
    {
     "name": "stdout",
     "output_type": "stream",
     "text": [
      "                   all        136        690      0.401       0.16     0.0973     0.0636\n",
      "\n",
      "      Epoch    GPU_mem   box_loss   cls_loss   dfl_loss  Instances       Size\n"
     ]
    },
    {
     "name": "stderr",
     "output_type": "stream",
     "text": [
      "      63/80      4.94G      1.021      2.352      0.985        160        640: 100%|██████████| 34/34 [00:45<00:00,  1.34s/it]\n",
      "                 Class     Images  Instances      Box(P          R      mAP50  mAP50-95): 100%|██████████| 5/5 [00:03<00:00,  1.43it/s]\n"
     ]
    },
    {
     "name": "stdout",
     "output_type": "stream",
     "text": [
      "                   all        136        690      0.422      0.164     0.0995     0.0645\n",
      "\n",
      "      Epoch    GPU_mem   box_loss   cls_loss   dfl_loss  Instances       Size\n"
     ]
    },
    {
     "name": "stderr",
     "output_type": "stream",
     "text": [
      "      64/80      4.95G      1.016       2.33     0.9799        114        640: 100%|██████████| 34/34 [00:45<00:00,  1.33s/it]\n",
      "                 Class     Images  Instances      Box(P          R      mAP50  mAP50-95): 100%|██████████| 5/5 [00:03<00:00,  1.36it/s]\n"
     ]
    },
    {
     "name": "stdout",
     "output_type": "stream",
     "text": [
      "                   all        136        690      0.418      0.169     0.0958     0.0617\n",
      "\n",
      "      Epoch    GPU_mem   box_loss   cls_loss   dfl_loss  Instances       Size\n"
     ]
    },
    {
     "name": "stderr",
     "output_type": "stream",
     "text": [
      "      65/80      4.97G      1.027      2.314      0.984        132        640: 100%|██████████| 34/34 [00:45<00:00,  1.33s/it]\n",
      "                 Class     Images  Instances      Box(P          R      mAP50  mAP50-95): 100%|██████████| 5/5 [00:02<00:00,  2.01it/s]\n"
     ]
    },
    {
     "name": "stdout",
     "output_type": "stream",
     "text": [
      "                   all        136        690      0.409       0.16        0.1      0.065\n",
      "\n",
      "      Epoch    GPU_mem   box_loss   cls_loss   dfl_loss  Instances       Size\n"
     ]
    },
    {
     "name": "stderr",
     "output_type": "stream",
     "text": [
      "      66/80      4.98G      1.019       2.33     0.9811        131        640: 100%|██████████| 34/34 [00:44<00:00,  1.31s/it]\n",
      "                 Class     Images  Instances      Box(P          R      mAP50  mAP50-95): 100%|██████████| 5/5 [00:02<00:00,  1.96it/s]\n"
     ]
    },
    {
     "name": "stdout",
     "output_type": "stream",
     "text": [
      "                   all        136        690      0.414       0.17        0.1     0.0643\n",
      "\n",
      "      Epoch    GPU_mem   box_loss   cls_loss   dfl_loss  Instances       Size\n"
     ]
    },
    {
     "name": "stderr",
     "output_type": "stream",
     "text": [
      "      67/80         5G       1.01       2.28      0.972        152        640: 100%|██████████| 34/34 [00:46<00:00,  1.37s/it]\n",
      "                 Class     Images  Instances      Box(P          R      mAP50  mAP50-95): 100%|██████████| 5/5 [00:02<00:00,  1.91it/s]\n"
     ]
    },
    {
     "name": "stdout",
     "output_type": "stream",
     "text": [
      "                   all        136        690      0.401      0.164     0.0969     0.0625\n",
      "\n",
      "      Epoch    GPU_mem   box_loss   cls_loss   dfl_loss  Instances       Size\n"
     ]
    },
    {
     "name": "stderr",
     "output_type": "stream",
     "text": [
      "      68/80      5.01G       1.01      2.325     0.9845        151        640: 100%|██████████| 34/34 [00:46<00:00,  1.37s/it]\n",
      "                 Class     Images  Instances      Box(P          R      mAP50  mAP50-95): 100%|██████████| 5/5 [00:02<00:00,  2.10it/s]\n"
     ]
    },
    {
     "name": "stdout",
     "output_type": "stream",
     "text": [
      "                   all        136        690      0.425      0.162     0.0999     0.0644\n",
      "\n",
      "      Epoch    GPU_mem   box_loss   cls_loss   dfl_loss  Instances       Size\n"
     ]
    },
    {
     "name": "stderr",
     "output_type": "stream",
     "text": [
      "      69/80      5.03G       1.02      2.321     0.9776        161        640: 100%|██████████| 34/34 [00:45<00:00,  1.33s/it]\n",
      "                 Class     Images  Instances      Box(P          R      mAP50  mAP50-95): 100%|██████████| 5/5 [00:03<00:00,  1.53it/s]\n"
     ]
    },
    {
     "name": "stdout",
     "output_type": "stream",
     "text": [
      "                   all        136        690      0.398      0.167     0.0978     0.0633\n",
      "\n",
      "      Epoch    GPU_mem   box_loss   cls_loss   dfl_loss  Instances       Size\n"
     ]
    },
    {
     "name": "stderr",
     "output_type": "stream",
     "text": [
      "      70/80      5.04G      1.022       2.31     0.9812        103        640: 100%|██████████| 34/34 [00:45<00:00,  1.34s/it]\n",
      "                 Class     Images  Instances      Box(P          R      mAP50  mAP50-95): 100%|██████████| 5/5 [00:03<00:00,  1.32it/s]"
     ]
    },
    {
     "name": "stdout",
     "output_type": "stream",
     "text": [
      "                   all        136        690      0.436      0.162     0.0989      0.064\n"
     ]
    },
    {
     "name": "stderr",
     "output_type": "stream",
     "text": [
      "\n"
     ]
    },
    {
     "name": "stdout",
     "output_type": "stream",
     "text": [
      "Closing dataloader mosaic\n",
      "\u001b[34m\u001b[1malbumentations: \u001b[0mBlur(p=0.01, blur_limit=(3, 7)), MedianBlur(p=0.01, blur_limit=(3, 7)), ToGray(p=0.01, method='weighted_average', num_output_channels=3), CLAHE(p=0.01, clip_limit=(1.0, 4.0), tile_grid_size=(8, 8))\n",
      "\n",
      "      Epoch    GPU_mem   box_loss   cls_loss   dfl_loss  Instances       Size\n"
     ]
    },
    {
     "name": "stderr",
     "output_type": "stream",
     "text": [
      "      71/80      5.06G      1.016      2.586      1.012        102        640: 100%|██████████| 34/34 [00:49<00:00,  1.45s/it]\n",
      "                 Class     Images  Instances      Box(P          R      mAP50  mAP50-95): 100%|██████████| 5/5 [00:02<00:00,  1.83it/s]"
     ]
    },
    {
     "name": "stdout",
     "output_type": "stream",
     "text": [
      "                   all        136        690      0.369      0.177     0.0907     0.0577\n"
     ]
    },
    {
     "name": "stderr",
     "output_type": "stream",
     "text": [
      "\n"
     ]
    },
    {
     "name": "stdout",
     "output_type": "stream",
     "text": [
      "\n",
      "      Epoch    GPU_mem   box_loss   cls_loss   dfl_loss  Instances       Size\n"
     ]
    },
    {
     "name": "stderr",
     "output_type": "stream",
     "text": [
      "      72/80      5.07G      1.002      2.477     0.9965         68        640: 100%|██████████| 34/34 [00:46<00:00,  1.37s/it]\n",
      "                 Class     Images  Instances      Box(P          R      mAP50  mAP50-95): 100%|██████████| 5/5 [00:02<00:00,  1.85it/s]\n"
     ]
    },
    {
     "name": "stdout",
     "output_type": "stream",
     "text": [
      "                   all        136        690      0.406      0.169     0.0879     0.0547\n",
      "\n",
      "      Epoch    GPU_mem   box_loss   cls_loss   dfl_loss  Instances       Size\n"
     ]
    },
    {
     "name": "stderr",
     "output_type": "stream",
     "text": [
      "      73/80      5.09G     0.9784      2.393     0.9826         61        640: 100%|██████████| 34/34 [00:44<00:00,  1.31s/it]\n",
      "                 Class     Images  Instances      Box(P          R      mAP50  mAP50-95): 100%|██████████| 5/5 [00:03<00:00,  1.41it/s]\n"
     ]
    },
    {
     "name": "stdout",
     "output_type": "stream",
     "text": [
      "                   all        136        690      0.461      0.157     0.0861      0.054\n",
      "\n",
      "      Epoch    GPU_mem   box_loss   cls_loss   dfl_loss  Instances       Size\n"
     ]
    },
    {
     "name": "stderr",
     "output_type": "stream",
     "text": [
      "      74/80       5.1G       0.97      2.368     0.9888         59        640: 100%|██████████| 34/34 [00:45<00:00,  1.34s/it]\n",
      "                 Class     Images  Instances      Box(P          R      mAP50  mAP50-95): 100%|██████████| 5/5 [00:03<00:00,  1.32it/s]\n"
     ]
    },
    {
     "name": "stdout",
     "output_type": "stream",
     "text": [
      "                   all        136        690       0.42      0.173     0.0873     0.0554\n",
      "\n",
      "      Epoch    GPU_mem   box_loss   cls_loss   dfl_loss  Instances       Size\n"
     ]
    },
    {
     "name": "stderr",
     "output_type": "stream",
     "text": [
      "      75/80      5.12G     0.9518       2.35     0.9817         73        640: 100%|██████████| 34/34 [00:43<00:00,  1.29s/it]\n",
      "                 Class     Images  Instances      Box(P          R      mAP50  mAP50-95): 100%|██████████| 5/5 [00:02<00:00,  1.91it/s]\n"
     ]
    },
    {
     "name": "stdout",
     "output_type": "stream",
     "text": [
      "                   all        136        690       0.45      0.152     0.0886      0.057\n",
      "\n",
      "      Epoch    GPU_mem   box_loss   cls_loss   dfl_loss  Instances       Size\n"
     ]
    },
    {
     "name": "stderr",
     "output_type": "stream",
     "text": [
      "      76/80      5.13G     0.9521       2.35     0.9729         66        640: 100%|██████████| 34/34 [00:45<00:00,  1.34s/it]\n",
      "                 Class     Images  Instances      Box(P          R      mAP50  mAP50-95): 100%|██████████| 5/5 [00:02<00:00,  1.97it/s]\n"
     ]
    },
    {
     "name": "stdout",
     "output_type": "stream",
     "text": [
      "                   all        136        690      0.477      0.152     0.0919     0.0584\n",
      "\n",
      "      Epoch    GPU_mem   box_loss   cls_loss   dfl_loss  Instances       Size\n"
     ]
    },
    {
     "name": "stderr",
     "output_type": "stream",
     "text": [
      "      77/80      5.15G     0.9458      2.317     0.9807         82        640: 100%|██████████| 34/34 [00:45<00:00,  1.35s/it]\n",
      "                 Class     Images  Instances      Box(P          R      mAP50  mAP50-95): 100%|██████████| 5/5 [00:02<00:00,  1.93it/s]\n"
     ]
    },
    {
     "name": "stdout",
     "output_type": "stream",
     "text": [
      "                   all        136        690      0.478       0.15     0.0916     0.0584\n",
      "\n",
      "      Epoch    GPU_mem   box_loss   cls_loss   dfl_loss  Instances       Size\n"
     ]
    },
    {
     "name": "stderr",
     "output_type": "stream",
     "text": [
      "      78/80      5.16G     0.9502      2.323     0.9798         65        640: 100%|██████████| 34/34 [00:46<00:00,  1.37s/it]\n",
      "                 Class     Images  Instances      Box(P          R      mAP50  mAP50-95): 100%|██████████| 5/5 [00:02<00:00,  1.83it/s]\n"
     ]
    },
    {
     "name": "stdout",
     "output_type": "stream",
     "text": [
      "                   all        136        690      0.459      0.156     0.0919     0.0587\n",
      "\n",
      "      Epoch    GPU_mem   box_loss   cls_loss   dfl_loss  Instances       Size\n"
     ]
    },
    {
     "name": "stderr",
     "output_type": "stream",
     "text": [
      "      79/80      5.18G     0.9358      2.334     0.9711         47        640: 100%|██████████| 34/34 [00:44<00:00,  1.31s/it]\n",
      "                 Class     Images  Instances      Box(P          R      mAP50  mAP50-95): 100%|██████████| 5/5 [00:03<00:00,  1.43it/s]\n"
     ]
    },
    {
     "name": "stdout",
     "output_type": "stream",
     "text": [
      "                   all        136        690      0.463      0.155     0.0919     0.0588\n",
      "\n",
      "      Epoch    GPU_mem   box_loss   cls_loss   dfl_loss  Instances       Size\n"
     ]
    },
    {
     "name": "stderr",
     "output_type": "stream",
     "text": [
      "      80/80      5.19G     0.9468      2.312      0.974         92        640: 100%|██████████| 34/34 [00:44<00:00,  1.31s/it]\n",
      "                 Class     Images  Instances      Box(P          R      mAP50  mAP50-95): 100%|██████████| 5/5 [00:03<00:00,  1.62it/s]\n"
     ]
    },
    {
     "name": "stdout",
     "output_type": "stream",
     "text": [
      "                   all        136        690       0.46      0.157     0.0921     0.0588\n",
      "\n",
      "80 epochs completed in 1.143 hours.\n",
      "Optimizer stripped from runs/detect/dentex_train/weights/last.pt, 5.6MB\n",
      "Optimizer stripped from runs/detect/dentex_train/weights/best.pt, 5.6MB\n",
      "\n",
      "Validating runs/detect/dentex_train/weights/best.pt...\n",
      "Ultralytics 8.3.155 🚀 Python-3.11.13 torch-2.6.0+cu124 CUDA:0 (Tesla T4, 15095MiB)\n",
      "YOLOv12n summary (fused): 159 layers, 2,617,157 parameters, 0 gradients, 6.6 GFLOPs\n"
     ]
    },
    {
     "name": "stderr",
     "output_type": "stream",
     "text": [
      "                 Class     Images  Instances      Box(P          R      mAP50  mAP50-95): 100%|██████████| 5/5 [00:07<00:00,  1.50s/it]\n"
     ]
    },
    {
     "name": "stdout",
     "output_type": "stream",
     "text": [
      "                   all        136        690      0.409       0.16     0.0972     0.0627\n",
      "              11_Carie          1          1          0          0          0          0\n",
      "   11_Lesao_Periapical          1          1          1          0          0          0\n",
      "              12_Carie          7          7          0          0     0.0306     0.0204\n",
      "     12_Carie_Profunda          1          1          1          0          0          0\n",
      "              13_Carie          2          2          1          0          0          0\n",
      "     13_Carie_Profunda          1          1          0          0          0          0\n",
      "              14_Carie          8          8       0.16      0.125     0.0695     0.0451\n",
      "     14_Carie_Profunda          2          2          1          0      0.107     0.0321\n",
      "              15_Carie         13         13      0.209      0.231       0.11     0.0669\n",
      "     15_Carie_Profunda          2          2          1          0          0          0\n",
      "   15_Lesao_Periapical          1          1          0          0          0          0\n",
      "              16_Carie         29         29      0.183      0.379      0.182      0.126\n",
      "     16_Carie_Profunda          9          9          0          0      0.103     0.0595\n",
      "   16_Lesao_Periapical          1          1          0          0          0          0\n",
      "              17_Carie         30         30     0.0662        0.1     0.0769     0.0543\n",
      "     17_Carie_Profunda          9         10      0.443        0.1      0.144     0.0506\n",
      "   17_Lesao_Periapical          1          1          0          0          0          0\n",
      "              18_Carie         11         11     0.0571     0.0909     0.0394     0.0281\n",
      "     18_Carie_Profunda          7          7      0.174      0.143       0.16      0.108\n",
      "          18_Impactado         26         26      0.376      0.885      0.557      0.323\n",
      "              21_Carie          3          3          1          0      0.008     0.0056\n",
      "   21_Lesao_Periapical          1          1          1          0          0          0\n",
      "              22_Carie          7          7          0          0     0.0139     0.0104\n",
      "     22_Carie_Profunda          1          1          1          0          0          0\n",
      "   22_Lesao_Periapical          1          1          1          0          0          0\n",
      "              23_Carie          1          1          0          0          0          0\n",
      "              24_Carie          2          2          0          0    0.00562    0.00449\n",
      "     24_Carie_Profunda          4          4          1          0      0.254      0.153\n",
      "   24_Lesao_Periapical          1          1          0          0          0          0\n",
      "              25_Carie         15         15     0.0792      0.133      0.132     0.0866\n",
      "     25_Carie_Profunda          2          2          1          0      0.248      0.174\n",
      "              26_Carie         26         26      0.191      0.577      0.185      0.147\n",
      "     26_Carie_Profunda          5          5          0          0     0.0731     0.0412\n",
      "   26_Lesao_Periapical          1          1          1          0          0          0\n",
      "              27_Carie         22         22     0.0749      0.182     0.0795     0.0507\n",
      "     27_Carie_Profunda          6          6          1          0     0.0442     0.0293\n",
      "              28_Carie          8          8     0.0532      0.125     0.0742     0.0442\n",
      "     28_Carie_Profunda          7          7          0          0     0.0324     0.0247\n",
      "          28_Impactado         21         21      0.353          1       0.54      0.255\n",
      "              31_Carie          1          1          0          0          0          0\n",
      "   31_Lesao_Periapical          1          1          0          0          0          0\n",
      "              32_Carie          1          1          0          0          0          0\n",
      "   32_Lesao_Periapical          1          1          0          0          0          0\n",
      "              33_Carie          3          3          1          0          0          0\n",
      "     33_Carie_Profunda          1          1          1          0          0          0\n",
      "              34_Carie         14         14      0.159      0.214     0.0881     0.0567\n",
      "     34_Carie_Profunda          5          5          1          0     0.0181    0.00912\n",
      "              35_Carie         19         19      0.149      0.579      0.227      0.158\n",
      "     35_Carie_Profunda          6          6          0          0      0.018     0.0121\n",
      "   35_Lesao_Periapical          1          1          1          0     0.0765     0.0383\n",
      "              36_Carie         23         23      0.137      0.739       0.17      0.134\n",
      "     36_Carie_Profunda         17         17      0.226      0.603       0.44      0.289\n",
      "   36_Lesao_Periapical          6          6     0.0462      0.167     0.0426     0.0278\n",
      "              37_Carie         34         34       0.15      0.647      0.212      0.157\n",
      "     37_Carie_Profunda          6          6          0          0     0.0688      0.055\n",
      "   37_Lesao_Periapical          2          2          1          0     0.0785     0.0489\n",
      "              38_Carie          9          9     0.0616      0.222     0.0845     0.0645\n",
      "     38_Carie_Profunda          3          3          1          0     0.0194    0.00855\n",
      "          38_Impactado         41         41      0.394      0.976      0.703      0.486\n",
      "              41_Carie          2          2          1          0          0          0\n",
      "   41_Lesao_Periapical          3          3          0          0          0          0\n",
      "              42_Carie          3          3          1          0          0          0\n",
      "   42_Lesao_Periapical          1          1          1          0          0          0\n",
      "              43_Carie          2          2          1          0          0          0\n",
      "              44_Carie         13         13      0.183      0.154      0.161      0.112\n",
      "              45_Carie         16         16      0.103      0.375      0.184      0.141\n",
      "     45_Carie_Profunda          4          4      0.247       0.25     0.0794     0.0686\n",
      "   45_Lesao_Periapical          1          1          1          0          0          0\n",
      "              46_Carie         35         35      0.209        0.8      0.214      0.159\n",
      "     46_Carie_Profunda         13         13      0.136      0.158      0.146      0.101\n",
      "   46_Lesao_Periapical          6          6          1          0     0.0816      0.037\n",
      "              47_Carie         39         39      0.164      0.744      0.237       0.18\n",
      "     47_Carie_Profunda          6          6     0.0752      0.167     0.0995     0.0661\n",
      "   47_Lesao_Periapical          1          1          1          0          0          0\n",
      "              48_Carie         17         17     0.0925      0.294      0.115     0.0843\n",
      "     48_Carie_Profunda          6          6      0.289      0.167      0.162     0.0993\n",
      "          48_Impactado         31         31      0.258      0.968       0.49      0.296\n",
      "Speed: 0.1ms preprocess, 4.0ms inference, 0.0ms loss, 2.5ms postprocess per image\n",
      "Results saved to \u001b[1mruns/detect/dentex_train\u001b[0m\n"
     ]
    }
   ],
   "source": [
    "# Realizando treino\n",
    "results = model.train(\n",
    "    data=\"/content/dentex_yolo12n/data.yaml\",\n",
    "    epochs=80,\n",
    "    imgsz=640,\n",
    "    batch=16,\n",
    "    name='dentex_train'\n",
    "    )"
   ]
  },
  {
   "cell_type": "code",
   "execution_count": 7,
   "metadata": {
    "colab": {
     "base_uri": "https://localhost:8080/"
    },
    "id": "kUXLwQ2fOAi2",
    "outputId": "cc7f94bc-889f-448f-abe4-6d2e15acef72"
   },
   "outputs": [
    {
     "name": "stdout",
     "output_type": "stream",
     "text": [
      "\n",
      "image 1/1 /content/dentex_yolo12n/images/val/train_655.png: 320x640 2 18_Impactados, 2 28_Impactados, 1 38_Impactado, 1 48_Impactado, 98.1ms\n",
      "Speed: 4.9ms preprocess, 98.1ms inference, 6.5ms postprocess per image at shape (1, 3, 320, 640)\n",
      "Results saved to \u001b[1mruns/detect/dentex_train2\u001b[0m\n",
      "1 label saved to runs/detect/dentex_train2/labels\n"
     ]
    }
   ],
   "source": [
    "results = model.predict(\n",
    "    source=\"/content/dentex_yolo12n/images/val/train_655.png\",\n",
    "    conf=0.25,\n",
    "    iou=0.7,\n",
    "    save=True,\n",
    "    save_crop=True,\n",
    "    save_txt=True\n",
    ")"
   ]
  },
  {
   "cell_type": "code",
   "execution_count": 8,
   "metadata": {
    "colab": {
     "base_uri": "https://localhost:8080/",
     "height": 271
    },
    "id": "-zvWcxDUOF5G",
    "outputId": "ad20ae61-c7f4-47cd-db97-8fb3c88aec6f"
   },
   "outputs": [
    {
     "data": {
      "image/png": "[encoded data removed]",
      "text/plain": [
       "<Figure size 640x480 with 1 Axes>"
      ]
     },
     "metadata": {},
     "output_type": "display_data"
    }
   ],
   "source": [
    "import matplotlib.pyplot as plt\n",
    "\n",
    "plt.imshow(results[0].plot())\n",
    "plt.axis('off')\n",
    "plt.show()"
   ]
  },
  {
   "cell_type": "code",
   "execution_count": 14,
   "metadata": {
    "colab": {
     "base_uri": "https://localhost:8080/"
    },
    "id": "12ICiLk0OHpl",
    "outputId": "6ea2fc81-9b21-4acf-a3f3-fc4d2e9aabf6"
   },
   "outputs": [
    {
     "name": "stdout",
     "output_type": "stream",
     "text": [
      "Archive:  validation_data.zip\n",
      "   creating: validation_data/\n",
      "   creating: validation_data/quadrant_enumeration_disease/\n",
      "   creating: validation_data/quadrant_enumeration_disease/xrays/\n",
      "  inflating: validation_data/quadrant_enumeration_disease/xrays/val_44.png  \n",
      "  inflating: validation_data/quadrant_enumeration_disease/xrays/val_18.png  \n",
      "  inflating: validation_data/quadrant_enumeration_disease/xrays/val_32.png  \n",
      "  inflating: validation_data/quadrant_enumeration_disease/xrays/val_41.png  \n",
      "  inflating: validation_data/quadrant_enumeration_disease/xrays/val_27.png  \n",
      "  inflating: validation_data/quadrant_enumeration_disease/xrays/val_15.png  \n",
      "  inflating: validation_data/quadrant_enumeration_disease/xrays/val_26.png  \n",
      "   creating: validation_data/quadrant_enumeration_disease/xrays/.ipynb_checkpoints/\n",
      "  inflating: validation_data/quadrant_enumeration_disease/xrays/.ipynb_checkpoints/val_0-checkpoint.png  \n",
      "  inflating: validation_data/quadrant_enumeration_disease/xrays/val_34.png  \n",
      "  inflating: validation_data/quadrant_enumeration_disease/xrays/val_45.png  \n",
      "  inflating: validation_data/quadrant_enumeration_disease/xrays/val_28.png  \n",
      "  inflating: validation_data/quadrant_enumeration_disease/xrays/val_22.png  \n",
      "  inflating: validation_data/quadrant_enumeration_disease/xrays/val_40.png  \n",
      "  inflating: validation_data/quadrant_enumeration_disease/xrays/val_24.png  \n",
      "  inflating: validation_data/quadrant_enumeration_disease/xrays/val_13.png  \n",
      "  inflating: validation_data/quadrant_enumeration_disease/xrays/val_46.png  \n",
      "  inflating: validation_data/quadrant_enumeration_disease/xrays/val_6.png  \n",
      "  inflating: validation_data/quadrant_enumeration_disease/xrays/val_31.png  \n",
      "  inflating: validation_data/quadrant_enumeration_disease/xrays/val_33.png  \n",
      "  inflating: validation_data/quadrant_enumeration_disease/xrays/val_10.png  \n",
      "  inflating: validation_data/quadrant_enumeration_disease/xrays/val_2.png  \n",
      "  inflating: validation_data/quadrant_enumeration_disease/xrays/val_14.png  \n",
      "  inflating: validation_data/quadrant_enumeration_disease/xrays/val_1.png  \n",
      "  inflating: validation_data/quadrant_enumeration_disease/xrays/val_20.png  \n",
      "  inflating: validation_data/quadrant_enumeration_disease/xrays/val_30.png  \n",
      "  inflating: validation_data/quadrant_enumeration_disease/xrays/val_5.png  \n",
      "  inflating: validation_data/quadrant_enumeration_disease/xrays/val_9.png  \n",
      "  inflating: validation_data/quadrant_enumeration_disease/xrays/val_49.png  \n",
      "  inflating: validation_data/quadrant_enumeration_disease/xrays/val_4.png  \n",
      "  inflating: validation_data/quadrant_enumeration_disease/xrays/val_37.png  \n",
      "  inflating: validation_data/quadrant_enumeration_disease/xrays/val_48.png  \n",
      "  inflating: validation_data/quadrant_enumeration_disease/xrays/val_21.png  \n",
      "  inflating: validation_data/quadrant_enumeration_disease/xrays/val_16.png  \n",
      "  inflating: validation_data/quadrant_enumeration_disease/xrays/val_35.png  \n",
      "  inflating: validation_data/quadrant_enumeration_disease/xrays/val_25.png  \n",
      "  inflating: validation_data/quadrant_enumeration_disease/xrays/val_12.png  \n",
      "  inflating: validation_data/quadrant_enumeration_disease/xrays/val_11.png  \n",
      "  inflating: validation_data/quadrant_enumeration_disease/xrays/val_23.png  \n",
      "  inflating: validation_data/quadrant_enumeration_disease/xrays/val_17.png  \n",
      "  inflating: validation_data/quadrant_enumeration_disease/xrays/val_47.png  \n",
      "  inflating: validation_data/quadrant_enumeration_disease/xrays/val_7.png  \n",
      "  inflating: validation_data/quadrant_enumeration_disease/xrays/val_36.png  \n",
      "  inflating: validation_data/quadrant_enumeration_disease/xrays/val_29.png  \n",
      "  inflating: validation_data/quadrant_enumeration_disease/xrays/val_3.png  \n",
      "  inflating: validation_data/quadrant_enumeration_disease/xrays/val_8.png  \n",
      "  inflating: validation_data/quadrant_enumeration_disease/xrays/val_38.png  \n",
      "  inflating: validation_data/quadrant_enumeration_disease/xrays/val_39.png  \n",
      "  inflating: validation_data/quadrant_enumeration_disease/xrays/val_0.png  \n",
      "  inflating: validation_data/quadrant_enumeration_disease/xrays/val_19.png  \n",
      "  inflating: validation_data/quadrant_enumeration_disease/xrays/val_42.png  \n",
      "  inflating: validation_data/quadrant_enumeration_disease/xrays/val_43.png  \n"
     ]
    }
   ],
   "source": [
    "!unzip validation_data.zip"
   ]
  },
  {
   "cell_type": "code",
   "execution_count": 15,
   "metadata": {
    "colab": {
     "base_uri": "https://localhost:8080/"
    },
    "id": "FJjb4EB9OIeO",
    "outputId": "afbd060c-d604-406e-85ce-2b3029d0c7b6"
   },
   "outputs": [
    {
     "name": "stdout",
     "output_type": "stream",
     "text": [
      "\n",
      "image 1/1 /content/validation_data/quadrant_enumeration_disease/xrays/val_14.png: 320x640 1 38_Impactado, 1 48_Impactado, 16.9ms\n",
      "Speed: 3.5ms preprocess, 16.9ms inference, 2.2ms postprocess per image at shape (1, 3, 320, 640)\n",
      "Results saved to \u001b[1mruns/detect/dentex_train3\u001b[0m\n",
      "1 label saved to runs/detect/dentex_train3/labels\n"
     ]
    }
   ],
   "source": [
    "results = model.predict(\n",
    "    source=\"/content/validation_data/quadrant_enumeration_disease/xrays/val_14.png\",  # Caminho novo\n",
    "    conf=0.25,\n",
    "    iou=0.7,\n",
    "    save=True,\n",
    "    save_crop=True,\n",
    "    save_txt=True\n",
    ")"
   ]
  },
  {
   "cell_type": "code",
   "execution_count": 16,
   "metadata": {
    "colab": {
     "base_uri": "https://localhost:8080/",
     "height": 276
    },
    "id": "rZ_ScIl1OKUu",
    "outputId": "87ed8603-22d2-487b-867c-587d60572114"
   },
   "outputs": [
    {
     "data": {
      "image/png": "[encoded data removed]",
      "text/plain": [
       "<Figure size 640x480 with 1 Axes>"
      ]
     },
     "metadata": {},
     "output_type": "display_data"
    }
   ],
   "source": [
    "import matplotlib.pyplot as plt\n",
    "\n",
    "plt.imshow(results[0].plot())\n",
    "plt.axis('off')\n",
    "plt.show()"
   ]
  },
  {
   "cell_type": "code",
   "execution_count": 17,
   "metadata": {
    "colab": {
     "base_uri": "https://localhost:8080/"
    },
    "id": "jVECygTXOMI2",
    "outputId": "8a3bcba6-140e-4eb0-f04a-b476aa7e25f7"
   },
   "outputs": [
    {
     "name": "stdout",
     "output_type": "stream",
     "text": [
      "Ultralytics 8.3.155 🚀 Python-3.11.13 torch-2.6.0+cu124 CUDA:0 (Tesla T4, 15095MiB)\n",
      "\u001b[34m\u001b[1mval: \u001b[0mFast image access ✅ (ping: 0.0±0.0 ms, read: 2924.1±585.8 MB/s, size: 4206.3 KB)\n"
     ]
    },
    {
     "name": "stderr",
     "output_type": "stream",
     "text": [
      "\u001b[34m\u001b[1mval: \u001b[0mScanning /content/dentex_yolo12n/labels/val.cache... 136 images, 0 backgrounds, 0 corrupt: 100%|██████████| 136/136 [00:00<?, ?it/s]\n",
      "                 Class     Images  Instances      Box(P          R      mAP50  mAP50-95): 100%|██████████| 9/9 [00:11<00:00,  1.25s/it]\n"
     ]
    },
    {
     "name": "stdout",
     "output_type": "stream",
     "text": [
      "                   all        136        690      0.412      0.162      0.103     0.0667\n",
      "              11_Carie          1          1          0          0          0          0\n",
      "   11_Lesao_Periapical          1          1          1          0          0          0\n",
      "              12_Carie          7          7          0          0     0.0323     0.0222\n",
      "     12_Carie_Profunda          1          1          1          0          0          0\n",
      "              13_Carie          2          2          1          0          0          0\n",
      "     13_Carie_Profunda          1          1          0          0          0          0\n",
      "              14_Carie          8          8       0.16      0.125     0.0693     0.0463\n",
      "     14_Carie_Profunda          2          2          1          0      0.108     0.0216\n",
      "              15_Carie         13         13      0.224      0.231      0.115     0.0739\n",
      "     15_Carie_Profunda          2          2          1          0          0          0\n",
      "   15_Lesao_Periapical          1          1          0          0          0          0\n",
      "              16_Carie         29         29      0.178      0.379      0.187      0.129\n",
      "     16_Carie_Profunda          9          9      0.148     0.0821      0.135      0.074\n",
      "   16_Lesao_Periapical          1          1          0          0          0          0\n",
      "              17_Carie         30         30     0.0797      0.124     0.0821     0.0585\n",
      "     17_Carie_Profunda          9         10      0.452        0.1      0.139     0.0504\n",
      "   17_Lesao_Periapical          1          1          0          0          0          0\n",
      "              18_Carie         11         11     0.0545     0.0909     0.0419     0.0288\n",
      "     18_Carie_Profunda          7          7      0.147      0.143      0.166      0.112\n",
      "          18_Impactado         26         26      0.376      0.885      0.556      0.313\n",
      "              21_Carie          3          3          1          0    0.00818    0.00572\n",
      "   21_Lesao_Periapical          1          1          1          0          0          0\n",
      "              22_Carie          7          7          0          0     0.0142     0.0106\n",
      "     22_Carie_Profunda          1          1          1          0          0          0\n",
      "   22_Lesao_Periapical          1          1          1          0          0          0\n",
      "              23_Carie          1          1          0          0          0          0\n",
      "              24_Carie          2          2          0          0    0.00548    0.00439\n",
      "     24_Carie_Profunda          4          4          1          0      0.254      0.153\n",
      "   24_Lesao_Periapical          1          1          0          0          0          0\n",
      "              25_Carie         15         15     0.0796      0.133      0.139       0.09\n",
      "     25_Carie_Profunda          2          2          1          0      0.496      0.347\n",
      "              26_Carie         26         26      0.194      0.577      0.188      0.149\n",
      "     26_Carie_Profunda          5          5          0          0      0.071     0.0392\n",
      "   26_Lesao_Periapical          1          1          1          0          0          0\n",
      "              27_Carie         22         22     0.0686      0.182     0.0757     0.0486\n",
      "     27_Carie_Profunda          6          6          1          0     0.0448     0.0304\n",
      "              28_Carie          8          8     0.0534      0.125     0.0685     0.0431\n",
      "     28_Carie_Profunda          7          7     0.0354     0.0304     0.0453     0.0346\n",
      "          28_Impactado         21         21      0.353          1      0.539      0.263\n",
      "              31_Carie          1          1          0          0          0          0\n",
      "   31_Lesao_Periapical          1          1          0          0          0          0\n",
      "              32_Carie          1          1          0          0          0          0\n",
      "   32_Lesao_Periapical          1          1          0          0          0          0\n",
      "              33_Carie          3          3          1          0          0          0\n",
      "     33_Carie_Profunda          1          1          1          0          0          0\n",
      "              34_Carie         14         14      0.189      0.214     0.0973      0.063\n",
      "     34_Carie_Profunda          5          5          1          0     0.0181    0.00914\n",
      "              35_Carie         19         19      0.157      0.579      0.246      0.177\n",
      "     35_Carie_Profunda          6          6          0          0     0.0181     0.0122\n",
      "   35_Lesao_Periapical          1          1          1          0     0.0765     0.0383\n",
      "              36_Carie         23         23      0.137      0.739      0.184      0.146\n",
      "     36_Carie_Profunda         17         17      0.222      0.604      0.424      0.287\n",
      "   36_Lesao_Periapical          6          6     0.0452      0.167     0.0429      0.028\n",
      "              37_Carie         34         34      0.149      0.647      0.232      0.169\n",
      "     37_Carie_Profunda          6          6          0          0     0.0715     0.0568\n",
      "   37_Lesao_Periapical          2          2          1          0     0.0791     0.0493\n",
      "              38_Carie          9          9     0.0613      0.222     0.0837     0.0649\n",
      "     38_Carie_Profunda          3          3          1          0     0.0194    0.00856\n",
      "          38_Impactado         41         41      0.394      0.976      0.716      0.499\n",
      "              41_Carie          2          2          1          0          0          0\n",
      "   41_Lesao_Periapical          3          3          0          0          0          0\n",
      "              42_Carie          3          3          1          0          0          0\n",
      "   42_Lesao_Periapical          1          1          1          0          0          0\n",
      "              43_Carie          2          2          1          0          0          0\n",
      "              44_Carie         13         13      0.188      0.154      0.172      0.121\n",
      "              45_Carie         16         16      0.102      0.375       0.18      0.141\n",
      "     45_Carie_Profunda          4          4      0.247       0.25     0.0794     0.0686\n",
      "   45_Lesao_Periapical          1          1          1          0          0          0\n",
      "              46_Carie         35         35      0.205        0.8      0.228       0.17\n",
      "     46_Carie_Profunda         13         13      0.132      0.153       0.14      0.097\n",
      "   46_Lesao_Periapical          6          6          1          0     0.0829     0.0377\n",
      "              47_Carie         39         39      0.164      0.751      0.235      0.178\n",
      "     47_Carie_Profunda          6          6     0.0754      0.167     0.0996     0.0661\n",
      "   47_Lesao_Periapical          1          1          1          0          0          0\n",
      "              48_Carie         17         17     0.0923      0.294      0.113     0.0823\n",
      "     48_Carie_Profunda          6          6      0.289      0.167      0.162      0.101\n",
      "          48_Impactado         31         31      0.261      0.981      0.528      0.316\n",
      "Speed: 1.4ms preprocess, 8.2ms inference, 0.0ms loss, 2.9ms postprocess per image\n",
      "Results saved to \u001b[1mruns/detect/dentex_train4\u001b[0m\n"
     ]
    }
   ],
   "source": [
    "resultados = model.val()"
   ]
  },
  {
   "cell_type": "code",
   "execution_count": 18,
   "metadata": {
    "colab": {
     "base_uri": "https://localhost:8080/"
    },
    "id": "kdAocSo2OO59",
    "outputId": "dbdf9368-22ea-42b1-91b2-e5435d9580cb"
   },
   "outputs": [
    {
     "name": "stdout",
     "output_type": "stream",
     "text": [
      "Métricas globais:\n",
      "mAP50:     0.103\n",
      "mAP50-95:  0.067\n"
     ]
    }
   ],
   "source": [
    "print(\"Métricas globais:\")\n",
    "print(f'mAP50:     {resultados.box.map50:.3f}')\n",
    "print(f'mAP50-95:  {resultados.box.map:.3f}')"
   ]
  },
  {
   "cell_type": "code",
   "execution_count": 19,
   "metadata": {
    "colab": {
     "base_uri": "https://localhost:8080/"
    },
    "id": "r460oiIOOQPu",
    "outputId": "b625a171-d715-440e-e370-b29e73e27fbc"
   },
   "outputs": [
    {
     "name": "stdout",
     "output_type": "stream",
     "text": [
      "  adding: runs/ (stored 0%)\n",
      "  adding: runs/detect/ (stored 0%)\n",
      "  adding: runs/detect/dentex_train2/ (stored 0%)\n",
      "  adding: runs/detect/dentex_train2/train_655.jpg (deflated 1%)\n",
      "  adding: runs/detect/dentex_train2/labels/ (stored 0%)\n",
      "  adding: runs/detect/dentex_train2/labels/train_655.txt (deflated 49%)\n",
      "  adding: runs/detect/dentex_train2/crops/ (stored 0%)\n",
      "  adding: runs/detect/dentex_train2/crops/28_Impactado/ (stored 0%)\n",
      "  adding: runs/detect/dentex_train2/crops/28_Impactado/train_655.jpg (deflated 3%)\n",
      "  adding: runs/detect/dentex_train2/crops/28_Impactado/train_6552.jpg (deflated 3%)\n",
      "  adding: runs/detect/dentex_train2/crops/38_Impactado/ (stored 0%)\n",
      "  adding: runs/detect/dentex_train2/crops/38_Impactado/train_655.jpg (deflated 3%)\n",
      "  adding: runs/detect/dentex_train2/crops/18_Impactado/ (stored 0%)\n",
      "  adding: runs/detect/dentex_train2/crops/18_Impactado/train_655.jpg (deflated 3%)\n",
      "  adding: runs/detect/dentex_train2/crops/18_Impactado/train_6552.jpg (deflated 3%)\n",
      "  adding: runs/detect/dentex_train2/crops/48_Impactado/ (stored 0%)\n",
      "  adding: runs/detect/dentex_train2/crops/48_Impactado/train_655.jpg (deflated 3%)\n",
      "  adding: runs/detect/dentex_train/ (stored 0%)\n",
      "  adding: runs/detect/dentex_train/labels_correlogram.jpg (deflated 37%)\n",
      "  adding: runs/detect/dentex_train/train_batch2381.jpg (deflated 14%)\n",
      "  adding: runs/detect/dentex_train/labels.jpg (deflated 32%)\n",
      "  adding: runs/detect/dentex_train/val_batch0_pred.jpg (deflated 11%)\n",
      "  adding: runs/detect/dentex_train/train_batch2380.jpg (deflated 16%)\n",
      "  adding: runs/detect/dentex_train/val_batch1_pred.jpg (deflated 12%)\n",
      "  adding: runs/detect/dentex_train/weights/ (stored 0%)\n",
      "  adding: runs/detect/dentex_train/weights/best.pt (deflated 11%)\n",
      "  adding: runs/detect/dentex_train/weights/last.pt (deflated 11%)\n",
      "  adding: runs/detect/dentex_train/F1_curve.png (deflated 12%)\n",
      "  adding: runs/detect/dentex_train/train_batch0.jpg (deflated 8%)\n",
      "  adding: runs/detect/dentex_train/val_batch2_pred.jpg (deflated 11%)\n",
      "  adding: runs/detect/dentex_train/val_batch2_labels.jpg (deflated 10%)\n",
      "  adding: runs/detect/dentex_train/P_curve.png (deflated 8%)\n",
      "  adding: runs/detect/dentex_train/val_batch0_labels.jpg (deflated 10%)\n",
      "  adding: runs/detect/dentex_train/R_curve.png (deflated 11%)\n",
      "  adding: runs/detect/dentex_train/confusion_matrix_normalized.png (deflated 25%)\n",
      "  adding: runs/detect/dentex_train/train_batch2382.jpg (deflated 20%)\n",
      "  adding: runs/detect/dentex_train/val_batch1_labels.jpg (deflated 11%)\n",
      "  adding: runs/detect/dentex_train/results.png (deflated 8%)\n",
      "  adding: runs/detect/dentex_train/train_batch1.jpg (deflated 8%)\n",
      "  adding: runs/detect/dentex_train/confusion_matrix.png (deflated 24%)\n",
      "  adding: runs/detect/dentex_train/results.csv (deflated 61%)\n",
      "  adding: runs/detect/dentex_train/args.yaml (deflated 53%)\n",
      "  adding: runs/detect/dentex_train/PR_curve.png (deflated 11%)\n",
      "  adding: runs/detect/dentex_train/train_batch2.jpg (deflated 6%)\n",
      "  adding: runs/detect/dentex_train3/ (stored 0%)\n",
      "  adding: runs/detect/dentex_train3/val_14.jpg (deflated 0%)\n",
      "  adding: runs/detect/dentex_train3/labels/ (stored 0%)\n",
      "  adding: runs/detect/dentex_train3/labels/val_14.txt (deflated 32%)\n",
      "  adding: runs/detect/dentex_train3/crops/ (stored 0%)\n",
      "  adding: runs/detect/dentex_train3/crops/38_Impactado/ (stored 0%)\n",
      "  adding: runs/detect/dentex_train3/crops/38_Impactado/val_14.jpg (deflated 2%)\n",
      "  adding: runs/detect/dentex_train3/crops/48_Impactado/ (stored 0%)\n",
      "  adding: runs/detect/dentex_train3/crops/48_Impactado/val_14.jpg (deflated 2%)\n",
      "  adding: runs/detect/dentex_train4/ (stored 0%)\n",
      "  adding: runs/detect/dentex_train4/val_batch0_pred.jpg (deflated 11%)\n",
      "  adding: runs/detect/dentex_train4/val_batch1_pred.jpg (deflated 11%)\n",
      "  adding: runs/detect/dentex_train4/F1_curve.png (deflated 12%)\n",
      "  adding: runs/detect/dentex_train4/val_batch2_pred.jpg (deflated 12%)\n",
      "  adding: runs/detect/dentex_train4/val_batch2_labels.jpg (deflated 11%)\n",
      "  adding: runs/detect/dentex_train4/P_curve.png (deflated 8%)\n",
      "  adding: runs/detect/dentex_train4/val_batch0_labels.jpg (deflated 10%)\n",
      "  adding: runs/detect/dentex_train4/R_curve.png (deflated 11%)\n",
      "  adding: runs/detect/dentex_train4/confusion_matrix_normalized.png (deflated 25%)\n",
      "  adding: runs/detect/dentex_train4/val_batch1_labels.jpg (deflated 10%)\n",
      "  adding: runs/detect/dentex_train4/confusion_matrix.png (deflated 24%)\n",
      "  adding: runs/detect/dentex_train4/PR_curve.png (deflated 11%)\n"
     ]
    }
   ],
   "source": [
    "!zip -r runs.zip runs/"
   ]
  },
  {
   "cell_type": "code",
   "execution_count": 20,
   "metadata": {
    "colab": {
     "base_uri": "https://localhost:8080/",
     "height": 17
    },
    "id": "d5SoRmKOOQvN",
    "outputId": "0f42aa2c-e041-4338-b748-304fb55f7c01"
   },
   "outputs": [
    {
     "data": {
      "application/javascript": [
       "\n",
       "    async function download(id, filename, size) {\n",
       "      if (!google.colab.kernel.accessAllowed) {\n",
       "        return;\n",
       "      }\n",
       "      const div = document.createElement('div');\n",
       "      const label = document.createElement('label');\n",
       "      label.textContent = `Downloading \"${filename}\": `;\n",
       "      div.appendChild(label);\n",
       "      const progress = document.createElement('progress');\n",
       "      progress.max = size;\n",
       "      div.appendChild(progress);\n",
       "      document.body.appendChild(div);\n",
       "\n",
       "      const buffers = [];\n",
       "      let downloaded = 0;\n",
       "\n",
       "      const channel = await google.colab.kernel.comms.open(id);\n",
       "      // Send a message to notify the kernel that we're ready.\n",
       "      channel.send({})\n",
       "\n",
       "      for await (const message of channel.messages) {\n",
       "        // Send a message to notify the kernel that we're ready.\n",
       "        channel.send({})\n",
       "        if (message.buffers) {\n",
       "          for (const buffer of message.buffers) {\n",
       "            buffers.push(buffer);\n",
       "            downloaded += buffer.byteLength;\n",
       "            progress.value = downloaded;\n",
       "          }\n",
       "        }\n",
       "      }\n",
       "      const blob = new Blob(buffers, {type: 'application/binary'});\n",
       "      const a = document.createElement('a');\n",
       "      a.href = window.URL.createObjectURL(blob);\n",
       "      a.download = filename;\n",
       "      div.appendChild(a);\n",
       "      a.click();\n",
       "      div.remove();\n",
       "    }\n",
       "  "
      ],
      "text/plain": [
       "<IPython.core.display.Javascript object>"
      ]
     },
     "metadata": {},
     "output_type": "display_data"
    },
    {
     "data": {
      "application/javascript": [
       "download(\"download_d7300a58-dce3-4372-80e9-e5d2c0a08c31\", \"runs.zip\", 21802738)"
      ],
      "text/plain": [
       "<IPython.core.display.Javascript object>"
      ]
     },
     "metadata": {},
     "output_type": "display_data"
    }
   ],
   "source": [
    "from google.colab import files\n",
    "files.download(\"runs.zip\")"
   ]
  }
 ],
 "metadata": {
  "accelerator": "GPU",
  "colab": {
   "gpuType": "T4",
   "provenance": []
  },
  "kernelspec": {
   "display_name": "Python 3 (ipykernel)",
   "language": "python",
   "name": "python3"
  },
  "language_info": {
   "codemirror_mode": {
    "name": "ipython",
    "version": 3
   },
   "file_extension": ".py",
   "mimetype": "text/x-python",
   "name": "python",
   "nbconvert_exporter": "python",
   "pygments_lexer": "ipython3",
   "version": "3.12.3"
  }
 },
 "nbformat": 4,
 "nbformat_minor": 4
}
