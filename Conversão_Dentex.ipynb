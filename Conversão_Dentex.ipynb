{
 "cells": [
  {
   "cell_type": "code",
   "execution_count": 1,
   "id": "0b7c2f9d-8bfd-4803-a8ad-b41707c25db4",
   "metadata": {},
   "outputs": [],
   "source": [
    "import os\n",
    "import json\n",
    "from shutil import copy2\n",
    "from collections import defaultdict"
   ]
  },
  {
   "cell_type": "code",
   "execution_count": null,
   "id": "92576273-4314-4e90-b8e7-1f9de42ce937",
   "metadata": {},
   "outputs": [],
   "source": [
    "# Caminhos\n",
    "json_path = r\"\\DENTEX\\training_data\\quadrant-enumeration-disease\\train_quadrant_enumeration_disease.json\"\n",
    "images_dir = r\"\\DENTEX\\training_data\\quadrant-enumeration-disease\\xrays\"\n",
    "output_dir = \"dentex_yolo\"\n",
    "img_out = os.path.join(output_dir, \"images\", \"train\")\n",
    "label_out = os.path.join(output_dir, \"labels\", \"train\")\n",
    "os.makedirs(img_out, exist_ok=True)\n",
    "os.makedirs(label_out, exist_ok=True)"
   ]
  },
  {
   "cell_type": "code",
   "execution_count": 11,
   "id": "4582dea6-c7da-464a-98ec-a98548788507",
   "metadata": {},
   "outputs": [],
   "source": [
    "# Carregar JSON\n",
    "with open(json_path) as f:\n",
    "    data = json.load(f)"
   ]
  },
  {
   "cell_type": "code",
   "execution_count": 12,
   "id": "320bf292-ea20-4f74-97dc-65eeb98a420d",
   "metadata": {},
   "outputs": [],
   "source": [
    "# Mapeamento de imagens\n",
    "id_to_image = {img[\"id\"]: img for img in data[\"images\"]}\n",
    "annotations_by_image = defaultdict(list)\n",
    "classes_set = set()"
   ]
  },
  {
   "cell_type": "code",
   "execution_count": 13,
   "id": "f742179e-b9c6-4854-a81f-ed4e2117ead4",
   "metadata": {},
   "outputs": [],
   "source": [
    "for ann in data[\"annotations\"]:\n",
    "    q = data[\"categories_1\"][ann[\"category_id_1\"]][\"name\"]\n",
    "    n = data[\"categories_2\"][ann[\"category_id_2\"]][\"name\"]\n",
    "    d = data[\"categories_3\"][ann[\"category_id_3\"]][\"name\"]\n",
    "    label = f\"{q}{n}_{d}\"\n",
    "    classes_set.add(label)\n",
    "    annotations_by_image[ann[\"image_id\"]].append((ann[\"bbox\"], label))"
   ]
  },
  {
   "cell_type": "code",
   "execution_count": 14,
   "id": "cd61b853-88e7-4f69-95dd-ab70728bcd75",
   "metadata": {},
   "outputs": [],
   "source": [
    "# Indexar classes\n",
    "classes = sorted(classes_set)\n",
    "class_to_id = {name: idx for idx, name in enumerate(classes)}"
   ]
  },
  {
   "cell_type": "code",
   "execution_count": 16,
   "id": "3336e801-18a2-4ebe-b2df-08b72ffafe52",
   "metadata": {},
   "outputs": [],
   "source": [
    "# Salvar labels YOLO\n",
    "for image_id, anns in annotations_by_image.items():\n",
    "    img = id_to_image[image_id]\n",
    "    width, height = img[\"width\"], img[\"height\"]\n",
    "    filename = img[\"file_name\"]\n",
    "    txt_path = os.path.join(label_out, filename.replace(\".png\", \".txt\"))\n",
    "\n",
    "    with open(txt_path, \"w\") as f:\n",
    "        for bbox, label in anns:\n",
    "            x, y, w, h = bbox\n",
    "            xc = (x + w / 2) / width\n",
    "            yc = (y + h / 2) / height\n",
    "            w /= width\n",
    "            h /= height\n",
    "            class_id = class_to_id[label]\n",
    "            f.write(f\"{class_id} {xc:.6f} {yc:.6f} {w:.6f} {h:.6f}\\n\")\n",
    "\n",
    "    # Copiar imagem\n",
    "    copy2(os.path.join(images_dir, filename), os.path.join(img_out, filename))"
   ]
  },
  {
   "cell_type": "code",
   "execution_count": 17,
   "id": "90627ebe-371c-42dd-8178-11d6db921944",
   "metadata": {},
   "outputs": [],
   "source": [
    "# Salvar classes.txt\n",
    "with open(os.path.join(output_dir, \"classes.txt\"), \"w\") as f:\n",
    "    for name in classes:\n",
    "        f.write(name + \"\\n\")"
   ]
  },
  {
   "cell_type": "code",
   "execution_count": null,
   "id": "8a20d219-4b7a-4f13-ab1f-52def5f661b4",
   "metadata": {},
   "outputs": [
    {
     "name": "stdout",
     "output_type": "stream",
     "text": [
      "✅ Conversão concluída. Total de classes: 97\n"
     ]
    }
   ],
   "source": [
    "\n",
    "# Salvar data.yaml\n",
    "with open(os.path.join(output_dir, \"data.yaml\"), \"w\") as f:\n",
    "    f.write(f'train: {os.path.abspath(img_out)}\\n')\n",
    "    f.write(f'val: {os.path.abspath(img_out)}\\n\\n')  # pode criar split depois\n",
    "    f.write(f'nc: {len(classes)}\\n')\n",
    "    f.write(\"names:\\n\")\n",
    "    for name in classes:\n",
    "        f.write(f'  - {name}\\n')\n",
    "\n",
    "print(f'✅ Conversão concluída. Total de classes: {len(classes)}')"
   ]
  }
 ],
 "metadata": {
  "kernelspec": {
   "display_name": "Python 3 (ipykernel)",
   "language": "python",
   "name": "python3"
  },
  "language_info": {
   "codemirror_mode": {
    "name": "ipython",
    "version": 3
   },
   "file_extension": ".py",
   "mimetype": "text/x-python",
   "name": "python",
   "nbconvert_exporter": "python",
   "pygments_lexer": "ipython3",
   "version": "3.12.3"
  }
 },
 "nbformat": 4,
 "nbformat_minor": 5
}
